{
 "cells": [
  {
   "cell_type": "code",
   "execution_count": 1,
   "id": "e12ebb91",
   "metadata": {},
   "outputs": [],
   "source": [
    "import pandas as pd"
   ]
  },
  {
   "cell_type": "code",
   "execution_count": 2,
   "id": "815c0ac2",
   "metadata": {},
   "outputs": [],
   "source": [
    "cspnj = pd.read_csv(\"cspnj.csv\")"
   ]
  },
  {
   "cell_type": "code",
   "execution_count": 4,
   "id": "8776da2e",
   "metadata": {},
   "outputs": [
    {
     "data": {
      "text/plain": [
       "pandas.core.frame.DataFrame"
      ]
     },
     "execution_count": 4,
     "metadata": {},
     "output_type": "execute_result"
    }
   ],
   "source": [
    "type(cspnj)"
   ]
  },
  {
   "cell_type": "code",
   "execution_count": 5,
   "id": "cd4fffad",
   "metadata": {},
   "outputs": [
    {
     "data": {
      "text/html": [
       "<div>\n",
       "<style scoped>\n",
       "    .dataframe tbody tr th:only-of-type {\n",
       "        vertical-align: middle;\n",
       "    }\n",
       "\n",
       "    .dataframe tbody tr th {\n",
       "        vertical-align: top;\n",
       "    }\n",
       "\n",
       "    .dataframe thead th {\n",
       "        text-align: right;\n",
       "    }\n",
       "</style>\n",
       "<table border=\"1\" class=\"dataframe\">\n",
       "  <thead>\n",
       "    <tr style=\"text-align: right;\">\n",
       "      <th></th>\n",
       "      <th>service</th>\n",
       "      <th>description</th>\n",
       "      <th>url</th>\n",
       "      <th>phone</th>\n",
       "      <th>url_phone</th>\n",
       "      <th>address</th>\n",
       "      <th>action</th>\n",
       "    </tr>\n",
       "  </thead>\n",
       "  <tbody>\n",
       "    <tr>\n",
       "      <th>0</th>\n",
       "      <td>262-HELP (Crisis Response Service)</td>\n",
       "      <td>NaN</td>\n",
       "      <td>NaN</td>\n",
       "      <td>NaN</td>\n",
       "      <td>NaN</td>\n",
       "      <td>NaN</td>\n",
       "      <td>NaN</td>\n",
       "    </tr>\n",
       "    <tr>\n",
       "      <th>1</th>\n",
       "      <td>(NA) Narcotics Anonymous</td>\n",
       "      <td>Narcotics Anonymous of New Jersey provides sup...</td>\n",
       "      <td>https://www.nanj.org/</td>\n",
       "      <td>8009920401</td>\n",
       "      <td>https://www.nanj.org/</td>\n",
       "      <td>\"\"</td>\n",
       "      <td>Call the 24-Hour NA Helpline at 800-992-0401 i...</td>\n",
       "    </tr>\n",
       "    <tr>\n",
       "      <th>2</th>\n",
       "      <td>(211) Food Pantries/Soup Kitchens</td>\n",
       "      <td>The NJ 2-1-1 Partnership provides information ...</td>\n",
       "      <td>https://nj211.org/food-pantries-and-soup-kitchens</td>\n",
       "      <td>NaN</td>\n",
       "      <td>https://nj211.org/food-pantries-and-soup-kitchens</td>\n",
       "      <td>\"\"</td>\n",
       "      <td>Visit the NJ 211 homepage and enter your zip c...</td>\n",
       "    </tr>\n",
       "    <tr>\n",
       "      <th>3</th>\n",
       "      <td>(NA) Recovery</td>\n",
       "      <td>Narcotics Anonymous of New Jersey offers suppo...</td>\n",
       "      <td>https://www.nanj.org/</td>\n",
       "      <td>8009920401</td>\n",
       "      <td>https://www.nanj.org/</td>\n",
       "      <td>```  \\n```</td>\n",
       "      <td>Call the 24-Hour NA Helpline at 800-992-0401 i...</td>\n",
       "    </tr>\n",
       "    <tr>\n",
       "      <th>4</th>\n",
       "      <td>211 Code Blue Alert - NJ Warming Centers</td>\n",
       "      <td>New Jersey Code Blue is a program activated du...</td>\n",
       "      <td>https://nj211.org/njcodeblue</td>\n",
       "      <td>8776521148</td>\n",
       "      <td>https://nj211.org/njcodeblue</td>\n",
       "      <td>8 Gauntt Place, Flemington, NJ 08822</td>\n",
       "      <td>Advocate for NJ 211 to receive full funding in...</td>\n",
       "    </tr>\n",
       "  </tbody>\n",
       "</table>\n",
       "</div>"
      ],
      "text/plain": [
       "                                    service  \\\n",
       "0        262-HELP (Crisis Response Service)   \n",
       "1                  (NA) Narcotics Anonymous   \n",
       "2         (211) Food Pantries/Soup Kitchens   \n",
       "3                             (NA) Recovery   \n",
       "4  211 Code Blue Alert - NJ Warming Centers   \n",
       "\n",
       "                                         description  \\\n",
       "0                                                NaN   \n",
       "1  Narcotics Anonymous of New Jersey provides sup...   \n",
       "2  The NJ 2-1-1 Partnership provides information ...   \n",
       "3  Narcotics Anonymous of New Jersey offers suppo...   \n",
       "4  New Jersey Code Blue is a program activated du...   \n",
       "\n",
       "                                                 url       phone  \\\n",
       "0                                                NaN         NaN   \n",
       "1                              https://www.nanj.org/  8009920401   \n",
       "2  https://nj211.org/food-pantries-and-soup-kitchens         NaN   \n",
       "3                              https://www.nanj.org/  8009920401   \n",
       "4                       https://nj211.org/njcodeblue  8776521148   \n",
       "\n",
       "                                           url_phone  \\\n",
       "0                                                NaN   \n",
       "1                              https://www.nanj.org/   \n",
       "2  https://nj211.org/food-pantries-and-soup-kitchens   \n",
       "3                              https://www.nanj.org/   \n",
       "4                       https://nj211.org/njcodeblue   \n",
       "\n",
       "                                address  \\\n",
       "0                                   NaN   \n",
       "1                                    \"\"   \n",
       "2                                    \"\"   \n",
       "3                            ```  \\n```   \n",
       "4  8 Gauntt Place, Flemington, NJ 08822   \n",
       "\n",
       "                                              action  \n",
       "0                                                NaN  \n",
       "1  Call the 24-Hour NA Helpline at 800-992-0401 i...  \n",
       "2  Visit the NJ 211 homepage and enter your zip c...  \n",
       "3  Call the 24-Hour NA Helpline at 800-992-0401 i...  \n",
       "4  Advocate for NJ 211 to receive full funding in...  "
      ]
     },
     "execution_count": 5,
     "metadata": {},
     "output_type": "execute_result"
    }
   ],
   "source": [
    "cspnj.head()"
   ]
  }
 ],
 "metadata": {
  "kernelspec": {
   "display_name": "cspnj",
   "language": "python",
   "name": "python3"
  },
  "language_info": {
   "codemirror_mode": {
    "name": "ipython",
    "version": 3
   },
   "file_extension": ".py",
   "mimetype": "text/x-python",
   "name": "python",
   "nbconvert_exporter": "python",
   "pygments_lexer": "ipython3",
   "version": "3.10.18"
  }
 },
 "nbformat": 4,
 "nbformat_minor": 5
}
