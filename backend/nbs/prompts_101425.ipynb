{
 "cells": [
  {
   "cell_type": "code",
   "execution_count": 1,
   "id": "9b9dffd1",
   "metadata": {},
   "outputs": [],
   "source": [
    "import sys\n",
    "from pathlib import Path\n",
    "\n",
    "# Add backend folder to Python path\n",
    "backend_path = Path.cwd().parent  # Goes from nbs/ to backend/\n",
    "sys.path.insert(0, str(backend_path))"
   ]
  },
  {
   "cell_type": "code",
   "execution_count": 2,
   "id": "95529560",
   "metadata": {},
   "outputs": [],
   "source": [
    "from app.submodules import construct_response"
   ]
  },
  {
   "cell_type": "code",
   "execution_count": 3,
   "id": "870b5fcf",
   "metadata": {},
   "outputs": [
    {
     "ename": "TypeError",
     "evalue": "construct_response() missing 4 required positional arguments: 'situation', 'all_messages', 'model', and 'organization'",
     "output_type": "error",
     "traceback": [
      "\u001b[0;31m---------------------------------------------------------------------------\u001b[0m",
      "\u001b[0;31mTypeError\u001b[0m                                 Traceback (most recent call last)",
      "Cell \u001b[0;32mIn[3], line 1\u001b[0m\n\u001b[0;32m----> 1\u001b[0m \u001b[43mconstruct_response\u001b[49m\u001b[43m(\u001b[49m\u001b[43m)\u001b[49m\n",
      "\u001b[0;31mTypeError\u001b[0m: construct_response() missing 4 required positional arguments: 'situation', 'all_messages', 'model', and 'organization'"
     ]
    }
   ],
   "source": [
    "construct_response()"
   ]
  }
 ],
 "metadata": {
  "kernelspec": {
   "display_name": "cspnj",
   "language": "python",
   "name": "python3"
  },
  "language_info": {
   "codemirror_mode": {
    "name": "ipython",
    "version": 3
   },
   "file_extension": ".py",
   "mimetype": "text/x-python",
   "name": "python",
   "nbconvert_exporter": "python",
   "pygments_lexer": "ipython3",
   "version": "3.10.18"
  }
 },
 "nbformat": 4,
 "nbformat_minor": 5
}
