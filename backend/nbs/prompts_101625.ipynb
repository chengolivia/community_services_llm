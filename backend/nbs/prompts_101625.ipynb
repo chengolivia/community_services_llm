{
 "cells": [
  {
   "cell_type": "markdown",
   "id": "917bbf0b",
   "metadata": {},
   "source": [
    "# Prompt and Response Construction Experiments"
   ]
  },
  {
   "cell_type": "markdown",
   "id": "076ad49d",
   "metadata": {},
   "source": [
    "## Imports and setup"
   ]
  },
  {
   "cell_type": "code",
   "execution_count": 1,
   "id": "57d659a5",
   "metadata": {},
   "outputs": [],
   "source": [
    "%load_ext autoreload\n",
    "%autoreload 2"
   ]
  },
  {
   "cell_type": "code",
   "execution_count": 2,
   "id": "9b9dffd1",
   "metadata": {},
   "outputs": [],
   "source": [
    "import sys\n",
    "from pathlib import Path\n",
    "\n",
    "# Add backend folder to Python path\n",
    "backend_path = Path.cwd().parent  # Goes from nbs/ to backend/\n",
    "sys.path.insert(0, str(backend_path))"
   ]
  },
  {
   "cell_type": "code",
   "execution_count": 3,
   "id": "f15f8232",
   "metadata": {},
   "outputs": [
    {
     "name": "stderr",
     "output_type": "stream",
     "text": [
      "/Users/naveenr/miniconda3/envs/feedback/lib/python3.8/site-packages/sentence_transformers/cross_encoder/CrossEncoder.py:13: TqdmWarning: IProgress not found. Please update jupyter and ipywidgets. See https://ipywidgets.readthedocs.io/en/stable/user_install.html\n",
      "  from tqdm.autonotebook import tqdm, trange\n"
     ]
    }
   ],
   "source": [
    "from importlib import reload\n",
    "import app.submodules\n",
    "import importlib\n",
    "import app.utils\n",
    "import app.rag_utils\n",
    "import app.submodules"
   ]
  },
  {
   "cell_type": "code",
   "execution_count": 4,
   "id": "9b5e6b7a",
   "metadata": {},
   "outputs": [
    {
     "name": "stdout",
     "output_type": "stream",
     "text": [
      "\n"
     ]
    }
   ],
   "source": [
    "!echo $OPENAI_API_KEY"
   ]
  },
  {
   "cell_type": "code",
   "execution_count": 4,
   "id": "95529560",
   "metadata": {},
   "outputs": [],
   "source": [
    "from app.submodules import construct_response"
   ]
  },
  {
   "cell_type": "markdown",
   "id": "20e48e8a",
   "metadata": {},
   "source": [
    "## Basic Example"
   ]
  },
  {
   "cell_type": "code",
   "execution_count": 5,
   "id": "6ce5310b",
   "metadata": {},
   "outputs": [],
   "source": [
    "TEXT = \"I am located in Vineland, NJ off of Landis Avenue. Do you have information on the soup kitchens in Vineland? I want specific links and addresses\"\n",
    "PREVIOUS_TEXT = []\n",
    "MODEL = \"copilot\"\n",
    "ORG = \"cspnj\""
   ]
  },
  {
   "cell_type": "code",
   "execution_count": 6,
   "id": "870b5fcf",
   "metadata": {},
   "outputs": [],
   "source": [
    "generator = construct_response(TEXT, PREVIOUS_TEXT, MODEL, ORG)"
   ]
  },
  {
   "cell_type": "code",
   "execution_count": 7,
   "id": "3d7461fe",
   "metadata": {},
   "outputs": [
    {
     "ename": "OpenAIError",
     "evalue": "The api_key client option must be set either by passing api_key to the client or by setting the OPENAI_API_KEY environment variable",
     "output_type": "error",
     "traceback": [
      "\u001b[0;31m---------------------------------------------------------------------------\u001b[0m",
      "\u001b[0;31mOpenAIError\u001b[0m                               Traceback (most recent call last)",
      "Cell \u001b[0;32mIn[7], line 2\u001b[0m\n\u001b[1;32m      1\u001b[0m full_response \u001b[38;5;241m=\u001b[39m \u001b[38;5;124m\"\u001b[39m\u001b[38;5;124m\"\u001b[39m\n\u001b[0;32m----> 2\u001b[0m \u001b[38;5;28;01mfor\u001b[39;00m chunk \u001b[38;5;129;01min\u001b[39;00m generator:\n\u001b[1;32m      3\u001b[0m     full_response \u001b[38;5;241m+\u001b[39m\u001b[38;5;241m=\u001b[39m chunk\u001b[38;5;241m.\u001b[39mreplace(\u001b[38;5;124m\"\u001b[39m\u001b[38;5;130;01m\\n\u001b[39;00m\u001b[38;5;130;01m\\n\u001b[39;00m\u001b[38;5;124m\"\u001b[39m,\u001b[38;5;124m\"\u001b[39m\u001b[38;5;124m\"\u001b[39m)\u001b[38;5;241m.\u001b[39mreplace(\u001b[38;5;124m\"\u001b[39m\u001b[38;5;124mdata: \u001b[39m\u001b[38;5;124m\"\u001b[39m,\u001b[38;5;124m\"\u001b[39m\u001b[38;5;124m\"\u001b[39m)\n",
      "File \u001b[0;32m~/Downloads/community_services_llm-experiments/backend/app/submodules.py:254\u001b[0m, in \u001b[0;36mconstruct_response\u001b[0;34m(situation, all_messages, model, organization)\u001b[0m\n\u001b[1;32m    235\u001b[0m \u001b[38;5;66;03m# -- 1) INTENT & verbosity CHECK tiny LLM call --\u001b[39;00m\n\u001b[1;32m    236\u001b[0m intent_and_verbosity_msgs \u001b[38;5;241m=\u001b[39m [\n\u001b[1;32m    237\u001b[0m {\n\u001b[1;32m    238\u001b[0m     \u001b[38;5;124m\"\u001b[39m\u001b[38;5;124mrole\u001b[39m\u001b[38;5;124m\"\u001b[39m: \u001b[38;5;124m\"\u001b[39m\u001b[38;5;124msystem\u001b[39m\u001b[38;5;124m\"\u001b[39m,\n\u001b[0;32m   (...)\u001b[0m\n\u001b[1;32m    252\u001b[0m {\u001b[38;5;124m\"\u001b[39m\u001b[38;5;124mrole\u001b[39m\u001b[38;5;124m\"\u001b[39m: \u001b[38;5;124m\"\u001b[39m\u001b[38;5;124muser\u001b[39m\u001b[38;5;124m\"\u001b[39m, \u001b[38;5;124m\"\u001b[39m\u001b[38;5;124mcontent\u001b[39m\u001b[38;5;124m\"\u001b[39m: situation}\n\u001b[1;32m    253\u001b[0m ]\n\u001b[0;32m--> 254\u001b[0m meta_resp \u001b[38;5;241m=\u001b[39m \u001b[43mcall_chatgpt_api_all_chats\u001b[49m\u001b[43m(\u001b[49m\n\u001b[1;32m    255\u001b[0m \u001b[43m    \u001b[49m\u001b[43mintent_and_verbosity_msgs\u001b[49m\u001b[43m,\u001b[49m\n\u001b[1;32m    256\u001b[0m \u001b[43m    \u001b[49m\u001b[43mstream\u001b[49m\u001b[38;5;241;43m=\u001b[39;49m\u001b[38;5;28;43;01mFalse\u001b[39;49;00m\u001b[43m,\u001b[49m\n\u001b[1;32m    257\u001b[0m \u001b[43m    \u001b[49m\u001b[43mmax_tokens\u001b[49m\u001b[38;5;241;43m=\u001b[39;49m\u001b[38;5;241;43m40\u001b[39;49m\n\u001b[1;32m    258\u001b[0m \u001b[43m\u001b[49m\u001b[43m)\u001b[49m\u001b[38;5;241m.\u001b[39mstrip()\n\u001b[1;32m    262\u001b[0m \u001b[38;5;28;01mtry\u001b[39;00m:\n\u001b[1;32m    263\u001b[0m     meta \u001b[38;5;241m=\u001b[39m json\u001b[38;5;241m.\u001b[39mloads(meta_resp)\n",
      "File \u001b[0;32m~/Downloads/community_services_llm-experiments/backend/app/utils.py:72\u001b[0m, in \u001b[0;36mcall_chatgpt_api_all_chats\u001b[0;34m(all_chats, stream, max_tokens, response_format)\u001b[0m\n\u001b[1;32m     64\u001b[0m     response \u001b[38;5;241m=\u001b[39m openai\u001b[38;5;241m.\u001b[39mchat\u001b[38;5;241m.\u001b[39mcompletions\u001b[38;5;241m.\u001b[39mcreate(\n\u001b[1;32m     65\u001b[0m         model\u001b[38;5;241m=\u001b[39m\u001b[38;5;124m\"\u001b[39m\u001b[38;5;124mgpt-4o-mini\u001b[39m\u001b[38;5;124m\"\u001b[39m,  \n\u001b[1;32m     66\u001b[0m         messages\u001b[38;5;241m=\u001b[39mall_chats,\n\u001b[0;32m   (...)\u001b[0m\n\u001b[1;32m     69\u001b[0m         response_format\u001b[38;5;241m=\u001b[39mresponse_format\n\u001b[1;32m     70\u001b[0m     )\n\u001b[1;32m     71\u001b[0m \u001b[38;5;28;01melse\u001b[39;00m:\n\u001b[0;32m---> 72\u001b[0m     response \u001b[38;5;241m=\u001b[39m \u001b[43mopenai\u001b[49m\u001b[38;5;241;43m.\u001b[39;49m\u001b[43mchat\u001b[49m\u001b[38;5;241;43m.\u001b[39;49m\u001b[43mcompletions\u001b[49m\u001b[38;5;241m.\u001b[39mcreate(\n\u001b[1;32m     73\u001b[0m         model\u001b[38;5;241m=\u001b[39m\u001b[38;5;124m\"\u001b[39m\u001b[38;5;124mgpt-4o-mini\u001b[39m\u001b[38;5;124m\"\u001b[39m,  \n\u001b[1;32m     74\u001b[0m         messages\u001b[38;5;241m=\u001b[39mall_chats,\n\u001b[1;32m     75\u001b[0m         stream\u001b[38;5;241m=\u001b[39mstream,\n\u001b[1;32m     76\u001b[0m         max_tokens\u001b[38;5;241m=\u001b[39mmax_tokens,\n\u001b[1;32m     77\u001b[0m     )\n\u001b[1;32m     79\u001b[0m \u001b[38;5;28;01mif\u001b[39;00m stream:\n\u001b[1;32m     80\u001b[0m     \u001b[38;5;28;01mreturn\u001b[39;00m response\n",
      "File \u001b[0;32m~/miniconda3/envs/feedback/lib/python3.8/site-packages/openai/_utils/_proxy.py:20\u001b[0m, in \u001b[0;36mLazyProxy.__getattr__\u001b[0;34m(self, attr)\u001b[0m\n\u001b[1;32m     19\u001b[0m \u001b[38;5;28;01mdef\u001b[39;00m \u001b[38;5;21m__getattr__\u001b[39m(\u001b[38;5;28mself\u001b[39m, attr: \u001b[38;5;28mstr\u001b[39m) \u001b[38;5;241m-\u001b[39m\u001b[38;5;241m>\u001b[39m \u001b[38;5;28mobject\u001b[39m:\n\u001b[0;32m---> 20\u001b[0m     proxied \u001b[38;5;241m=\u001b[39m \u001b[38;5;28;43mself\u001b[39;49m\u001b[38;5;241;43m.\u001b[39;49m\u001b[43m__get_proxied__\u001b[49m\u001b[43m(\u001b[49m\u001b[43m)\u001b[49m\n\u001b[1;32m     21\u001b[0m     \u001b[38;5;28;01mif\u001b[39;00m \u001b[38;5;28misinstance\u001b[39m(proxied, LazyProxy):\n\u001b[1;32m     22\u001b[0m         \u001b[38;5;28;01mreturn\u001b[39;00m proxied  \u001b[38;5;66;03m# pyright: ignore\u001b[39;00m\n",
      "File \u001b[0;32m~/miniconda3/envs/feedback/lib/python3.8/site-packages/openai/_utils/_proxy.py:55\u001b[0m, in \u001b[0;36mLazyProxy.__get_proxied__\u001b[0;34m(self)\u001b[0m\n\u001b[1;32m     54\u001b[0m \u001b[38;5;28;01mdef\u001b[39;00m \u001b[38;5;21m__get_proxied__\u001b[39m(\u001b[38;5;28mself\u001b[39m) \u001b[38;5;241m-\u001b[39m\u001b[38;5;241m>\u001b[39m T:\n\u001b[0;32m---> 55\u001b[0m     \u001b[38;5;28;01mreturn\u001b[39;00m \u001b[38;5;28;43mself\u001b[39;49m\u001b[38;5;241;43m.\u001b[39;49m\u001b[43m__load__\u001b[49m\u001b[43m(\u001b[49m\u001b[43m)\u001b[49m\n",
      "File \u001b[0;32m~/miniconda3/envs/feedback/lib/python3.8/site-packages/openai/_module_client.py:12\u001b[0m, in \u001b[0;36mChatProxy.__load__\u001b[0;34m(self)\u001b[0m\n\u001b[1;32m     10\u001b[0m \u001b[38;5;129m@override\u001b[39m\n\u001b[1;32m     11\u001b[0m \u001b[38;5;28;01mdef\u001b[39;00m \u001b[38;5;21m__load__\u001b[39m(\u001b[38;5;28mself\u001b[39m) \u001b[38;5;241m-\u001b[39m\u001b[38;5;241m>\u001b[39m resources\u001b[38;5;241m.\u001b[39mChat:\n\u001b[0;32m---> 12\u001b[0m     \u001b[38;5;28;01mreturn\u001b[39;00m \u001b[43m_load_client\u001b[49m\u001b[43m(\u001b[49m\u001b[43m)\u001b[49m\u001b[38;5;241m.\u001b[39mchat\n",
      "File \u001b[0;32m~/miniconda3/envs/feedback/lib/python3.8/site-packages/openai/__init__.py:329\u001b[0m, in \u001b[0;36m_load_client\u001b[0;34m()\u001b[0m\n\u001b[1;32m    313\u001b[0m         _client \u001b[38;5;241m=\u001b[39m _AzureModuleClient(  \u001b[38;5;66;03m# type: ignore\u001b[39;00m\n\u001b[1;32m    314\u001b[0m             api_version\u001b[38;5;241m=\u001b[39mapi_version,\n\u001b[1;32m    315\u001b[0m             azure_endpoint\u001b[38;5;241m=\u001b[39mazure_endpoint,\n\u001b[0;32m   (...)\u001b[0m\n\u001b[1;32m    325\u001b[0m             http_client\u001b[38;5;241m=\u001b[39mhttp_client,\n\u001b[1;32m    326\u001b[0m         )\n\u001b[1;32m    327\u001b[0m         \u001b[38;5;28;01mreturn\u001b[39;00m _client\n\u001b[0;32m--> 329\u001b[0m     _client \u001b[38;5;241m=\u001b[39m \u001b[43m_ModuleClient\u001b[49m\u001b[43m(\u001b[49m\n\u001b[1;32m    330\u001b[0m \u001b[43m        \u001b[49m\u001b[43mapi_key\u001b[49m\u001b[38;5;241;43m=\u001b[39;49m\u001b[43mapi_key\u001b[49m\u001b[43m,\u001b[49m\n\u001b[1;32m    331\u001b[0m \u001b[43m        \u001b[49m\u001b[43morganization\u001b[49m\u001b[38;5;241;43m=\u001b[39;49m\u001b[43morganization\u001b[49m\u001b[43m,\u001b[49m\n\u001b[1;32m    332\u001b[0m \u001b[43m        \u001b[49m\u001b[43mproject\u001b[49m\u001b[38;5;241;43m=\u001b[39;49m\u001b[43mproject\u001b[49m\u001b[43m,\u001b[49m\n\u001b[1;32m    333\u001b[0m \u001b[43m        \u001b[49m\u001b[43mbase_url\u001b[49m\u001b[38;5;241;43m=\u001b[39;49m\u001b[43mbase_url\u001b[49m\u001b[43m,\u001b[49m\n\u001b[1;32m    334\u001b[0m \u001b[43m        \u001b[49m\u001b[43mtimeout\u001b[49m\u001b[38;5;241;43m=\u001b[39;49m\u001b[43mtimeout\u001b[49m\u001b[43m,\u001b[49m\n\u001b[1;32m    335\u001b[0m \u001b[43m        \u001b[49m\u001b[43mmax_retries\u001b[49m\u001b[38;5;241;43m=\u001b[39;49m\u001b[43mmax_retries\u001b[49m\u001b[43m,\u001b[49m\n\u001b[1;32m    336\u001b[0m \u001b[43m        \u001b[49m\u001b[43mdefault_headers\u001b[49m\u001b[38;5;241;43m=\u001b[39;49m\u001b[43mdefault_headers\u001b[49m\u001b[43m,\u001b[49m\n\u001b[1;32m    337\u001b[0m \u001b[43m        \u001b[49m\u001b[43mdefault_query\u001b[49m\u001b[38;5;241;43m=\u001b[39;49m\u001b[43mdefault_query\u001b[49m\u001b[43m,\u001b[49m\n\u001b[1;32m    338\u001b[0m \u001b[43m        \u001b[49m\u001b[43mhttp_client\u001b[49m\u001b[38;5;241;43m=\u001b[39;49m\u001b[43mhttp_client\u001b[49m\u001b[43m,\u001b[49m\n\u001b[1;32m    339\u001b[0m \u001b[43m    \u001b[49m\u001b[43m)\u001b[49m\n\u001b[1;32m    340\u001b[0m     \u001b[38;5;28;01mreturn\u001b[39;00m _client\n\u001b[1;32m    342\u001b[0m \u001b[38;5;28;01mreturn\u001b[39;00m _client\n",
      "File \u001b[0;32m~/miniconda3/envs/feedback/lib/python3.8/site-packages/openai/_client.py:116\u001b[0m, in \u001b[0;36mOpenAI.__init__\u001b[0;34m(self, api_key, organization, project, base_url, websocket_base_url, timeout, max_retries, default_headers, default_query, http_client, _strict_response_validation)\u001b[0m\n\u001b[1;32m    114\u001b[0m     api_key \u001b[38;5;241m=\u001b[39m os\u001b[38;5;241m.\u001b[39menviron\u001b[38;5;241m.\u001b[39mget(\u001b[38;5;124m\"\u001b[39m\u001b[38;5;124mOPENAI_API_KEY\u001b[39m\u001b[38;5;124m\"\u001b[39m)\n\u001b[1;32m    115\u001b[0m \u001b[38;5;28;01mif\u001b[39;00m api_key \u001b[38;5;129;01mis\u001b[39;00m \u001b[38;5;28;01mNone\u001b[39;00m:\n\u001b[0;32m--> 116\u001b[0m     \u001b[38;5;28;01mraise\u001b[39;00m OpenAIError(\n\u001b[1;32m    117\u001b[0m         \u001b[38;5;124m\"\u001b[39m\u001b[38;5;124mThe api_key client option must be set either by passing api_key to the client or by setting the OPENAI_API_KEY environment variable\u001b[39m\u001b[38;5;124m\"\u001b[39m\n\u001b[1;32m    118\u001b[0m     )\n\u001b[1;32m    119\u001b[0m \u001b[38;5;28mself\u001b[39m\u001b[38;5;241m.\u001b[39mapi_key \u001b[38;5;241m=\u001b[39m api_key\n\u001b[1;32m    121\u001b[0m \u001b[38;5;28;01mif\u001b[39;00m organization \u001b[38;5;129;01mis\u001b[39;00m \u001b[38;5;28;01mNone\u001b[39;00m:\n",
      "\u001b[0;31mOpenAIError\u001b[0m: The api_key client option must be set either by passing api_key to the client or by setting the OPENAI_API_KEY environment variable"
     ]
    }
   ],
   "source": [
    "full_response = \"\"\n",
    "for chunk in generator:\n",
    "    full_response += chunk.replace(\"\\n\\n\",\"\").replace(\"data: \",\"\")"
   ]
  },
  {
   "cell_type": "code",
   "execution_count": null,
   "id": "eac15427",
   "metadata": {},
   "outputs": [],
   "source": [
    "formatted_response = full_response.replace(\"<br/>\",\"\\n\")"
   ]
  },
  {
   "cell_type": "code",
   "execution_count": 9,
   "id": "d0b6a97a",
   "metadata": {},
   "outputs": [
    {
     "name": "stdout",
     "output_type": "stream",
     "text": [
      "It sounds like there's a strong intention to engage with community resources and enhance wellbeing. Here are a few soup kitchens in Vineland that can help meet your goals:\n",
      "\n",
      "1. **Vineland Soup Kitchen**  \n",
      "   - **Address:** Corner of 7th and Landis Avenues, Vineland, NJ  \n",
      "   - **Phone:** 856-692-2603  \n",
      "   - **Website:** [vinelandsoupkitchen.org](https://www.vinelandsoupkitchen.org/)  \n",
      "   - **Hours:** Monday - Friday: Breakfast 8:00 AM - 9:00 AM, Lunch 10:00 AM - 11:30 AM  \n",
      "\n",
      "2. **Salvation Army of New Jersey - Vineland Corps**  \n",
      "   - **Address:** 733 East Chestnut Avenue, Vineland, NJ 08362  \n",
      "   - **Phone:** 856-696-5050  \n",
      "   - **Website:** [easternusa.salvationarmy.org](https://easternusa.salvationarmy.org/new-jersey/vineland/)  \n",
      "   - **Hours:** Monday - Thursday: 9:00 AM - 2:00 PM  \n",
      "\n",
      "3. **Catholic Charities of Cumberland**  \n",
      "   - **Address:** 810 E Montrose St, Vineland, NJ 08360  \n",
      "   - **Phone:** 856-691-1841  \n",
      "   - **Website:** [catholiccharitiessouthjersey.org](https://catholiccharitiessouthjersey.org/cumberland-county/)  \n",
      "   - **Hours:** Monday, Wednesday, Friday: 8:30 AM - 4 PM; Tuesday, Thursday: 8:30 AM - 12 PM  \n",
      "\n",
      "These locations can provide not only meals but a sense of community too, which aligns well with the social and emotional dimensions of wellness in your goals. \n",
      "\n",
      "Would you like to discuss how to weave volunteering at these soup kitchens into the member's schedule or any specific challenges they might face in this process?[DONE]\n"
     ]
    }
   ],
   "source": [
    "print(formatted_response)"
   ]
  },
  {
   "cell_type": "markdown",
   "id": "f73d6778",
   "metadata": {},
   "source": [
    "### Code Details\n",
    "Modified the prompts for goals, questions, and resources\n",
    "Additionally, avoided the use of benefits, and further resources in the submodules code\n",
    "Finally, ran a line that took all the resources, and removed the extraneous ones (so we have a condensed version beforehand); reduced the number of resources per need from k=25 down to k=5"
   ]
  },
  {
   "cell_type": "markdown",
   "id": "0b24d4cf",
   "metadata": {},
   "source": [
    "## Further testing\n",
    "\n",
    "- Use `importlib.reload()` to avoid re-generating batches"
   ]
  },
  {
   "cell_type": "code",
   "execution_count": 8,
   "id": "788e0f4c",
   "metadata": {},
   "outputs": [],
   "source": [
    "# Reload module after making changes\n",
    "# If you changed other dependences, reload them too!\n",
    "reload(app.utils)\n",
    "reload(app.rag_utils)\n",
    "reload(app.submodules)\n",
    "from app.submodules import construct_response"
   ]
  },
  {
   "cell_type": "code",
   "execution_count": 9,
   "id": "375f7735",
   "metadata": {},
   "outputs": [],
   "source": [
    "# Examples\n",
    "test_cases = [\n",
    "    (\"Hello\", \"copilot\"), \n",
    "    (\"_MEDIUM_VERBOSITY_EG_\", \"copilot\"), \n",
    "]"
   ]
  }
 ],
 "metadata": {
  "kernelspec": {
   "display_name": "cspnj",
   "language": "python",
   "name": "python3"
  },
  "language_info": {
   "codemirror_mode": {
    "name": "ipython",
    "version": 3
   },
   "file_extension": ".py",
   "mimetype": "text/x-python",
   "name": "python",
   "nbconvert_exporter": "python",
   "pygments_lexer": "ipython3",
   "version": "3.8.20"
  }
 },
 "nbformat": 4,
 "nbformat_minor": 5
}
