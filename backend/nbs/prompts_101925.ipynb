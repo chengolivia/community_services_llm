{
 "cells": [
  {
   "cell_type": "markdown",
   "id": "917bbf0b",
   "metadata": {},
   "source": [
    "# Prompt and Response Construction Experiments"
   ]
  },
  {
   "cell_type": "markdown",
   "id": "076ad49d",
   "metadata": {},
   "source": [
    "## Imports and setup"
   ]
  },
  {
   "cell_type": "code",
   "execution_count": 1,
   "id": "57d659a5",
   "metadata": {},
   "outputs": [],
   "source": [
    "%load_ext autoreload\n",
    "%autoreload 2"
   ]
  },
  {
   "cell_type": "code",
   "execution_count": 2,
   "id": "20266c74",
   "metadata": {},
   "outputs": [
    {
     "data": {
      "text/plain": [
       "True"
      ]
     },
     "execution_count": 2,
     "metadata": {},
     "output_type": "execute_result"
    }
   ],
   "source": [
    "from dotenv import load_dotenv\n",
    "load_dotenv()"
   ]
  },
  {
   "cell_type": "code",
   "execution_count": 3,
   "id": "9b9dffd1",
   "metadata": {},
   "outputs": [],
   "source": [
    "import sys\n",
    "from pathlib import Path\n",
    "\n",
    "# Add backend folder to Python path\n",
    "backend_path = Path.cwd().parent  # Goes from nbs/ to backend/\n",
    "sys.path.insert(0, str(backend_path))"
   ]
  },
  {
   "cell_type": "code",
   "execution_count": 4,
   "id": "f15f8232",
   "metadata": {},
   "outputs": [
    {
     "name": "stderr",
     "output_type": "stream",
     "text": [
      "/Users/oliviacheng/miniconda3/envs/cspnj/lib/python3.10/site-packages/sentence_transformers/cross_encoder/CrossEncoder.py:13: TqdmExperimentalWarning: Using `tqdm.autonotebook.tqdm` in notebook mode. Use `tqdm.tqdm` instead to force console mode (e.g. in jupyter console)\n",
      "  from tqdm.autonotebook import tqdm, trange\n",
      "/Users/oliviacheng/miniconda3/envs/cspnj/lib/python3.10/site-packages/requests/__init__.py:86: RequestsDependencyWarning: Unable to find acceptable character detection dependency (chardet or charset_normalizer).\n",
      "  warnings.warn(\n"
     ]
    }
   ],
   "source": [
    "from importlib import reload\n",
    "import app.submodules\n",
    "import importlib\n",
    "import app.utils\n",
    "import app.rag_utils\n",
    "import app.submodules"
   ]
  },
  {
   "cell_type": "code",
   "execution_count": 5,
   "id": "95529560",
   "metadata": {},
   "outputs": [],
   "source": [
    "from app.submodules import construct_response"
   ]
  },
  {
   "cell_type": "markdown",
   "id": "20e48e8a",
   "metadata": {},
   "source": [
    "## Basic Example"
   ]
  },
  {
   "cell_type": "code",
   "execution_count": 6,
   "id": "6ce5310b",
   "metadata": {},
   "outputs": [],
   "source": [
    "TEXT = \"I am located in Vineland, NJ off of Landis Avenue. Do you have information on the soup kitchens in Vineland? I want specific links and addresses\"\n",
    "PREVIOUS_TEXT = []\n",
    "MODEL = \"copilot\"\n",
    "ORG = \"cspnj\""
   ]
  },
  {
   "cell_type": "code",
   "execution_count": 7,
   "id": "870b5fcf",
   "metadata": {},
   "outputs": [],
   "source": [
    "generator = construct_response(TEXT, PREVIOUS_TEXT, MODEL, ORG)"
   ]
  },
  {
   "cell_type": "code",
   "execution_count": 8,
   "id": "3d7461fe",
   "metadata": {},
   "outputs": [
    {
     "name": "stdout",
     "output_type": "stream",
     "text": [
      "[DEBUG] needs_goals=True, verbosity=deep\n",
      "[DEBUG] verbosity=deep → using full orchestration with k=50\n",
      "[DEBUG] copilot pipeline branch (SMART goals + orchestration)\n"
     ]
    },
    {
     "name": "stderr",
     "output_type": "stream",
     "text": [
      "/Users/oliviacheng/projects/research/community_services_llm/backend/app/rag_utils.py:142: UserWarning: pandas only supports SQLAlchemy connectable (engine/connection) or database string URI or sqlite3 DBAPI2 connection. Other DBAPI2 objects are not tested. Please consider using SQLAlchemy.\n",
      "  resources_df = pd.read_sql_query(\"\"\"\n"
     ]
    },
    {
     "name": "stdout",
     "output_type": "stream",
     "text": [
      "All messages [{'role': 'system', 'content': '# Wellbeing SMART Goal Assistant Prompt\\n\\nYou are a thoughtful and knowledgeable chatbot associated with **cspnj**, designed to help clients with their overall wellbeing.  \\nYou guide center members along the **eight dimensions of wellness**: *emotional, physical, occupational, social, spiritual, intellectual, environmental, and financial.*\\n\\n---\\n\\n## Task\\n\\nAt this stage, your role is to **ask purposeful questions** that help clarify the member’s situation and guide them toward meaningful **SMART (Specific, Measurable, Achievable, Realistic, and Timely) goals**.\\n\\nDo **not** provide resources or direct solutions yet — focus only on gathering the right information.\\n\\n---\\n\\n## Guidelines\\n\\n1. **Ask Insightful, Detailed Questions**  \\n   - Include questions about the member’s **location**, **current situation**, and any **context** that would help shape their SMART goals.  \\n   - For each question, provide a **brief explanation** of why it matters for setting effective goals.  \\n   - Avoid yes/no questions; focus on open-ended ones that encourage reflection and detail.\\n\\n2. **Connect to Wellness Dimensions**  \\n   - When relevant, explain which **dimension(s) of wellness** a question relates to and why.  \\n   - Ensure your questions help uncover what the member wants to achieve or improve in those areas.\\n\\n3. **Be Clear and Supportive**  \\n   - Use warm, professional language that invites collaboration.  \\n   - Show how each question helps build a clearer path toward realistic and measurable goals.\\n\\n4. **Do Not Provide Answers or Resources Yet**  \\n   - Your task is **only** to ask questions and explain their purpose at this point.  \\n   - The next stage will involve offering guidance or connecting to resources.\\n\\n---\\n\\n## Example Format\\n\\n> **Question:** What is the member currently hoping to improve in their daily routine or overall wellbeing?  \\n> **Why it matters:** This helps identify which wellness dimensions are most relevant and forms the basis for setting specific, measurable goals.  \\n\\n> **Question:** Where is the member currently located, and do they have access to transportation?  \\n> **Why it matters:** Understanding location and mobility helps ensure any future goals or resources are realistic and achievable.\\n'}, {'role': 'user', 'content': 'I am located in Vineland, NJ off of Landis Avenue. Do you have information on the soup kitchens in Vineland? I want specific links and addresses'}]\n",
      "Initial ['**Goal:** Volunteer at one local soup kitchen in Vineland for at least 2 hours every week for the next month.  \\n**Dimensions:** Social, Occupational  \\n**Success metrics:** 4 volunteering sessions completed; engagement with at least 5 individuals served.  \\n**Timeline:** Next 4 weeks, starting this week.  \\n**Key steps:**  \\n1. Research local soup kitchens in Vineland.  \\n2. Contact a soup kitchen to confirm volunteer opportunities and schedule.  \\n**Potential barriers & mitigation:** Lack of availability — be flexible with scheduling or explore multiple soup kitchens.  \\n\\n**Goal:** Prepare a meal at home once a week and donate it to the local soup kitchen for the next month.  \\n**Dimensions:** Physical, Social  \\n**Success metrics:** 4 meals prepared and donated; positive feedback received from kitchen staff.  \\n**Timeline:** Next 4 weeks, starting this week.  \\n**Key steps:**  \\n1. Choose simple and nutritious recipes to prepare.  \\n2. Purchase ingredients necessary for the meals.  \\n**Potential barriers & mitigation:** Limited cooking experience — opt for simpler recipes or seek help from friends.  \\n\\n**Goal:** Establish a support network by connecting with at least 2 individuals at the soup kitchen over the next month.  \\n**Dimensions:** Social, Emotional  \\n**Success metrics:** 2 connections made; self-reported increase in social support.  \\n**Timeline:** Next 4 weeks, starting this week.  \\n**Key steps:**  \\n1. Initiate conversations during volunteering or meal donation sessions.  \\n2. Exchange contact information if appropriate.  \\n**Potential barriers & mitigation:** Difficulty in initiating conversation — prepare some conversation starters to ease interaction.', 'I understand your interest in finding soup kitchens in Vineland, NJ, but at this stage, I’m here to help you explore your wellbeing and set meaningful goals.  \\n\\n**Question:** How does accessing a soup kitchen fit into your overall wellbeing goals?  \\n**Why it matters:** Understanding your motivations can help us identify specific areas of wellness (like financial, social, or nutritional) that you want to improve and shape goals accordingly.\\n\\n**Question:** What specific needs or resources do you hope to address by utilizing soup kitchens?  \\n**Why it matters:** This can help clarify your immediate goals, whether they relate to nutrition, community support, or financial stability, guiding us toward a more tailored and effective goal-setting process.\\n\\n**Question:** Are there any other dimensions of wellness, such as social or emotional, that you would like to explore in conjunction with accessing food resources?   \\n**Why it matters:** This consideration allows us to create a holistic approach to your wellbeing, ensuring we address multiple areas that contribute to your overall quality of life.\\n\\nYour responses will help us construct a clearer and more actionable path towards your wellbeing goals!', \"I'm sorry, but I can't provide specific links or addresses. However, I can suggest types of resources that could help with your wellbeing needs.\\n\\n[Resource]  \\nName: Local soup kitchens in Vineland, NJ  \\nAction: Visit nearby community centers or libraries to inquire about nearby soup kitchens and their meal schedules.  \\n[/Resource]  \\n\\n[Resource]  \\nName: Food banks operating in Vineland, NJ  \\nAction: Call local churches and food pantries to ask about food distribution times and services available.  \\n[/Resource]  \\n\\n[Resource]  \\nName: Meal programs offering deliveries for seniors or those in need in Vineland  \\nAction: Reach out to local senior centers to learn about meal delivery services that may be available to you.  \\n[/Resource]  \\n\\n[Resource]  \\nName: Community meal events hosted by local nonprofits  \\nAction: Check bulletin boards or community newsletters to find information on free community meals happening soon.  \\n[/Resource]  \"]\n",
      "SMART Goals: **Goal:** Volunteer at one local soup kitchen in Vineland for at least 2 hours every week for the next month.  \n",
      "**Dimensions:** Social, Occupational  \n",
      "**Success metrics:** 4 volunteering sessions completed; engagement with at least 5 individuals served.  \n",
      "**Timeline:** Next 4 weeks, starting this week.  \n",
      "**Key steps:**  \n",
      "1. Research local soup kitchens in Vineland.  \n",
      "2. Contact a soup kitchen to confirm volunteer opportunities and schedule.  \n",
      "**Potential barriers & mitigation:** Lack of availability — be flexible with scheduling or explore multiple soup kitchens.  \n",
      "\n",
      "**Goal:** Prepare a meal at home once a week and donate it to the local soup kitchen for the next month.  \n",
      "**Dimensions:** Physical, Social  \n",
      "**Success metrics:** 4 meals prepared and donated; positive feedback received from kitchen staff.  \n",
      "**Timeline:** Next 4 weeks, starting this week.  \n",
      "**Key steps:**  \n",
      "1. Choose simple and nutritious recipes to prepare.  \n",
      "2. Purchase ingredients necessary for the meals.  \n",
      "**Potential barriers & mitigation:** Limited cooking experience — opt for simpler recipes or seek help from friends.  \n",
      "\n",
      "**Goal:** Establish a support network by connecting with at least 2 individuals at the soup kitchen over the next month.  \n",
      "**Dimensions:** Social, Emotional  \n",
      "**Success metrics:** 2 connections made; self-reported increase in social support.  \n",
      "**Timeline:** Next 4 weeks, starting this week.  \n",
      "**Key steps:**  \n",
      "1. Initiate conversations during volunteering or meal donation sessions.  \n",
      "2. Exchange contact information if appropriate.  \n",
      "**Potential barriers & mitigation:** Difficulty in initiating conversation — prepare some conversation starters to ease interaction.\n",
      "Questions: I understand your interest in finding soup kitchens in Vineland, NJ, but at this stage, I’m here to help you explore your wellbeing and set meaningful goals.  \n",
      "\n",
      "**Question:** How does accessing a soup kitchen fit into your overall wellbeing goals?  \n",
      "**Why it matters:** Understanding your motivations can help us identify specific areas of wellness (like financial, social, or nutritional) that you want to improve and shape goals accordingly.\n",
      "\n",
      "**Question:** What specific needs or resources do you hope to address by utilizing soup kitchens?  \n",
      "**Why it matters:** This can help clarify your immediate goals, whether they relate to nutrition, community support, or financial stability, guiding us toward a more tailored and effective goal-setting process.\n",
      "\n",
      "**Question:** Are there any other dimensions of wellness, such as social or emotional, that you would like to explore in conjunction with accessing food resources?   \n",
      "**Why it matters:** This consideration allows us to create a holistic approach to your wellbeing, ensuring we address multiple areas that contribute to your overall quality of life.\n",
      "\n",
      "Your responses will help us construct a clearer and more actionable path towards your wellbeing goals!\n",
      "Resources (use only these resources):\n",
      "Here is a list of soup kitchens and relevant resources in and around Vineland, NJ:\n",
      "\n",
      "### 1. **Trinity First Hope Center**\n",
      "- **Address:** 100 S 2nd St, Millville, NJ 08332\n",
      "- **Phone:** 856-825-2329\n",
      "- **Description:** An outreach program from First United Methodist Church helping food-insecure families in the community.  \n",
      "- **Website:** [Trinity First Hope Center](https://www.firstumcmillville.org/trinity-first-hope-center/)\n",
      "\n",
      "---\n",
      "\n",
      "### 2. **CUMAC (Center of United Methodists Action in the Community)**\n",
      "- **Address:** 223 Ellison Street, Paterson, NJ 07505\n",
      "- **Phone:** 973-742-5518\n",
      "- **Description:** Focused on fighting hunger and its root causes, offering a marketplace for groceries and basic necessities.  \n",
      "- **Website:** [CUMAC](https://www.cumac.org/)\n",
      "\n",
      "---\n",
      "\n",
      "### 3. **Joseph's House of Camden**\n",
      "- **Address:** 555 Atlantic Avenue, Camden, NJ 08104\n",
      "- **Phone:** 856-246-1087\n",
      "- **Description:** A low-barrier homeless shelter providing support to individuals experiencing homelessness.  \n",
      "- **Website:** [Joseph's House](https://www.jhoc.org/)\n",
      "\n",
      "---\n",
      "\n",
      "### 4. **Food Bank of South Jersey**\n",
      "- **Address:** 1501 John Tipton Blvd, Pennsauken, NJ 08110\n",
      "- **Phone:** 856-662-4884\n",
      "- **Description:** A community food bank dedicated to ending hunger in South Jersey by distributing food and providing resources.  \n",
      "- **Website:** [Food Bank of South Jersey](https://foodbanksj.org)\n",
      "\n",
      "---\n",
      "\n",
      "### 5. **Salvation Army Vineland**\n",
      "- **Address:** 733 E. Landis Avenue, Vineland, NJ 08360\n",
      "- **Phone:** 856-696-5050\n",
      "- **Description:** Offers various social services including food assistance programs for those in need within the community.  \n",
      "- **Website:** [Salvation Army Vineland](https://www.salvationarmy.org)\n",
      "\n",
      "---\n",
      "\n",
      "### 6. **Vineland Elks Lodge #1422**\n",
      "- **Address:** 1855 E. Landis Avenue, Vineland, NJ 08361\n",
      "- **Phone:** 856-691-1641\n",
      "- **Description:** Hosts community meals and various events supporting local residents in need.  \n",
      "- **Website:** [Vineland Elks Lodge](http://www.elks.org/)\n",
      "\n",
      "---\n",
      "\n",
      "This list should provide a range of options for you to find food assistance in Vineland, NJ. Please check their websites or contact them directly for details on operating hours and services offered.\n"
     ]
    }
   ],
   "source": [
    "full_response = \"\"\n",
    "for chunk in generator:\n",
    "    full_response += chunk.replace(\"\\n\\n\",\"\").replace(\"data: \",\"\")"
   ]
  },
  {
   "cell_type": "code",
   "execution_count": 9,
   "id": "eac15427",
   "metadata": {},
   "outputs": [],
   "source": [
    "formatted_response = full_response.replace(\"<br/>\",\"\\n\")"
   ]
  },
  {
   "cell_type": "code",
   "execution_count": 10,
   "id": "d0b6a97a",
   "metadata": {},
   "outputs": [
    {
     "name": "stdout",
     "output_type": "stream",
     "text": [
      "It sounds like you're doing a wonderful job of thinking through how to assist in your community while also supporting your own wellbeing! There are several soup kitchens and food assistance resources in and around Vineland, NJ, that align well with your goals of volunteering and preparing meals for donation.\n",
      "\n",
      "Here are some options you can explore:\n",
      "\n",
      "1. **Salvation Army Vineland**  \n",
      "   - **Address:** 733 E. Landis Avenue, Vineland, NJ 08360  \n",
      "   - **Phone:** 856-696-5050  \n",
      "   - **Website:** [Salvation Army Vineland](https://www.salvationarmy.org)  \n",
      "\n",
      "2. **Vineland Elks Lodge #1422**  \n",
      "   - **Address:** 1855 E. Landis Avenue, Vineland, NJ 08361  \n",
      "   - **Phone:** 856-691-1641  \n",
      "   - **Website:** [Vineland Elks Lodge](http://www.elks.org/)  \n",
      "\n",
      "3. **Trinity First Hope Center** (located in nearby Millville)  \n",
      "   - **Address:** 100 S 2nd St, Millville, NJ 08332  \n",
      "   - **Phone:** 856-825-2329  \n",
      "   - **Website:** [Trinity First Hope Center](https://www.firstumcmillville.org/trinity-first-hope-center/)  \n",
      "\n",
      "These options will not only allow you to fulfill your volunteering goals, but will also help in establishing connections with others in your community, enhancing the **social** and **occupational** dimensions of your wellness. \n",
      "\n",
      "As you consider these resources, how do you see each of them aligning with your goals? Would you like any tips on how to approach contacting them or setting up your volunteer schedule?[DONE]\n"
     ]
    }
   ],
   "source": [
    "print(formatted_response)"
   ]
  },
  {
   "cell_type": "code",
   "execution_count": 11,
   "id": "7b4dd6fc",
   "metadata": {},
   "outputs": [],
   "source": [
    "import pandas as pd\n",
    "import os\n",
    "import psycopg"
   ]
  },
  {
   "cell_type": "code",
   "execution_count": 12,
   "id": "2d864bcd",
   "metadata": {},
   "outputs": [
    {
     "name": "stderr",
     "output_type": "stream",
     "text": [
      "/var/folders/lf/lgn5wxd97mzcmfjqdkjmq1dh0000gn/T/ipykernel_92456/602818015.py:3: UserWarning: pandas only supports SQLAlchemy connectable (engine/connection) or database string URI or sqlite3 DBAPI2 connection. Other DBAPI2 objects are not tested. Please consider using SQLAlchemy.\n",
      "  df = pd.read_sql_query(\"\"\"\n"
     ]
    },
    {
     "name": "stdout",
     "output_type": "stream",
     "text": [
      "  table_name\n",
      "0  resources\n"
     ]
    }
   ],
   "source": [
    "CONNECTION_STRING = os.getenv('RESOURCE_DB_URL')\n",
    "with psycopg.connect(CONNECTION_STRING) as conn:\n",
    "    df = pd.read_sql_query(\"\"\"\n",
    "        SELECT table_name \n",
    "        FROM information_schema.tables \n",
    "        WHERE table_schema = 'public'\n",
    "    \"\"\", conn)\n",
    "    print(df)"
   ]
  },
  {
   "cell_type": "code",
   "execution_count": 13,
   "id": "b4305ec8",
   "metadata": {},
   "outputs": [
    {
     "name": "stderr",
     "output_type": "stream",
     "text": [
      "/var/folders/lf/lgn5wxd97mzcmfjqdkjmq1dh0000gn/T/ipykernel_92456/2679618489.py:2: UserWarning: pandas only supports SQLAlchemy connectable (engine/connection) or database string URI or sqlite3 DBAPI2 connection. Other DBAPI2 objects are not tested. Please consider using SQLAlchemy.\n",
      "  df = pd.read_sql_query(\"\"\"\n"
     ]
    }
   ],
   "source": [
    "with psycopg.connect(CONNECTION_STRING) as conn:\n",
    "    df = pd.read_sql_query(\"\"\"\n",
    "        SELECT * from resources\n",
    "    \"\"\", conn)"
   ]
  },
  {
   "cell_type": "code",
   "execution_count": 14,
   "id": "51084018",
   "metadata": {},
   "outputs": [
    {
     "data": {
      "text/html": [
       "<div>\n",
       "<style scoped>\n",
       "    .dataframe tbody tr th:only-of-type {\n",
       "        vertical-align: middle;\n",
       "    }\n",
       "\n",
       "    .dataframe tbody tr th {\n",
       "        vertical-align: top;\n",
       "    }\n",
       "\n",
       "    .dataframe thead th {\n",
       "        text-align: right;\n",
       "    }\n",
       "</style>\n",
       "<table border=\"1\" class=\"dataframe\">\n",
       "  <thead>\n",
       "    <tr style=\"text-align: right;\">\n",
       "      <th></th>\n",
       "      <th>id</th>\n",
       "      <th>organization</th>\n",
       "      <th>service</th>\n",
       "      <th>description</th>\n",
       "      <th>url</th>\n",
       "      <th>phone</th>\n",
       "      <th>embedding</th>\n",
       "    </tr>\n",
       "  </thead>\n",
       "  <tbody>\n",
       "    <tr>\n",
       "      <th>0</th>\n",
       "      <td>1</td>\n",
       "      <td>cspnj</td>\n",
       "      <td>262-HELP (Crisis Response Service)</td>\n",
       "      <td>NaN</td>\n",
       "      <td>NaN</td>\n",
       "      <td>NaN</td>\n",
       "      <td>[-0.0015057984,-0.04301608,0.015712785,-0.0125...</td>\n",
       "    </tr>\n",
       "    <tr>\n",
       "      <th>1</th>\n",
       "      <td>2</td>\n",
       "      <td>cspnj</td>\n",
       "      <td>(NA) Narcotics Anonymous</td>\n",
       "      <td>Narcotics Anonymous of New Jersey provides sup...</td>\n",
       "      <td>https://www.nanj.org/</td>\n",
       "      <td>8009920401</td>\n",
       "      <td>[-0.034808174,0.07251281,0.008178203,-0.015189...</td>\n",
       "    </tr>\n",
       "    <tr>\n",
       "      <th>2</th>\n",
       "      <td>3</td>\n",
       "      <td>cspnj</td>\n",
       "      <td>(211) Food Pantries/Soup Kitchens</td>\n",
       "      <td>The NJ 2-1-1 Partnership provides information ...</td>\n",
       "      <td>https://nj211.org/food-pantries-and-soup-kitchens</td>\n",
       "      <td>NaN</td>\n",
       "      <td>[-0.008280203,0.06520874,-0.0067741363,-0.0098...</td>\n",
       "    </tr>\n",
       "    <tr>\n",
       "      <th>3</th>\n",
       "      <td>4</td>\n",
       "      <td>cspnj</td>\n",
       "      <td>(NA) Recovery</td>\n",
       "      <td>Narcotics Anonymous of New Jersey offers suppo...</td>\n",
       "      <td>https://www.nanj.org/</td>\n",
       "      <td>8009920401</td>\n",
       "      <td>[-0.027628645,0.08028611,-0.009514642,-0.02050...</td>\n",
       "    </tr>\n",
       "    <tr>\n",
       "      <th>4</th>\n",
       "      <td>5</td>\n",
       "      <td>cspnj</td>\n",
       "      <td>211 Code Blue Alert - NJ Warming Centers</td>\n",
       "      <td>New Jersey Code Blue is a program activated du...</td>\n",
       "      <td>https://nj211.org/njcodeblue</td>\n",
       "      <td>8776521148</td>\n",
       "      <td>[-0.027639408,-0.0037133705,0.00823962,0.02425...</td>\n",
       "    </tr>\n",
       "  </tbody>\n",
       "</table>\n",
       "</div>"
      ],
      "text/plain": [
       "   id organization                                   service  \\\n",
       "0   1        cspnj        262-HELP (Crisis Response Service)   \n",
       "1   2        cspnj                  (NA) Narcotics Anonymous   \n",
       "2   3        cspnj         (211) Food Pantries/Soup Kitchens   \n",
       "3   4        cspnj                             (NA) Recovery   \n",
       "4   5        cspnj  211 Code Blue Alert - NJ Warming Centers   \n",
       "\n",
       "                                         description  \\\n",
       "0                                                NaN   \n",
       "1  Narcotics Anonymous of New Jersey provides sup...   \n",
       "2  The NJ 2-1-1 Partnership provides information ...   \n",
       "3  Narcotics Anonymous of New Jersey offers suppo...   \n",
       "4  New Jersey Code Blue is a program activated du...   \n",
       "\n",
       "                                                 url       phone  \\\n",
       "0                                                NaN         NaN   \n",
       "1                              https://www.nanj.org/  8009920401   \n",
       "2  https://nj211.org/food-pantries-and-soup-kitchens         NaN   \n",
       "3                              https://www.nanj.org/  8009920401   \n",
       "4                       https://nj211.org/njcodeblue  8776521148   \n",
       "\n",
       "                                           embedding  \n",
       "0  [-0.0015057984,-0.04301608,0.015712785,-0.0125...  \n",
       "1  [-0.034808174,0.07251281,0.008178203,-0.015189...  \n",
       "2  [-0.008280203,0.06520874,-0.0067741363,-0.0098...  \n",
       "3  [-0.027628645,0.08028611,-0.009514642,-0.02050...  \n",
       "4  [-0.027639408,-0.0037133705,0.00823962,0.02425...  "
      ]
     },
     "execution_count": 14,
     "metadata": {},
     "output_type": "execute_result"
    }
   ],
   "source": [
    "df.head()"
   ]
  },
  {
   "cell_type": "code",
   "execution_count": 23,
   "id": "75043e4f",
   "metadata": {},
   "outputs": [],
   "source": [
    "for i, s in enumerate(df['description']):\n",
    "    if \"elks lodge\" in s.lower():\n",
    "        print(df.iloc[i])"
   ]
  },
  {
   "cell_type": "code",
   "execution_count": 22,
   "id": "51d87b7a",
   "metadata": {},
   "outputs": [
    {
     "name": "stdout",
     "output_type": "stream",
     "text": [
      "id                                                           1000\n",
      "organization                                                cspnj\n",
      "service              Salvation Army of New Jersey- Vineland Corps\n",
      "description     The Salvation Army Vineland, located at 733 Ea...\n",
      "url             https://easternusa.salvationarmy.org/new-jerse...\n",
      "phone                                                  8566965050\n",
      "embedding       [0.0011713024,0.011972207,0.032044627,0.024858...\n",
      "Name: 1000, dtype: object\n"
     ]
    }
   ],
   "source": [
    "for i, s in enumerate(df['description']):\n",
    "    if \"salvation army vineland\" in s.lower():\n",
    "        print(df.iloc[i])"
   ]
  },
  {
   "cell_type": "code",
   "execution_count": 24,
   "id": "989e307e",
   "metadata": {},
   "outputs": [
    {
     "name": "stdout",
     "output_type": "stream",
     "text": [
      "id                                                           1186\n",
      "organization                                                cspnj\n",
      "service                                 Trinity First Hope Center\n",
      "description     Trinity First Hope Center is located at 100 S ...\n",
      "url             https://www.firstumcmillville.org/trinity-firs...\n",
      "phone                                                  8568252329\n",
      "embedding       [-0.037914954,0.036107354,-0.0012465805,0.0155...\n",
      "Name: 1187, dtype: object\n"
     ]
    }
   ],
   "source": [
    "for i, s in enumerate(df['description']):\n",
    "    if \"trinity first hope\" in s.lower():\n",
    "        print(df.iloc[i])"
   ]
  },
  {
   "cell_type": "markdown",
   "id": "0aa0cdec",
   "metadata": {},
   "source": [
    "## Summary of test:\n",
    "\n",
    "Bot provides correct *resource name* and *URL* and *phone*.\n",
    "\n",
    "Note that even though the resource database contained an incorrect link for Salvation Army Vineland, the AI did not use that link. The AI just provided the general Salvation Army link. "
   ]
  }
 ],
 "metadata": {
  "kernelspec": {
   "display_name": "cspnj",
   "language": "python",
   "name": "python3"
  },
  "language_info": {
   "codemirror_mode": {
    "name": "ipython",
    "version": 3
   },
   "file_extension": ".py",
   "mimetype": "text/x-python",
   "name": "python",
   "nbconvert_exporter": "python",
   "pygments_lexer": "ipython3",
   "version": "3.10.18"
  }
 },
 "nbformat": 4,
 "nbformat_minor": 5
}
