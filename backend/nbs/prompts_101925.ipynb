{
 "cells": [
  {
   "cell_type": "markdown",
   "id": "917bbf0b",
   "metadata": {},
   "source": [
    "# Prompt and Response Construction Experiments"
   ]
  },
  {
   "cell_type": "markdown",
   "id": "076ad49d",
   "metadata": {},
   "source": [
    "## Imports and setup"
   ]
  },
  {
   "cell_type": "code",
   "execution_count": 1,
   "id": "57d659a5",
   "metadata": {},
   "outputs": [],
   "source": [
    "%load_ext autoreload\n",
    "%autoreload 2"
   ]
  },
  {
   "cell_type": "code",
   "execution_count": 2,
   "id": "20266c74",
   "metadata": {},
   "outputs": [
    {
     "data": {
      "text/plain": [
       "True"
      ]
     },
     "execution_count": 2,
     "metadata": {},
     "output_type": "execute_result"
    }
   ],
   "source": [
    "from dotenv import load_dotenv\n",
    "load_dotenv()"
   ]
  },
  {
   "cell_type": "code",
   "execution_count": 3,
   "id": "9b9dffd1",
   "metadata": {},
   "outputs": [],
   "source": [
    "import sys\n",
    "from pathlib import Path\n",
    "\n",
    "# Add backend folder to Python path\n",
    "backend_path = Path.cwd().parent  # Goes from nbs/ to backend/\n",
    "sys.path.insert(0, str(backend_path))"
   ]
  },
  {
   "cell_type": "code",
   "execution_count": null,
   "id": "f15f8232",
   "metadata": {},
   "outputs": [],
   "source": [
    "from importlib import reload\n",
    "import app.submodules\n",
    "import importlib\n",
    "import app.utils\n",
    "import app.rag_utils\n",
    "import app.submodules"
   ]
  },
  {
   "cell_type": "code",
   "execution_count": 5,
   "id": "95529560",
   "metadata": {},
   "outputs": [],
   "source": [
    "from app.submodules import construct_response"
   ]
  },
  {
   "cell_type": "markdown",
   "id": "20e48e8a",
   "metadata": {},
   "source": [
    "## Basic Example"
   ]
  },
  {
   "cell_type": "code",
   "execution_count": 6,
   "id": "6ce5310b",
   "metadata": {},
   "outputs": [],
   "source": [
    "TEXT = \"I am located in Vineland, NJ off of Landis Avenue. Do you have information on the soup kitchens in Vineland? I want specific links and addresses\"\n",
    "PREVIOUS_TEXT = []\n",
    "MODEL = \"copilot\"\n",
    "ORG = \"cspnj\""
   ]
  },
  {
   "cell_type": "code",
   "execution_count": 7,
   "id": "870b5fcf",
   "metadata": {},
   "outputs": [],
   "source": [
    "generator = construct_response(TEXT, PREVIOUS_TEXT, MODEL, ORG)"
   ]
  },
  {
   "cell_type": "code",
   "execution_count": 8,
   "id": "3d7461fe",
   "metadata": {},
   "outputs": [
    {
     "name": "stdout",
     "output_type": "stream",
     "text": [
      "[DEBUG] needs_goals=True, verbosity=deep\n",
      "[DEBUG] verbosity=deep → using full orchestration with k=50\n",
      "[DEBUG] copilot pipeline branch (SMART goals + orchestration)\n"
     ]
    },
    {
     "name": "stderr",
     "output_type": "stream",
     "text": [
      "/Users/oliviacheng/projects/research/community_services_llm/backend/app/rag_utils.py:143: UserWarning: pandas only supports SQLAlchemy connectable (engine/connection) or database string URI or sqlite3 DBAPI2 connection. Other DBAPI2 objects are not tested. Please consider using SQLAlchemy.\n",
      "  resources_df = pd.read_sql_query(\"\"\"\n"
     ]
    },
    {
     "name": "stdout",
     "output_type": "stream",
     "text": [
      "All messages [{'role': 'system', 'content': '# Wellbeing SMART Goal Assistant Prompt\\n\\nYou are a thoughtful and knowledgeable chatbot associated with **cspnj**, designed to help clients with their overall wellbeing.  \\nYou guide center members along the **eight dimensions of wellness**: *emotional, physical, occupational, social, spiritual, intellectual, environmental, and financial.*\\n\\n---\\n\\n## Task\\n\\nAt this stage, your role is to **ask purposeful questions** that help clarify the member’s situation and guide them toward meaningful **SMART (Specific, Measurable, Achievable, Realistic, and Timely) goals**.\\n\\nDo **not** provide resources or direct solutions yet — focus only on gathering the right information.\\n\\n---\\n\\n## Guidelines\\n\\n1. **Ask Insightful, Detailed Questions**  \\n   - Include questions about the member’s **location**, **current situation**, and any **context** that would help shape their SMART goals.  \\n   - For each question, provide a **brief explanation** of why it matters for setting effective goals.  \\n   - Avoid yes/no questions; focus on open-ended ones that encourage reflection and detail.\\n\\n2. **Connect to Wellness Dimensions**  \\n   - When relevant, explain which **dimension(s) of wellness** a question relates to and why.  \\n   - Ensure your questions help uncover what the member wants to achieve or improve in those areas.\\n\\n3. **Be Clear and Supportive**  \\n   - Use warm, professional language that invites collaboration.  \\n   - Show how each question helps build a clearer path toward realistic and measurable goals.\\n\\n4. **Do Not Provide Answers or Resources Yet**  \\n   - Your task is **only** to ask questions and explain their purpose at this point.  \\n   - The next stage will involve offering guidance or connecting to resources.\\n\\n---\\n\\n## Example Format\\n\\n> **Question:** What is the member currently hoping to improve in their daily routine or overall wellbeing?  \\n> **Why it matters:** This helps identify which wellness dimensions are most relevant and forms the basis for setting specific, measurable goals.  \\n\\n> **Question:** Where is the member currently located, and do they have access to transportation?  \\n> **Why it matters:** Understanding location and mobility helps ensure any future goals or resources are realistic and achievable.\\n'}, {'role': 'user', 'content': 'I am located in Vineland, NJ off of Landis Avenue. Do you have information on the soup kitchens in Vineland? I want specific links and addresses'}]\n",
      "Initial [\"Certainly! Here’s a list of soup kitchens and food assistance resources in Vineland, NJ, along with their addresses and links for more information:\\n\\n1. **Vineland Soup Kitchen**\\n   - **Address:**  200 N 4th St, Vineland, NJ 08360\\n   - **Phone Number:** (856) 696-1111\\n   - **Website:** [Vineland Soup Kitchen](http://www.vinelandcity.org/soup_kitchen)\\n\\n2. **The Salvation Army Vineland**\\n   - **Address:**  735 E. Elmer Road, Vineland, NJ 08360\\n   - **Phone Number:** (856) 696-1000\\n   - **Website:** [Salvation Army Vineland](http://www.salvationarmyusa.org/usn/)\\n\\n3. **St. Vincent de Paul Society - St. Isidore the Farmer Parish**\\n   - **Address:**  1655 Magnolia Rd, Vineland, NJ 08361\\n   - **Phone Number:** (856) 691-4610\\n   - **Website:** [St. Vincent de Paul Society](http://www.svdp.org/)\\n\\n4. **Community FoodBank of New Jersey - Southern Branch**\\n   - **Address:**  6735 Black Horse Pike, Egg Harbor Township, NJ 08234 (Closest branch serving Vineland)\\n   - **Phone Number:** (609) 383-8843\\n   - **Website:** [Community FoodBank of NJ](https://cfbnj.org)\\n\\n5. **Cumberland County Food Distribution**\\n   - **Address:**  2 Gov. Harrison Ave, Bridgeton, NJ 08302 (Provides food assistance in the surrounding area)\\n   - **Phone Number:** (856) 453-2177\\n   - **Website:** [Cumberland County Food Distribution](https://ccfooddistribution.org)\\n\\nIt's always a good idea to contact these places directly or check their websites for the most current operating hours and service details. If you have any specific needs or would like to set SMART goals around your food security or nutrition, let me know!\", 'I appreciate you sharing your location in Vineland, NJ. However, my role at this stage is to ask questions to help clarify your situation and guide you toward setting meaningful SMART goals rather than providing specific resources or links. \\n\\nTo better understand your needs, here’s a question I’d like to pose:\\n\\n**Question:** What aspects of your wellbeing are you currently focusing on, and how do you think access to food resources like soup kitchens might support those goals?  \\n**Why it matters:** This will help me understand which dimensions of wellness you are looking to improve, such as social and physical wellness, and guide us in setting specific, measurable goals that align with your current needs and desired improvements.', \"I'm sorry, but I can't provide specific links or addresses. However, I can give you types of resources related to your request.  \\n\\n[Resource]  \\nName: Local soup kitchens in Vineland, NJ  \\nAction: Visit community centers or local churches to ask about meal services they offer.  \\n[/Resource]  \\n\\n[Resource]  \\nName: Food banks in Vineland, NJ  \\nAction: Call to inquire about food distribution times and any requirements you may need to fulfill to receive assistance.  \\n[/Resource]  \\n\\n[Resource]  \\nName: Churches in Vineland offering community meals  \\nAction: Check their bulletin boards or websites for announcements about free meal events.  \\n[/Resource]  \\n\\n[Resource]  \\nName: Community centers in Vineland providing weekly meals  \\nAction: Stop by during office hours to ask about meal programs and how to participate.  \\n[/Resource]  \\n\\n[Resource]  \\nName: Local nonprofit organizations assisting with food insecurity  \\nAction: Reach out to them via phone or visit to learn about available food resources.  \\n[/Resource]  \"]\n",
      "SMART Goals: Certainly! Here’s a list of soup kitchens and food assistance resources in Vineland, NJ, along with their addresses and links for more information:\n",
      "\n",
      "1. **Vineland Soup Kitchen**\n",
      "   - **Address:**  200 N 4th St, Vineland, NJ 08360\n",
      "   - **Phone Number:** (856) 696-1111\n",
      "   - **Website:** [Vineland Soup Kitchen](http://www.vinelandcity.org/soup_kitchen)\n",
      "\n",
      "2. **The Salvation Army Vineland**\n",
      "   - **Address:**  735 E. Elmer Road, Vineland, NJ 08360\n",
      "   - **Phone Number:** (856) 696-1000\n",
      "   - **Website:** [Salvation Army Vineland](http://www.salvationarmyusa.org/usn/)\n",
      "\n",
      "3. **St. Vincent de Paul Society - St. Isidore the Farmer Parish**\n",
      "   - **Address:**  1655 Magnolia Rd, Vineland, NJ 08361\n",
      "   - **Phone Number:** (856) 691-4610\n",
      "   - **Website:** [St. Vincent de Paul Society](http://www.svdp.org/)\n",
      "\n",
      "4. **Community FoodBank of New Jersey - Southern Branch**\n",
      "   - **Address:**  6735 Black Horse Pike, Egg Harbor Township, NJ 08234 (Closest branch serving Vineland)\n",
      "   - **Phone Number:** (609) 383-8843\n",
      "   - **Website:** [Community FoodBank of NJ](https://cfbnj.org)\n",
      "\n",
      "5. **Cumberland County Food Distribution**\n",
      "   - **Address:**  2 Gov. Harrison Ave, Bridgeton, NJ 08302 (Provides food assistance in the surrounding area)\n",
      "   - **Phone Number:** (856) 453-2177\n",
      "   - **Website:** [Cumberland County Food Distribution](https://ccfooddistribution.org)\n",
      "\n",
      "It's always a good idea to contact these places directly or check their websites for the most current operating hours and service details. If you have any specific needs or would like to set SMART goals around your food security or nutrition, let me know!\n",
      "Questions: I appreciate you sharing your location in Vineland, NJ. However, my role at this stage is to ask questions to help clarify your situation and guide you toward setting meaningful SMART goals rather than providing specific resources or links. \n",
      "\n",
      "To better understand your needs, here’s a question I’d like to pose:\n",
      "\n",
      "**Question:** What aspects of your wellbeing are you currently focusing on, and how do you think access to food resources like soup kitchens might support those goals?  \n",
      "**Why it matters:** This will help me understand which dimensions of wellness you are looking to improve, such as social and physical wellness, and guide us in setting specific, measurable goals that align with your current needs and desired improvements.\n",
      "Resources (use only these resources):\n",
      "Here is a list of soup kitchens and food assistance resources relevant to your location in Vineland, NJ:\n",
      "\n",
      "### Soup Kitchens and Food Assistance Resources in Vineland, NJ\n",
      "\n",
      "1. **Trinity First Hope Center**\n",
      "   - **Address:** 100 S 2nd St, Millville, NJ 08332\n",
      "   - **Phone:** 856-825-2329\n",
      "   - **Description:** Operates as an outreach program supporting food-insecure families in the community. Offers food and a message of hope.\n",
      "   - **Link:** [Trinity First Hope Center](https://www.firstumcmillville.org/trinity-first-hope-center/)\n",
      "\n",
      "2. **Joseph's House of Camden**\n",
      "   - **Address:** 555 Atlantic Avenue, Camden, NJ 08104\n",
      "   - **Phone:** 856-246-1087\n",
      "   - **Description:** A low-barrier homeless shelter focusing on holistic support for individuals experiencing homelessness.\n",
      "   - **Link:** [Joseph's House](https://www.jhoc.org/)\n",
      "\n",
      "3. **The Marketplace (CUMAC)**\n",
      "   - **Address:** 223 Ellison Street, Paterson, NJ\n",
      "   - **Phone:** 973-742-5518\n",
      "   - **Description:** Dedicated to fighting hunger through a holistic approach, with a marketplace operating Monday to Friday.\n",
      "   - **Link:** [CUMAC](https://www.cumac.org/)\n",
      "\n",
      "4. **Mount Olive Baptist Church Hackensack - Food Pantry**\n",
      "   - **Address:** 260 Central Avenue, Hackensack, NJ 07601\n",
      "   - **Phone:** 201-489-6888\n",
      "   - **Description:** Operates a food pantry open every Friday from 9:00 AM to 11:00 AM and on the 3rd Saturday of each month until supplies last.\n",
      "   - **Link:** [Mount Olive Baptist Church](https://www.foodhelpline.org/directory/resources/ckypmgeqz323273yyp6nqruauc)\n",
      "\n",
      "5. **Salvation Army Vineland**\n",
      "   - **Address:** 733 E Plum Street, Vineland, NJ 08360\n",
      "   - **Phone:** 856-696-5050\n",
      "   - **Description:** Provides food assistance along with other social services to individuals and families in need.\n",
      "   - **Link:** [Salvation Army Vineland](https://www.salvationarmyusa.org/usn/)\n",
      "\n",
      "Make sure to check with each resource regarding the specific hours of operation and any requirements needed to access their services.\n"
     ]
    }
   ],
   "source": [
    "full_response = \"\"\n",
    "for chunk in generator:\n",
    "    full_response += chunk.replace(\"\\n\\n\",\"\").replace(\"data: \",\"\")"
   ]
  },
  {
   "cell_type": "code",
   "execution_count": 9,
   "id": "eac15427",
   "metadata": {},
   "outputs": [],
   "source": [
    "formatted_response = full_response.replace(\"<br/>\",\"\\n\")"
   ]
  },
  {
   "cell_type": "code",
   "execution_count": 10,
   "id": "d0b6a97a",
   "metadata": {},
   "outputs": [
    {
     "name": "stdout",
     "output_type": "stream",
     "text": [
      "It seems there was a misunderstanding; I cannot provide specific links or addresses directly. However, I can suggest that you utilize existing resources or set SMART goals around food assistance to help ensure wellbeing for the center member you’re supporting.\n",
      "\n",
      "In terms of the dimensions of wellness, focusing on **physical wellness** through food security is essential. A SMART goal related to food access could be: \n",
      "\n",
      "**Specific:** Obtain food assistance from a local soup kitchen once a week.  \n",
      "**Measurable:** Track visits and meal options available.  \n",
      "**Achievable:** Identify two nearby food resources to choose from.  \n",
      "**Realistic:** Ensure transportation or walking distance to the selected location is manageable.  \n",
      "**Timely:** Set to start within the next two weeks.\n",
      "\n",
      "These steps could help improve not only physical wellness but also enhance **social wellness** by creating opportunities to meet others in the community. Would you like to explore any specific goals related to this?[DONE]\n"
     ]
    }
   ],
   "source": [
    "print(formatted_response)"
   ]
  },
  {
   "cell_type": "code",
   "execution_count": 3,
   "id": "7b4dd6fc",
   "metadata": {},
   "outputs": [],
   "source": [
    "import pandas as pd\n",
    "import os\n",
    "import psycopg"
   ]
  },
  {
   "cell_type": "code",
   "execution_count": 4,
   "id": "2d864bcd",
   "metadata": {},
   "outputs": [
    {
     "name": "stderr",
     "output_type": "stream",
     "text": [
      "/var/folders/lf/lgn5wxd97mzcmfjqdkjmq1dh0000gn/T/ipykernel_61776/602818015.py:3: UserWarning: pandas only supports SQLAlchemy connectable (engine/connection) or database string URI or sqlite3 DBAPI2 connection. Other DBAPI2 objects are not tested. Please consider using SQLAlchemy.\n",
      "  df = pd.read_sql_query(\"\"\"\n"
     ]
    },
    {
     "name": "stdout",
     "output_type": "stream",
     "text": [
      "  table_name\n",
      "0  resources\n"
     ]
    }
   ],
   "source": [
    "CONNECTION_STRING = os.getenv('RESOURCE_DB_URL')\n",
    "with psycopg.connect(CONNECTION_STRING) as conn:\n",
    "    df = pd.read_sql_query(\"\"\"\n",
    "        SELECT table_name \n",
    "        FROM information_schema.tables \n",
    "        WHERE table_schema = 'public'\n",
    "    \"\"\", conn)\n",
    "    print(df)"
   ]
  },
  {
   "cell_type": "code",
   "execution_count": 6,
   "id": "b4305ec8",
   "metadata": {},
   "outputs": [
    {
     "name": "stderr",
     "output_type": "stream",
     "text": [
      "/var/folders/lf/lgn5wxd97mzcmfjqdkjmq1dh0000gn/T/ipykernel_61776/2679618489.py:2: UserWarning: pandas only supports SQLAlchemy connectable (engine/connection) or database string URI or sqlite3 DBAPI2 connection. Other DBAPI2 objects are not tested. Please consider using SQLAlchemy.\n",
      "  df = pd.read_sql_query(\"\"\"\n"
     ]
    }
   ],
   "source": [
    "with psycopg.connect(CONNECTION_STRING) as conn:\n",
    "    df = pd.read_sql_query(\"\"\"\n",
    "        SELECT * from resources\n",
    "    \"\"\", conn)"
   ]
  },
  {
   "cell_type": "code",
   "execution_count": 7,
   "id": "51084018",
   "metadata": {},
   "outputs": [
    {
     "data": {
      "text/html": [
       "<div>\n",
       "<style scoped>\n",
       "    .dataframe tbody tr th:only-of-type {\n",
       "        vertical-align: middle;\n",
       "    }\n",
       "\n",
       "    .dataframe tbody tr th {\n",
       "        vertical-align: top;\n",
       "    }\n",
       "\n",
       "    .dataframe thead th {\n",
       "        text-align: right;\n",
       "    }\n",
       "</style>\n",
       "<table border=\"1\" class=\"dataframe\">\n",
       "  <thead>\n",
       "    <tr style=\"text-align: right;\">\n",
       "      <th></th>\n",
       "      <th>id</th>\n",
       "      <th>organization</th>\n",
       "      <th>service</th>\n",
       "      <th>description</th>\n",
       "      <th>url</th>\n",
       "      <th>phone</th>\n",
       "      <th>embedding</th>\n",
       "    </tr>\n",
       "  </thead>\n",
       "  <tbody>\n",
       "    <tr>\n",
       "      <th>0</th>\n",
       "      <td>1</td>\n",
       "      <td>cspnj</td>\n",
       "      <td>262-HELP (Crisis Response Service)</td>\n",
       "      <td>NaN</td>\n",
       "      <td>NaN</td>\n",
       "      <td>NaN</td>\n",
       "      <td>[-0.0015057984,-0.04301608,0.015712785,-0.0125...</td>\n",
       "    </tr>\n",
       "    <tr>\n",
       "      <th>1</th>\n",
       "      <td>2</td>\n",
       "      <td>cspnj</td>\n",
       "      <td>(NA) Narcotics Anonymous</td>\n",
       "      <td>Narcotics Anonymous of New Jersey provides sup...</td>\n",
       "      <td>https://www.nanj.org/</td>\n",
       "      <td>8009920401</td>\n",
       "      <td>[-0.034808174,0.07251281,0.008178203,-0.015189...</td>\n",
       "    </tr>\n",
       "    <tr>\n",
       "      <th>2</th>\n",
       "      <td>3</td>\n",
       "      <td>cspnj</td>\n",
       "      <td>(211) Food Pantries/Soup Kitchens</td>\n",
       "      <td>The NJ 2-1-1 Partnership provides information ...</td>\n",
       "      <td>https://nj211.org/food-pantries-and-soup-kitchens</td>\n",
       "      <td>NaN</td>\n",
       "      <td>[-0.008280203,0.06520874,-0.0067741363,-0.0098...</td>\n",
       "    </tr>\n",
       "    <tr>\n",
       "      <th>3</th>\n",
       "      <td>4</td>\n",
       "      <td>cspnj</td>\n",
       "      <td>(NA) Recovery</td>\n",
       "      <td>Narcotics Anonymous of New Jersey offers suppo...</td>\n",
       "      <td>https://www.nanj.org/</td>\n",
       "      <td>8009920401</td>\n",
       "      <td>[-0.027628645,0.08028611,-0.009514642,-0.02050...</td>\n",
       "    </tr>\n",
       "    <tr>\n",
       "      <th>4</th>\n",
       "      <td>5</td>\n",
       "      <td>cspnj</td>\n",
       "      <td>211 Code Blue Alert - NJ Warming Centers</td>\n",
       "      <td>New Jersey Code Blue is a program activated du...</td>\n",
       "      <td>https://nj211.org/njcodeblue</td>\n",
       "      <td>8776521148</td>\n",
       "      <td>[-0.027639408,-0.0037133705,0.00823962,0.02425...</td>\n",
       "    </tr>\n",
       "  </tbody>\n",
       "</table>\n",
       "</div>"
      ],
      "text/plain": [
       "   id organization                                   service  \\\n",
       "0   1        cspnj        262-HELP (Crisis Response Service)   \n",
       "1   2        cspnj                  (NA) Narcotics Anonymous   \n",
       "2   3        cspnj         (211) Food Pantries/Soup Kitchens   \n",
       "3   4        cspnj                             (NA) Recovery   \n",
       "4   5        cspnj  211 Code Blue Alert - NJ Warming Centers   \n",
       "\n",
       "                                         description  \\\n",
       "0                                                NaN   \n",
       "1  Narcotics Anonymous of New Jersey provides sup...   \n",
       "2  The NJ 2-1-1 Partnership provides information ...   \n",
       "3  Narcotics Anonymous of New Jersey offers suppo...   \n",
       "4  New Jersey Code Blue is a program activated du...   \n",
       "\n",
       "                                                 url       phone  \\\n",
       "0                                                NaN         NaN   \n",
       "1                              https://www.nanj.org/  8009920401   \n",
       "2  https://nj211.org/food-pantries-and-soup-kitchens         NaN   \n",
       "3                              https://www.nanj.org/  8009920401   \n",
       "4                       https://nj211.org/njcodeblue  8776521148   \n",
       "\n",
       "                                           embedding  \n",
       "0  [-0.0015057984,-0.04301608,0.015712785,-0.0125...  \n",
       "1  [-0.034808174,0.07251281,0.008178203,-0.015189...  \n",
       "2  [-0.008280203,0.06520874,-0.0067741363,-0.0098...  \n",
       "3  [-0.027628645,0.08028611,-0.009514642,-0.02050...  \n",
       "4  [-0.027639408,-0.0037133705,0.00823962,0.02425...  "
      ]
     },
     "execution_count": 7,
     "metadata": {},
     "output_type": "execute_result"
    }
   ],
   "source": [
    "df.head()"
   ]
  },
  {
   "cell_type": "code",
   "execution_count": 12,
   "id": "75043e4f",
   "metadata": {},
   "outputs": [
    {
     "name": "stdout",
     "output_type": "stream",
     "text": [
      "id                                                           1232\n",
      "organization                                                cspnj\n",
      "service                                     Vineland Soup Kitchen\n",
      "description     The Vineland Soup Kitchen, operated by Spirit ...\n",
      "url                          https://www.vinelandsoupkitchen.org/\n",
      "phone                                                  8566922603\n",
      "embedding       [-0.017748917,0.031070447,0.012905694,0.036825...\n",
      "Name: 1234, dtype: object\n"
     ]
    }
   ],
   "source": [
    "for i, s in enumerate(df['service']):\n",
    "    if \"vineland soup kitchen\" in s.lower():\n",
    "        print(df.iloc[i])"
   ]
  },
  {
   "cell_type": "markdown",
   "id": "0aa0cdec",
   "metadata": {},
   "source": [
    "## Summary of test:\n",
    "\n",
    "Bot provides correct *resource name* but incorrect *URL* and *phone*.\n",
    "\n",
    "1. **Vineland Soup Kitchen**\n",
    "   - **Address:**  200 N 4th St, Vineland, NJ 08360\n",
    "   - **Phone Number:** (856) 696-1111\n",
    "   - **Website:** [Vineland Soup Kitchen](http://www.vinelandcity.org/soup_kitchen)\n",
    "\n",
    "Resource databse contains the same *resource name* but different (and correct) *URL* and *phone*."
   ]
  }
 ],
 "metadata": {
  "kernelspec": {
   "display_name": "cspnj",
   "language": "python",
   "name": "python3"
  },
  "language_info": {
   "codemirror_mode": {
    "name": "ipython",
    "version": 3
   },
   "file_extension": ".py",
   "mimetype": "text/x-python",
   "name": "python",
   "nbconvert_exporter": "python",
   "pygments_lexer": "ipython3",
   "version": "3.10.18"
  }
 },
 "nbformat": 4,
 "nbformat_minor": 5
}
