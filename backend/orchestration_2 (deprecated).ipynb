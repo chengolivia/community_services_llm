{
 "cells": [
  {
   "cell_type": "code",
   "execution_count": 3,
   "id": "99a5002e-fb8e-4294-8a7b-a3216540d589",
   "metadata": {},
   "outputs": [],
   "source": [
    "import openai \n",
    "from utils import call_chatgpt_api_all_chats, stream_process_chatgpt_response\n",
    "from secret import gao_key as key \n",
    "from resources.generate_response import analyze_situation_rag, analyze_situation_rag_guidance\n",
    "import concurrent.futures\n",
    "import re\n",
    "import time \n",
    "import json \n",
    "from benefits.eligibility_check import eligibility_check\n",
    "\n",
    "openai.api_key = key"
   ]
  },
  {
   "cell_type": "markdown",
   "id": "95d94758-04fe-4548-86ef-3fb791b78fa7",
   "metadata": {},
   "source": [
    "# Orchestration 2\n",
    "\n",
    "## High-level idea: \n",
    "Have the baseline LLM generate an initial response (e.g., SMART goals, follow-up questions) along with relevant RAG-sourced materials, then call LLM modules with specified prompts to refine or modify the response as needed."
   ]
  },
  {
   "cell_type": "markdown",
   "id": "6f43d69a-4724-447f-b956-ea82bc4e192d",
   "metadata": {},
   "source": [
    "## Step 1: Generate initial response with baseline LLM"
   ]
  },
  {
   "cell_type": "code",
   "execution_count": 4,
   "id": "66a9d0db-977a-4bb9-b172-b05c21878122",
   "metadata": {},
   "outputs": [],
   "source": [
    "def call_llm(messages, model=\"gpt-4o-mini\"):\n",
    "    response = openai.chat.completions.create(\n",
    "        model=model,\n",
    "        messages=messages\n",
    "    )\n",
    "    return response.choices[0].message.content"
   ]
  },
  {
   "cell_type": "code",
   "execution_count": 5,
   "id": "6540797f-7c7a-40d5-acd6-f02613fe7c9e",
   "metadata": {},
   "outputs": [],
   "source": [
    "def generate_smart_goals_and_questions(situation: str):\n",
    "    system_prompt = (\n",
    "        \"You are a behavioral health specialist helping peer support workers create actionable recovery plans for clients. \"\n",
    "        \"Given a client's situation, you will generate: \"\n",
    "        \"1. Relevant and helpful SMART (Specific, Measurable, Achievable, Relevant, Time-bound) goals. \"\n",
    "        \"2. Follow-up questions that a peer specialist can ask the client to better understand their needs, motivations, and potential barriers.\\n\\n\"\n",
    "        \"Ensure your language is empathetic, person-centered, and strength-based.\"\n",
    "    )\n",
    "\n",
    "    user_prompt = f\"Here is the client’s situation:\\n{ situation.strip() }\\n\\nPlease generate SMART goals and follow-up questions.\"\n",
    "\n",
    "    messages = [\n",
    "        {\"role\": \"system\", \"content\": system_prompt},\n",
    "        {\"role\": \"user\", \"content\": user_prompt}\n",
    "    ]\n",
    "\n",
    "    return call_llm(messages)"
   ]
  },
  {
   "cell_type": "code",
   "execution_count": 9,
   "id": "cc8894f4-4949-4fc9-84fe-ff638365a62f",
   "metadata": {},
   "outputs": [
    {
     "name": "stdout",
     "output_type": "stream",
     "text": [
      "### SMART Goals\n",
      "\n",
      "1. **Dietary Improvement Goal**: \n",
      "   - **Specific**: The client will prepare a balanced meal at home five times a week, primarily incorporating fruits, vegetables, whole grains, and lean proteins.\n",
      "   - **Measurable**: Track the number of home-cooked meals prepared each week using a simple chart.\n",
      "   - **Achievable**: Given his interest in improving health and potential access to cooking resources, this goal is realistic.\n",
      "   - **Relevant**: This goal aligns with his desire to enhance physical wellness through better nutrition.\n",
      "   - **Time-bound**: The client will achieve this goal over the next month.\n",
      "\n",
      "2. **Exercise Goal**: \n",
      "   - **Specific**: The client will engage in a moderate-intensity exercise (like walking or chair exercises) for at least 30 minutes, four times a week.\n",
      "   - **Measurable**: Use a log to record the type of exercise and duration on each day.\n",
      "   - **Achievable**: Given the client's age and physical capacity, this is a feasible goal with proper support.\n",
      "   - **Relevant**: This goal directly relates to his aim of maintaining physical wellness.\n",
      "   - **Time-bound**: The client will commit to this exercise plan for the next six weeks.\n",
      "\n",
      "3. **Social Connection Goal**: \n",
      "   - **Specific**: The client will participate in at least one community social activity or group event each week, such as a senior center gathering, a local club, or an online group.\n",
      "   - **Measurable**: Keep a record of the events attended each week for accountability.\n",
      "   - **Achievable**: Given his desire to build social connections, this is an attainable goal with encouragement and support.\n",
      "   - **Relevant**: This goal addresses his feelings of isolation and supports his overall emotional wellness.\n",
      "   - **Time-bound**: The client will strive to achieve this goal for the next two months.\n",
      "\n",
      "### Follow-Up Questions\n",
      "\n",
      "1. **Understanding Motivations**: \"What specific aspects of your health or personal life would you like to focus on improving first? What motivates you to make these changes?\"\n",
      "\n",
      "2. **Exploring Barriers**: \"Can you share some challenges you face when it comes to cooking or exercising regularly? What do you think might prevent you from sticking to these new habits?\"\n",
      "\n",
      "3. **Social Connections**: \"What kind of social activities do you enjoy or think you would enjoy participating in? Have you had any experiences with local groups or community events that stood out to you?\"\n",
      "\n",
      "4. **Support Needs**: \"How can I, or someone else, best support you in achieving these goals? Are there specific types of assistance or encouragement you feel would be most helpful?\"\n",
      "\n",
      "5. **Reflecting on Progress**: \"As you work on these goals, how do you envision measuring your progress? What would make you feel proud of your achievements along the way?\" \n",
      "\n",
      "These questions aim to deepen the understanding of the client’s unique needs and fostering a collaborative environment for achieving his wellness goals.\n"
     ]
    }
   ],
   "source": [
    "# example_situation_1 = (\"A 54-year-old man in Newark, NJ, is unhoused and recovering from (undiagnosed) alcohol use disorder. He has an extensive trauma history but has also never been formally diagnosed with PTSD.  He is formerly incarcerated, has no ID, and needs help securing housing, food, and legal support for applying for government benefits like SSI and Medicaid. \")\n",
    "# example_situation_2 = (\"A 28-year-old woman in Paterson, NJ, is living in temporary housing while working a part-time job and has a physical disability that doesn't prevent her from working entirely but makes it difficult. She has documented immigration status but struggles to balance employment demands with physical wellness and social engagement. She is uncertain enough about her sustained ability to earn enough from part-time work to make it that she is asking about disability benefits and housing subsidies. \")\n",
    "# example_situation_3 = (\"A trans man in Jersey City, NJ, aged 35, recently moved into permanent housing after recovering from substance use and trauma related to domestic violence. He is employed part-time, has ID, and seeks support with maintaining mental health and building community connections. He also wants to pursue a restraining order against his former partner.\")\n",
    "# example_situation_4 = (\"A 60-year-old man in Camden, NJ, living with family and managing schizophrenia, is unemployed and struggling to apply for SSI and food stamps. He is a non-drug user with ID but needs assistance navigating benefits (determining eligibility, applying). He also needs to find a primary care provider and get help with transportation to appointments.  Several of his physical health conditions are linked to his prescribed psychiatric medications (i.e. diabetes, metabolic syndrome).\")\n",
    "example_situation_5 = (\"A 72-year-old retired man in Morristown, NJ, living in permanent housing and dually enrolled (Medicaid/Medicare), seeks support for maintaining his physical wellness through better diet and exercise. He is a non-drug user with ID and no incarceration history but struggles with isolation, spending most of his days alone in his room, and wants to build social connections.\")\n",
    "\n",
    "response = generate_smart_goals_and_questions(example_situation)\n",
    "print(response)"
   ]
  },
  {
   "cell_type": "markdown",
   "id": "ed6c8d7f-9954-4543-b196-3daf874dc84d",
   "metadata": {},
   "source": [
    "## Step 2: RAG for resources recommendation \n",
    "At this stage, we continue to rely on our RAG framework to retrieve relevant resources. Directly prompting the LLM to generate resources is not effective, as our goal is to provide materials that have been validated by CSPNJ and to minimize hallucinations. Therefore, we avoid using the baseline LLM for resource retrieval and instead depend on the RAG system to ensure accuracy and reliability."
   ]
  },
  {
   "cell_type": "code",
   "execution_count": 45,
   "id": "717a6782-ae13-4194-a8bf-932c0c801fa0",
   "metadata": {},
   "outputs": [],
   "source": [
    "def extract_resource_keywords(situation: str):\n",
    "    system_prompt = (\n",
    "        \"You are an assistant for a behavioral health agency that helps clients access wellness-related resources. \"\n",
    "        \"Given a client’s situation, extract a list short keyword phrases that describe the types of help or resources they may need. \"\n",
    "        \"Each phrase should end in the word 'help' (e.g., 'housing stability help', 'social connection help', 'diet help'). \"\n",
    "        \"Take into account the 8 Dimensions of Wellness: emotional, physical, occupational, social, spiritual, intellectual, environmental, and financial. \"\n",
    "        \"Focus on the client’s challenges, unmet needs, and wellness goals. Make sure the keywords are short (3–6 words) and phrased as resource needs.\"\n",
    "    )\n",
    "\n",
    "    user_prompt = f\"Client Situation:\\n{ situation.strip() }\\n\\nList the keywords for resources they need.\"\n",
    "\n",
    "    messages = [\n",
    "        {\"role\": \"system\", \"content\": system_prompt},\n",
    "        {\"role\": \"user\", \"content\": user_prompt}\n",
    "    ]\n",
    "\n",
    "    return call_llm(messages)\n"
   ]
  },
  {
   "cell_type": "code",
   "execution_count": 46,
   "id": "1e63b6ef-5b2d-4215-9d01-9c8ff67a6c6c",
   "metadata": {},
   "outputs": [
    {
     "name": "stdout",
     "output_type": "stream",
     "text": [
      "Resource Keywords:\n",
      " 1. diet help  \n",
      "2. exercise help  \n",
      "3. social connection help  \n",
      "4. physical wellness help  \n",
      "5. group activity help  \n",
      "6. community engagement help  \n",
      "7. nutritional guidance help  \n",
      "8. fitness program help  \n",
      "9. companionship help  \n",
      "10. wellness support help\n"
     ]
    }
   ],
   "source": [
    "keywords = extract_resource_keywords(example_situation)\n",
    "print(\"Resource Keywords:\\n\", keywords)"
   ]
  },
  {
   "cell_type": "code",
   "execution_count": 47,
   "id": "c9491025-9319-4374-a88e-fdb28d92d7e7",
   "metadata": {},
   "outputs": [],
   "source": [
    "goal_prompt = open(\"mental_health/prompts/mental_health_prompt.txt\").read()\n",
    "question_prompt = open(\"mental_health/prompts/question_prompts.txt\").read()\n",
    "benefit_prompt = open(\"benefits/prompts/uncertain_prompt_wellness.txt\").read()\n",
    "resource_prompt = open(\"mental_health/prompts/resource_prompt.txt\").read()"
   ]
  },
  {
   "cell_type": "code",
   "execution_count": 57,
   "id": "d83195b7-43a4-4280-a779-59f0119341ce",
   "metadata": {
    "scrolled": true
   },
   "outputs": [
    {
     "data": {
      "text/plain": [
       "'\\nUser Situation:\\nA 72-year-old retired man in Morristown, NJ, living in permanent housing and dually enrolled (Medicaid/Medicare), seeks support for maintaining his physical wellness through better diet and exercise. He is a non-drug user with ID and no incarceration history but struggles with isolation, spending most of his days alone in his room, and wants to build social connections.\\nResource keywords:\\n1. diet help  \\n2. exercise help  \\n3. social connection help  \\n4. physical wellness help  \\n5. group activity help  \\n6. community engagement help  \\n7. nutritional guidance help  \\n8. fitness program help  \\n9. companionship help  \\n10. wellness support help\\n'"
      ]
     },
     "execution_count": 57,
     "metadata": {},
     "output_type": "execute_result"
    }
   ],
   "source": [
    "rag_input = f\"\"\"\n",
    "User Situation:\n",
    "{example_situation}\n",
    "Resource keywords:\n",
    "{keywords}\n",
    "\"\"\"\n",
    "rag_input"
   ]
  },
  {
   "cell_type": "code",
   "execution_count": 58,
   "id": "546dd265-4b6f-491d-a662-7ab6896bd975",
   "metadata": {
    "scrolled": true
   },
   "outputs": [
    {
     "data": {
      "text/plain": [
       "\"Friends of Fairview Give Back, URL: https://www.facebook.com/p/Friends-of-Fairview-Give-Back-100070266467554/, Phone: nan, Description: Friends of Fairview Give Back is a community-driven initiative that focuses on enhancing the mental health and well-being of individuals in need. It provides supportive services such as stress management workshops, peer support groups, and mental health awareness campaigns. The program fosters a nurturing environment through community events and fundraising efforts aimed at improving access to mental health resources. By promoting collaboration among local organizations, Friends of Fairview Give Back empowers individuals to seek help, share experiences, and build supportive networks for better mental health outcomes.\\nReach Out Addiction and Recovery, URL: https://988lifeline.org/chat, Phone: nan, Description: Reach Out Addiction and Recovery offers a comprehensive online pre-chat survey to facilitate access to the 988 Lifeline, ensuring individuals seeking help can articulate their needs effectively. This resource provides essential support services, including emotional assistance for addiction recovery, access to trained counselors, and guidance tailored to personal circumstances. The platform fosters a supportive environment that empowers users to connect with resources, navigate their recovery journey, and explore various coping strategies, promoting long-term well-being and resilience in overcoming addiction challenges.\\nReach NJ (24/7), URL: https://988lifeline.org/chat, Phone: nan, Description: Reach NJ is a 24/7 resource offering support for individuals in crisis or seeking help for mental health and substance use issues. It provides access to trained counselors through the 988 Lifeline, facilitating immediate support via a pre-chat survey that helps tailor assistance to individual needs. The service addresses various concerns, including emotional distress, suicidal thoughts, and substance abuse, ensuring a comprehensive approach to mental wellness. Through confidential, compassionate guidance, Reach NJ aims to connect users with appropriate services and resources.\\nNJ Reentry Corporation, URL: https://njreentry.org/, Phone: nan, Description: The New Jersey Reentry Corporation (NJRC) is a non-profit organization dedicated to helping individuals reintegrate into society after incarceration or addiction treatment. NJRC provides comprehensive services, including addiction and mental health treatment, medical care, job training, legal assistance, and veteran-specific support. Core programs like the Governor's Reentry Training and Employment Center prepare individuals for sustained employment through accredited training. Additional resources include the Francine A. LeFrak Wellness Center and community outreach initiatives, all aimed at dismantling barriers to successful reentry and fostering personal empowerment. NJRC operates multiple locations throughout New Jersey.\\nClear Conscience Counseling, URL: https://www.clearconsciencenj.com/, Phone: 9734347830, Description: Clear Conscience Counseling, LLC, located in South Plainfield, NJ, offers compassionate, personalized mental health services for individuals and families. Specializing in therapy modalities such as EMDR, couples therapy, and family therapy, they provide both outpatient services and intense in-community support. Their mission focuses on delivering high-quality, evidence-based treatments to the community, prioritizing care for underserved populations. Open Monday through Saturday, they emphasize a flexible, solution-focused approach to empower clients toward lasting healing and growth. Their dedicated team is committed to supporting mental health and behavioral wellness across all ages.\\nSt. Clare's Career Services, URL: https://saintclares.com/services/behavioral-health-services/career-services/, Phone: 9736257045, Description: St. Clare's Career Services supports adults (18+) with psychiatric disabilities in Morris County through employment and education initiatives. Their Supported Employment program facilitates job networking, career assessments, resume writing, and interview skills, while also offering ongoing job coaching. For those pursuing higher education, the Learning Enhancement And Resource Network (L.E.A.R.N.) provides assistance with enrollment, educational resources, financial aid, and a supportive environment for success. Located in Denville, NJ, these programs aim to empower individuals in achieving their vocational and academic goals.\\nMorris County Housing Authority, URL: https://www.morriscountynj.gov/Departments/Housing-Authority, Phone: 9735400389, Description: The Morris County Housing Authority, established in 1972, aims to provide safe, decent, and affordable housing to low and moderate-income residents, including seniors and individuals with disabilities. Their mission focuses on enhancing community stability and self-sufficiency through the development and management of housing programs. With oversight from the Department of Housing and Urban Development, the authority administers an annual budget of $10 million, serving approximately 1,050 county residents. It offers a range of resources, including family and senior housing complexes, as well as social services to support residents in achieving housing stability.\\nhttps://www.centerffs.org/our-services/community-connections/hotline-services, URL: https://www.centerffs.org/our-services/community-connections/hotline-services, Phone: 8006751127, Description: The Center for Family Services offers hotline services in New Jersey, providing 24/7 support and information across various issues. Notable hotlines include NJ PRISM for the LGBTQIA+ community, Women's Referral Central for women's issues, and the Camden County Addictions Hotline for substance-related support. Additionally, they provide targeted support for teens, domestic and sexual violence victims, and housing assistance. These confidential resources aim to connect individuals with appropriate services and referrals tailored to their unique needs and circumstances, helping foster a supportive community connection.\\nour Lady of Mount Carmel, URL: https://www.olmcridgewood.com/, Phone: 2014442000, Description: Our Lady of Mount Carmel is a vibrant parish community offering a wide range of spiritual, educational, and social services. Key offerings include worship services with a diverse Mass schedule, adult and youth faith formation, and various ministries like music and outreach. Special programs such as the Difficult Conversations Series and CYO sports foster community engagement. The parish also hosts the Academy of Our Lady, providing education for children. Perpetual Eucharistic Adoration allows for continuous prayer, promoting mental and spiritual well-being. Additionally, resources for sacramental preparations and support for families are readily available, ensuring comprehensive care for all parishioners.\\nSoshimsa Zen Center, URL: https://www.soshimsa.org/, Phone: 9083779803, Description: Soshimsa Zen Center in New Jersey is a nurturing space dedicated to holistic well-being through Buddhist teachings, meditation, and health exercises. The center promotes personal growth and harmony using an inclusive approach that blends traditional prayer with secular activities. Led by experienced monks, including licensed psychologist Venerable Mooh-Sang Sunim, they offer various programs, including corporate CALM initiatives, meditation classes, and community outreach. The center fosters a supportive community where individuals can explore their spiritual journey and cultivate kindness, wisdom, and compassion for a brighter and more harmonious existence.\""
      ]
     },
     "execution_count": 58,
     "metadata": {},
     "output_type": "execute_result"
    }
   ],
   "source": [
    "retrieved_resources = analyze_situation_rag(rag_input, k=10)\n",
    "retrieved_resources"
   ]
  },
  {
   "cell_type": "code",
   "execution_count": 51,
   "id": "1b7825cc-27fe-4984-84b3-32aa7678f0d6",
   "metadata": {},
   "outputs": [],
   "source": [
    "def resource_selection_prompt(situation, keywords, retrieved_resources):\n",
    "    return f\"\"\"\n",
    "You are an expert resource recommendation assistant. Given the user's specific situation, conceptual keyword guidance, and a list of potential resources retrieved from a knowledge base, your task is to carefully select and recommend ONLY the most relevant and helpful resources. \n",
    "\n",
    "Consider the original situation and the conceptual keyword guidance carefully to ensure selected resources specifically match the user's needs and context.\n",
    "\n",
    "Do not make anything up. Only select resources from the list that is given to you.\n",
    "\n",
    "## Original User Situation:\n",
    "{situation}\n",
    "\n",
    "## Conceptual Keyword Guidance for Selecting Resources:\n",
    "{keywords}\n",
    "\n",
    "## Retrieved Resources:\n",
    "{retrieved_resources}\n",
    "\n",
    "## Your task:\n",
    "- Carefully evaluate the retrieved resources in relation to the user's situation and the provided conceptual guidance.\n",
    "- Select and recommend ONLY the resources that BEST match the user's situation.\n",
    "- Clearly present your recommendations in a structured, easy-to-read format.\n",
    "- For each selected resource, briefly explain why it is specifically relevant.\n",
    "\n",
    "## Selected Most Relevant Resources (clearly listed and explained):\n",
    "\"\"\"\n",
    "\n",
    "def select_relevant_resources(situation, meta_reasoning_guidance, retrieved_resources):\n",
    "    prompt = resource_selection_prompt(situation, meta_reasoning_guidance, retrieved_resources)\n",
    "    messages = [\n",
    "        {\"role\": \"system\", \"content\": \"You are an expert assistant selecting highly relevant resources tailored to the user's situation.\"},\n",
    "        {\"role\": \"user\", \"content\": prompt}\n",
    "    ]\n",
    "\n",
    "    selected_resources_response = call_llm(messages)\n",
    "    \n",
    "    return selected_resources_response"
   ]
  },
  {
   "cell_type": "code",
   "execution_count": 52,
   "id": "c0355c74-1090-4983-a5c5-ec848d9af8ae",
   "metadata": {},
   "outputs": [],
   "source": [
    "def format_selected_resources(raw_text):\n",
    "    formatted_text = raw_text.replace(\"\\\\n\", \"\\n\")\n",
    "    formatted_text = re.sub(r'\\*\\*', '', formatted_text)\n",
    "    formatted_text = re.sub(r'###+', '', formatted_text)\n",
    "    formatted_text = re.sub(r'\\s*(\\d+)\\.\\s*(.+?):\\s*\\n', r'\\n\\1. **\\2**\\n', formatted_text)\n",
    "    formatted_text = re.sub(r'–\\s*URL\\s*:', '- **URL:**', formatted_text, flags=re.I)\n",
    "    formatted_text = re.sub(r'–\\s*Phone\\s*:', '- **Phone:**', formatted_text, flags=re.I)\n",
    "    formatted_text = re.sub(r'–\\s*Relevance\\s*:', '- **Relevance:**', formatted_text, flags=re.I)\n",
    "    formatted_text = re.sub(r'\\n+', '\\n', formatted_text).strip()\n",
    "    return formatted_text"
   ]
  },
  {
   "cell_type": "code",
   "execution_count": 59,
   "id": "ed7d3e1f-ae6b-4e32-a428-e2cbea65e4b1",
   "metadata": {},
   "outputs": [
    {
     "name": "stdout",
     "output_type": "stream",
     "text": [
      "## Selected Most Relevant Resources\n",
      "1. Friends of Fairview Give Back  \n",
      "   - URL: [Friends of Fairview Give Back](https://www.facebook.com/p/Friends-of-Fairview-Give-Back-100070266467554/)  \n",
      "   - Relevance: This resource focuses on enhancing mental health and well-being, providing supportive services such as peer support groups and community events. For the user, who struggles with isolation, engaging in community events can foster social connections and combat feelings of loneliness.\n",
      "2. Soshimsa Zen Center  \n",
      "   - URL: [Soshimsa Zen Center](https://www.soshimsa.org/)  \n",
      "   - Relevance: The Zen Center promotes holistic well-being through meditation, health exercises, and community outreach. The user can participate in mindful practices and connect with others in a nurturing environment, aiding his physical wellness and social interaction.\n",
      "3. Our Lady of Mount Carmel  \n",
      "   - URL: [Our Lady of Mount Carmel](https://www.olmcridgewood.com/)  \n",
      "   - Relevance: This parish community offers social services, spiritual activities, and various ministries that encourage community engagement. The user can join social events, spiritual gatherings, or outreach programs, which can enhance his sense of belonging and reduce isolation.\n",
      "These resources align well with the user's needs for maintaining physical wellness and building social connections, providing both support and opportunities for community engagement.\n"
     ]
    }
   ],
   "source": [
    "selected_resources = select_relevant_resources(\n",
    "        example_situation,\n",
    "        keywords,\n",
    "        retrieved_resources)\n",
    "resource_output = format_selected_resources(selected_resources)\n",
    "print(resource_output)"
   ]
  },
  {
   "cell_type": "markdown",
   "id": "840a205d-cc08-42fb-8ac1-c8c9d1f0c972",
   "metadata": {},
   "source": [
    "## Step 3: Call individual modules to modify section of the responses as needed. "
   ]
  },
  {
   "cell_type": "code",
   "execution_count": 61,
   "id": "4199e924-9018-41a5-98f9-7ba405fdf7cd",
   "metadata": {},
   "outputs": [],
   "source": [
    "def refine_response_with_dual_prompts(\n",
    "    original_response: str,\n",
    "    smart_goal_prompt: str,\n",
    "    followup_prompt: str,\n",
    "    situation: str\n",
    "):\n",
    "    system_prompt = (\n",
    "        \"You are a behavioral health recovery planning assistant helping peer specialists support clients. \"\n",
    "        \"You are given a client situation and an original response (which includes SMART goals and follow-up questions). \"\n",
    "        \"Your task is to revise the SMART goals and follow-up questions **only as needed** based on the two separate refinement prompts provided. \"\n",
    "        \"Maintain the SMART goal format (Specific, Measurable, Achievable, Relevant, Time-bound), and use strength-based, empathetic, person-centered language. \"\n",
    "        \"If any section already meets the refinement prompt, preserve it as-is.\"\n",
    "    )\n",
    "\n",
    "    user_prompt = (\n",
    "        f\"Client Situation:\\n{ situation.strip() }\\n\\n\"\n",
    "        f\"SMART Goal Refinement Instructions:\\n{ smart_goal_prompt.strip() }\\n\\n\"\n",
    "        f\"Follow-Up Question Refinement Instructions:\\n{ followup_prompt.strip() }\\n\\n\"\n",
    "        f\"Original Response:\\n{ original_response.strip() }\"\n",
    "    )\n",
    "\n",
    "    messages = [\n",
    "        {\"role\": \"system\", \"content\": system_prompt},\n",
    "        {\"role\": \"user\", \"content\": user_prompt}\n",
    "    ]\n",
    "\n",
    "    return call_llm(messages)\n"
   ]
  },
  {
   "cell_type": "code",
   "execution_count": 64,
   "id": "b3134ced-98f1-4970-94fa-ebc84c41192f",
   "metadata": {},
   "outputs": [
    {
     "name": "stdout",
     "output_type": "stream",
     "text": [
      "### SMART Goals\n",
      "\n",
      "1. **Dietary Improvement Goal**: \n",
      "   - **Specific**: The client will prepare a balanced meal at home five times a week, primarily incorporating fruits, vegetables, whole grains, and lean proteins.\n",
      "   - **Measurable**: Track the number of home-cooked meals prepared each week using a simple chart.\n",
      "   - **Achievable**: Given his interest in improving health and potential access to cooking resources, this goal is realistic.\n",
      "   - **Relevant**: This goal aligns with his desire to enhance physical wellness through better nutrition.\n",
      "   - **Time-bound**: The client will achieve this goal over the next month.\n",
      "\n",
      "2. **Exercise Goal**: \n",
      "   - **Specific**: The client will engage in a moderate-intensity exercise (like walking or chair exercises) for at least 30 minutes, four times a week.\n",
      "   - **Measurable**: Use a log to record the type of exercise and duration on each day.\n",
      "   - **Achievable**: Given the client's age and physical capacity, this is a feasible goal with proper support.\n",
      "   - **Relevant**: This goal directly relates to his aim of maintaining physical wellness.\n",
      "   - **Time-bound**: The client will commit to this exercise plan for the next six weeks.\n",
      "\n",
      "3. **Social Connection Goal**: \n",
      "   - **Specific**: The client will participate in at least one community social activity or group event each week, such as a senior center gathering, a local club, or an online group.\n",
      "   - **Measurable**: Keep a record of the events attended each week for accountability.\n",
      "   - **Achievable**: Given his desire to build social connections, this is an attainable goal with encouragement and support.\n",
      "   - **Relevant**: This goal addresses his feelings of isolation and supports his overall emotional wellness.\n",
      "   - **Time-bound**: The client will strive to achieve this goal for the next two months.\n",
      "\n",
      "### Follow-Up Questions\n",
      "\n",
      "1. **Understanding Motivations**: \"What specific aspects of your health or personal life would you like to focus on improving first? What motivates you to make these changes?\"\n",
      "\n",
      "2. **Exploring Barriers**: \"Can you share some challenges you face when it comes to cooking or exercising regularly? What do you think might prevent you from sticking to these new habits?\"\n",
      "\n",
      "3. **Social Connections**: \"What kind of social activities do you enjoy or think you would enjoy participating in? Have you had any experiences with local groups or community events that stood out to you?\"\n",
      "\n",
      "4. **Support Needs**: \"How can I, or someone else, best support you in achieving these goals? Are there specific types of assistance or encouragement you feel would be most helpful?\"\n",
      "\n",
      "5. **Reflecting on Progress**: \"As you work on these goals, how do you envision measuring your progress? What would make you feel proud of your achievements along the way?\" \n",
      "\n",
      "These questions aim to deepen the understanding of the client’s unique needs and fostering a collaborative environment for achieving his wellness goals.\n"
     ]
    }
   ],
   "source": [
    "print(response)"
   ]
  },
  {
   "cell_type": "code",
   "execution_count": 63,
   "id": "29ff9a9c-10a6-422f-9d8a-b3d6b7c27957",
   "metadata": {},
   "outputs": [
    {
     "name": "stdout",
     "output_type": "stream",
     "text": [
      "### SMART Goals\n",
      "\n",
      "1. **Dietary Improvement Goal**: \n",
      "   - **Specific**: The client will prepare a balanced meal at home five times a week, focusing on a variety of fruits, vegetables, whole grains, and lean proteins.\n",
      "   - **Measurable**: Track the number of home-cooked meals prepared each week using a simple chart or journal.\n",
      "   - **Achievable**: Considering his interest in health and potential access to cooking resources, this goal is realistic.\n",
      "   - **Relevant**: This goal supports his aspiration to enhance physical wellness through better nutrition.\n",
      "   - **Time-bound**: The client will reach this goal within the next month.\n",
      "\n",
      "2. **Exercise Goal**: \n",
      "   - **Specific**: The client will engage in moderate-intensity exercises (like walking or chair exercises) for at least 30 minutes, four times a week.\n",
      "   - **Measurable**: Use a log to document the type of exercise and duration for each session.\n",
      "   - **Achievable**: Given the client's age and physical capacity, this is a feasible goal with proper support.\n",
      "   - **Relevant**: This goal directly contributes to his objective of maintaining physical wellness.\n",
      "   - **Time-bound**: The client will commit to this exercise plan for the next six weeks.\n",
      "\n",
      "3. **Social Connection Goal**: \n",
      "   - **Specific**: The client will participate in at least one community social activity or group event each week, such as attending a senior center gathering, joining a local club, or exploring an online group.\n",
      "   - **Measurable**: Keep a record of the events attended each week for accountability.\n",
      "   - **Achievable**: Given his desire to foster social connections, this is an attainable goal, supported by encouragement.\n",
      "   - **Relevant**: This goal is crucial in addressing his feelings of isolation and enhancing his overall emotional wellness.\n",
      "   - **Time-bound**: The client aims to achieve this goal over the next two months.\n",
      "\n",
      "### Follow-Up Questions\n",
      "\n",
      "1. **Physical Wellness**: \"What specific health improvements would you like to see as you work on your diet and exercise habits? Are there particular health concerns you want to address?\"\n",
      "\n",
      "2. **Barriers to Change**: \"What do you find most challenging about preparing meals or incorporating exercise into your routine? Are there specific barriers you're concerned about?\"\n",
      "\n",
      "3. **Social Engagement**: \"What types of social activities have you previously enjoyed, or do you think you might like? Are there particular events or groups you’ve heard about that excite you?\"\n",
      "\n",
      "4. **Support Systems**: \"In what ways do you feel you would appreciate support as you pursue your goals? Are there specific resources or types of encouragement that would motivate you?\"\n",
      "\n",
      "5. **Reflecting on Achievements**: \"As you start to make these changes, how would you like to celebrate your progress? What milestones would you feel proud of reaching along the way?\" \n",
      "\n",
      "These questions are designed to foster a deeper understanding of the client's needs while promoting a supportive environment for achieving his wellness goals.\n"
     ]
    }
   ],
   "source": [
    "smart_goal_prompt = open(\"mental_health/prompts/mental_health_prompt.txt\").read()\n",
    "followup_prompt = open(\"mental_health/prompts/question_prompts.txt\").read()\n",
    "\n",
    "refined_response = refine_response_with_dual_prompts(\n",
    "    response,\n",
    "    smart_goal_prompt,\n",
    "    followup_prompt,\n",
    "    example_situation\n",
    ")\n",
    "\n",
    "print(refined_response)\n"
   ]
  },
  {
   "cell_type": "code",
   "execution_count": null,
   "id": "5318ce1e-971a-4c85-ab2b-f10c2cc7cf3d",
   "metadata": {},
   "outputs": [],
   "source": []
  },
  {
   "cell_type": "markdown",
   "id": "839b1a6e-9ec7-43f8-9eab-2ef5a30e43f7",
   "metadata": {},
   "source": [
    "## Step 4: Generate final & holistic response to present"
   ]
  },
  {
   "cell_type": "code",
   "execution_count": 67,
   "id": "e866b5e7-fd99-4e0c-b8a1-2362878cb119",
   "metadata": {},
   "outputs": [],
   "source": [
    "def generate_holistic_response(\n",
    "    refined_response: str,\n",
    "    retrieved_resources: str,\n",
    "    situation: str\n",
    "):\n",
    "    system_prompt = (\n",
    "        \"You are a behavioral health recovery planning assistant creating a holistic support summary for a peer specialist to use in their session. \"\n",
    "        \"You are given: (1) the client situation, (2) a refined list of SMART goals and follow-up questions, and (3) relevant resources retrieved by the system.\\n\\n\"\n",
    "        \"Your task is to write a holistic, easy-to-follow response that:\\n\"\n",
    "        \"- Introduces the client’s goals and strengths in an affirming tone,\\n\"\n",
    "        \"- List the SMART goals in natural language,\\n\"\n",
    "        \"- Weaves in the retrieved resources (along with contact information such as links and phone numbers if given) as suggestions for each goal,\\n\"\n",
    "        \"- Recommends follow-up questions to support engagement and motivation,\\n\"\n",
    "        \"- Is warm, person-centered, and recovery-oriented.\"\n",
    "    )\n",
    "\n",
    "    user_prompt = (\n",
    "        f\"Client Situation:\\n{ situation.strip() }\\n\\n\"\n",
    "        f\"Refined SMART Goals and Follow-Up Questions:\\n{ refined_response.strip() }\\n\\n\"\n",
    "        f\"Retrieved Resources:\\n{ retrieved_resources.strip() }\\n\\n\"\n",
    "        f\"Please generate a holistic response as described.\"\n",
    "    )\n",
    "\n",
    "    messages = [\n",
    "        {\"role\": \"system\", \"content\": system_prompt},\n",
    "        {\"role\": \"user\", \"content\": user_prompt}\n",
    "    ]\n",
    "\n",
    "    return call_llm(messages)\n"
   ]
  },
  {
   "cell_type": "code",
   "execution_count": 68,
   "id": "5220a73a-06ee-44c5-a86d-37c30520bb7b",
   "metadata": {},
   "outputs": [
    {
     "name": "stdout",
     "output_type": "stream",
     "text": [
      "Hello! It's great to be with you today, and I want to start by acknowledging the wonderful goals you've set for yourself as you navigate this journey toward improved physical wellness and greater social connections. Your commitment to enhancing your diet and engaging in regular exercise, while also seeking to build relationships, shows a remarkable strength and desire for overall well-being. Let’s dive into your SMART goals and explore some resources to support you along the way.\n",
      "\n",
      "### Your SMART Goals:\n",
      "\n",
      "1. **Dietary Improvement Goal**: You will prepare a balanced meal at home five times a week, focusing on a diverse selection of fruits, vegetables, whole grains, and lean proteins. To keep track of your accomplishments, you can use a simple chart or journal over the next month.\n",
      "\n",
      "   - **Suggested Resource**: Consider connecting with **Friends of Fairview Give Back**, which provides supportive services such as cooking classes or meal planning workshops. Engaging in these programs can equip you with the skills and confidence to achieve your dietary goal. You can learn more about their offerings [here](https://www.facebook.com/p/Friends-of-Fairview-Give-Back-100070266467554/).\n",
      "\n",
      "2. **Exercise Goal**: You will engage in moderate-intensity exercises, like walking or chair exercises, for at least 30 minutes, four times a week. Keeping a log of your exercise types and durations will help you stay accountable over the next six weeks.\n",
      "\n",
      "   - **Suggested Resource**: The **Soshimsa Zen Center** promotes holistic well-being through meditation and health exercises. They might have classes or community groups that encourage physical activity while also providing a nurturing space to connect with others. Explore what they offer [here](https://www.soshimsa.org/).\n",
      "\n",
      "3. **Social Connection Goal**: You will participate in at least one community social activity or group event each week, whether it's attending a gathering at a senior center, joining a local club, or exploring online groups. Keeping a record of the events you attend will foster accountability and intention as you pursue this goal over the next two months.\n",
      "\n",
      "   - **Suggested Resource**: **Our Lady of Mount Carmel** offers various social services and events that encourage community engagement. Joining their gatherings or outreach programs can be a great way for you to meet new friends and feel more connected. Check out their community activities [here](https://www.olmcridgewood.com/).\n",
      "\n",
      "### Follow-Up Questions to Encourage Engagement:\n",
      "\n",
      "1. **Physical Wellness**: \"What specific health improvements would you like to see as you work on your diet and exercise habits? Are there particular health concerns you want to address?\"\n",
      "\n",
      "2. **Barriers to Change**: \"What do you find most challenging about preparing meals or incorporating exercise into your routine? Are there specific barriers you're concerned about?\"\n",
      "\n",
      "3. **Social Engagement**: \"What types of social activities have you previously enjoyed, or do you think you might like? Are there particular events or groups you’ve heard about that excite you?\"\n",
      "\n",
      "4. **Support Systems**: \"In what ways do you feel you would appreciate support as you pursue your goals? Are there specific resources or types of encouragement that would motivate you?\"\n",
      "\n",
      "5. **Reflecting on Achievements**: \"As you start to make these changes, how would you like to celebrate your progress? What milestones would you feel proud of reaching along the way?\"\n",
      "\n",
      "Remember, you're not alone on this journey. Engaging with community resources and reaching out for support can truly enrich your experience and help you achieve your goals. I'm excited to see how you move forward and would love for you to share your thoughts and progress with me in our next session. You're doing remarkable work in seeking connection and wellness, and I’m here to support you every step of the way!\n"
     ]
    }
   ],
   "source": [
    "holistic_response = generate_holistic_response(\n",
    "    refined_response=refined_response,\n",
    "    retrieved_resources=resource_output,\n",
    "    situation=example_situation\n",
    ")\n",
    "\n",
    "print(holistic_response)"
   ]
  },
  {
   "cell_type": "markdown",
   "id": "93c7c50a-ad55-48d9-9df5-6f4554367546",
   "metadata": {},
   "source": [
    "# Pros and Cons "
   ]
  },
  {
   "cell_type": "markdown",
   "id": "c5588ac2-0654-4807-bde8-bc7335c21e7e",
   "metadata": {},
   "source": [
    "## Original Approach (module output --> summarize output --> final output)\n",
    "\n",
    "#### Pros\n",
    "- fewer LLM calls --> faster overall\n",
    "- simple and easy to maintain \n",
    "#### Cons\n",
    "- less tailored response in comparison to Orch. v1 (All outputs from Orch v1 (SMART goals, Resources, Followup questions) are more detailed and tailored based on the responses from 5 scenarios)\n",
    "- Bruteforce workflow, not as sophisticated  "
   ]
  },
  {
   "cell_type": "markdown",
   "id": "8a563423-8bf3-4a6c-9017-c507b9751d02",
   "metadata": {},
   "source": [
    "## Orchestration v1. (reason first --> use meta reasoning as context --> agentic RAG --> final output)\n",
    "\n",
    "#### Pros\n",
    "- More tailored and detailed recommendation overall due to the reasoning step (more context and clearer guidance for LLM)\n",
    "- A bit more reasonable resource recommendation thanks to the agentic workflow for RAG \n",
    "#### Cons\n",
    "- Slower due to the reasoning step"
   ]
  },
  {
   "cell_type": "markdown",
   "id": "6742fa63-68fe-4614-a282-8f058839268a",
   "metadata": {},
   "source": [
    "## Orchestration v2. (baseline LLM response --> call modules to modify as needed --> NLU + RAG --> final output)\n",
    "\n",
    "#### Pros\n",
    "- Maintains the generalalizability (is that a word?) of the original LLM\n",
    "#### Cons\n",
    "- Not much different from the original approach "
   ]
  },
  {
   "cell_type": "code",
   "execution_count": null,
   "id": "18d320e3-3f60-49ea-ada1-0fb67a4e40b1",
   "metadata": {},
   "outputs": [],
   "source": []
  },
  {
   "cell_type": "code",
   "execution_count": null,
   "id": "9f5e1720-ed28-4cb8-9c3a-36249164d29c",
   "metadata": {},
   "outputs": [],
   "source": []
  }
 ],
 "metadata": {
  "kernelspec": {
   "display_name": "Python 3 (ipykernel)",
   "language": "python",
   "name": "python3"
  },
  "language_info": {
   "codemirror_mode": {
    "name": "ipython",
    "version": 3
   },
   "file_extension": ".py",
   "mimetype": "text/x-python",
   "name": "python",
   "nbconvert_exporter": "python",
   "pygments_lexer": "ipython3",
   "version": "3.12.7"
  }
 },
 "nbformat": 4,
 "nbformat_minor": 5
}
