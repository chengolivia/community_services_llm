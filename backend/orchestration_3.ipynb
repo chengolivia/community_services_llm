{
 "cells": [
  {
   "cell_type": "code",
   "execution_count": 36,
   "id": "92460e0f-f70b-4f7f-8a76-9244fc9c2b0c",
   "metadata": {},
   "outputs": [],
   "source": [
    "import openai \n",
    "from utils import call_chatgpt_api_all_chats, stream_process_chatgpt_response\n",
    "from secret import gao_key as key \n",
    "from resources.generate_response import analyze_situation_rag, analyze_situation_rag_guidance\n",
    "import concurrent.futures\n",
    "import re\n",
    "import time \n",
    "import json \n",
    "from benefits.eligibility_check import eligibility_check\n",
    "\n",
    "openai.api_key = key"
   ]
  },
  {
   "cell_type": "markdown",
   "id": "430a125d-d008-4406-a3bb-99f6900e2faa",
   "metadata": {},
   "source": [
    "# High-level, brief response with vanilla LLM"
   ]
  },
  {
   "cell_type": "code",
   "execution_count": 17,
   "id": "f0c4b98a-4d50-467c-a7ba-23da5ad1b844",
   "metadata": {},
   "outputs": [],
   "source": [
    "def get_support_recommendations(user_situation):\n",
    "    system_prompt = (\n",
    "        \"You are a helpful assistant trained to recommend supportive services or interventions \"\n",
    "        \"for individuals based on their personal situation. Consider factors like healthcare access, \"\n",
    "        \"housing, mental health, age, isolation, legal status, and physical needs. Be specific and actionable.\"\n",
    "    )\n",
    "\n",
    "    example_input = (\n",
    "        \"A 72-year-old retired man in Morristown, NJ, living in permanent housing and dually enrolled (Medicaid/Medicare), \"\n",
    "        \"seeks support for maintaining his physical wellness through better diet and exercise. \"\n",
    "        \"He is a non-drug user with ID and no incarceration history but struggles with isolation, \"\n",
    "        \"spending most of his days alone in his room, and wants to build social connections.\"\n",
    "    )\n",
    "\n",
    "    example_output = (\n",
    "        \"- Refer to local senior wellness programs through NJ Medicaid plans\\n\"\n",
    "        \"- Enroll in a community-based exercise group like SilverSneakers\\n\"\n",
    "        \"- Connect with peer support or friendly visitor programs to reduce isolation\\n\"\n",
    "        \"- Provide dietary planning support from Medicare-covered nutritionists\\n\"\n",
    "        \"- Suggest transportation services for seniors to attend community events\\n\"\n",
    "        \"- Encourage enrollment in group classes at a local senior center\"\n",
    "    )\n",
    "\n",
    "    user_prompt = f\"\"\"\\\n",
    "Given the following individual's situation, list specific and actionable supports they may benefit from.\n",
    "\n",
    "Example input:\n",
    "{example_input}\n",
    "\n",
    "Example output:\n",
    "{example_output}\n",
    "\n",
    "Now, given the situation:\n",
    "{user_situation}\n",
    "\n",
    "What support can be provided?\n",
    "\"\"\"\n",
    "    response = openai.chat.completions.create(\n",
    "        model=\"gpt-4.1-mini\",\n",
    "        messages=[\n",
    "            {\"role\": \"system\", \"content\": system_prompt},\n",
    "            {\"role\": \"user\", \"content\": user_prompt}\n",
    "        ]\n",
    "    )\n",
    "    \n",
    "    return response.choices[0].message.content\n",
    "   \n"
   ]
  },
  {
   "cell_type": "code",
   "execution_count": 18,
   "id": "6843453d-0591-40e2-9c28-923aed833649",
   "metadata": {},
   "outputs": [
    {
     "name": "stdout",
     "output_type": "stream",
     "text": [
      "- Refer to New Jersey state Disability Services to explore eligibility and application assistance for disability benefits (e.g., SSDI or SSI)\n",
      "- Connect with a social worker or benefits counselor specializing in immigrant populations to navigate disability and housing subsidies\n",
      "- Provide information on New Jersey's Temporary Assistance for Needy Families (TANF) and Section 8 housing subsidy programs\n",
      "- Refer to vocational rehabilitation services in NJ that support individuals with disabilities in maintaining or finding employment with accommodations\n",
      "- Connect with local disability advocacy organizations in Paterson for peer support and resources\n",
      "- Suggest enrollment in community health or wellness programs adapted for people with physical disabilities\n",
      "- Link to part-time employment resources offering flexible schedules or remote work options suitable for her physical needs\n",
      "- Provide info on transportation assistance programs for individuals with disabilities to ease commuting challenges\n",
      "- Encourage participation in local social groups or support networks for working adults with disabilities to enhance social engagement\n"
     ]
    }
   ],
   "source": [
    "situation = \"A 28-year-old woman in Paterson, NJ, is living in temporary housing while working a part-time job and has a physical disability that doesn't prevent her from working entirely but makes it difficult. She has documented immigration status but struggles to balance employment demands with physical wellness and social engagement. She is uncertain enough about her sustained ability to earn enough from part-time work to make it that she is asking about disability benefits and housing subsidies.\"\n",
    "\n",
    "recommendations = get_support_recommendations(situation)\n",
    "print(recommendations)"
   ]
  },
  {
   "cell_type": "markdown",
   "id": "103cbf2c-8e46-486f-bba7-dad5d8724b08",
   "metadata": {},
   "source": [
    "# Note\n",
    "- The response above represents the general or baseline output from the vanilla LLM, as discussed earlier. On the front end, it would be ideal to include a “Show More Details” button (or a similar format) for each output. Peer providers could click this button to view additional information related to that specific support item—such as goals, resources, follow-up questions, etc. The output format can be adjusted in the future; this is just a proof of concept for now.\n",
    "  \n",
    "- I'm using gpt4.1-mini as the model (newest reasoning model from OpenAI, cheap, 0.40 usd/1M tokens (4o-mini charges 0.15 usd/1M tokens))\n",
    "\n",
    "  \n",
    "- Further customization can be implemented. For example, the same button could allow peer providers to choose what type of information they want to view—SMART goals, resources, follow-up questions, or all of the above."
   ]
  },
  {
   "cell_type": "markdown",
   "id": "e84a9b0a-088f-42d4-9843-d25a4302d148",
   "metadata": {},
   "source": [
    "# Meta-reasoning for sophisticated context"
   ]
  },
  {
   "cell_type": "code",
   "execution_count": 19,
   "id": "ab3f2570-0e53-40bc-9d27-f7b852b2fb13",
   "metadata": {},
   "outputs": [],
   "source": [
    "# Define meta-reasoning prompt \n",
    "def generate_meta_reasoning_prompt(situation: str) -> str:\n",
    "    return f\"\"\"\n",
    "You are an expert mental health support agent tasked with analyzing a user's provided situation to guide subsequent analysis modules. Your goal is NOT to produce concrete SMART goals, resources, or specific questions directly, but rather to reason conceptually and give clear directions on how each specialized module should approach the situation.\n",
    "\n",
    "Given the user's situation below, clearly articulate conceptual guidance and direction ONLY for each of the following modules:\n",
    "\n",
    "1. **SMART Goals Module**: \n",
    "   - What key themes or areas should SMART goals focus on, given this situation?\n",
    "   - Briefly outline what characteristics or considerations the SMART goals should prioritize, without listing actual goals.\n",
    "\n",
    "2. **Resources Module**:\n",
    "   - Identify types or categories of resources that are conceptually relevant or could potentially benefit the user.\n",
    "   - Specify the criteria or conditions to use when searching for relevant resources.\n",
    "\n",
    "3. **Follow-up Questions Module**:\n",
    "   - Conceptually suggest what kinds of insightful follow-up questions would be helpful.\n",
    "   - Highlight themes or areas that need clarification or further exploration.\n",
    "\n",
    "4. **Benefits Eligibility Module**:\n",
    "   - Provide high-level guidance on what types of benefits or eligibility considerations should be examined.\n",
    "   - Mention what contextual clues or criteria would be helpful to determine eligibility.\n",
    "\n",
    "### User Situation:\n",
    "{situation}\n",
    "\n",
    "### Provide structured, conceptual reasoning clearly labeled for each module:\n",
    "\"\"\""
   ]
  },
  {
   "cell_type": "code",
   "execution_count": 20,
   "id": "2ae98467-b61a-4ac5-8b18-ccdac2889997",
   "metadata": {},
   "outputs": [],
   "source": [
    "# o3-mini for enhanced reasoning capability\n",
    "# lower price than 4o but more expensive than 4o-mini ($15 / 1M tokens)\n",
    "# o3-mini is only used during the reasoning step\n",
    "\n",
    "def call_llm_reason(messages, model=\"o3-mini\"):\n",
    "    response = openai.chat.completions.create(\n",
    "        model=model,\n",
    "        messages=messages\n",
    "    )\n",
    "    return response.choices[0].message.content\n",
    "\n",
    "def get_meta_reasoning(situation: str):\n",
    "    meta_prompt = generate_meta_reasoning_prompt(situation)\n",
    "\n",
    "    messages = [\n",
    "        {\"role\": \"system\", \"content\": \"You are an expert mental health reasoning assistant providing structured conceptual guidance for mental health support modules.\"},\n",
    "        {\"role\": \"user\", \"content\": meta_prompt}\n",
    "    ]\n",
    "\n",
    "    reasoning_response = call_llm_reason(messages)\n",
    "    structured_reasoning = parse_reasoning(reasoning_response)\n",
    "    \n",
    "    return structured_reasoning"
   ]
  },
  {
   "cell_type": "code",
   "execution_count": 21,
   "id": "aa0001e4-42fb-4a7d-8818-15cf1d47db8d",
   "metadata": {},
   "outputs": [],
   "source": [
    "# Parsing function to neatly structure the response\n",
    "def parse_reasoning(response_text: str):\n",
    "    modules = [\"SMART Goals Module\", \"Resources Module\", \"Follow-up Questions Module\", \"Benefits Eligibility Module\"]\n",
    "    reasoning = {}\n",
    "\n",
    "    current_module = None\n",
    "    for line in response_text.splitlines():\n",
    "        line_stripped = line.strip()\n",
    "        if any(module in line_stripped for module in modules):\n",
    "            current_module = next(module for module in modules if module in line_stripped)\n",
    "            reasoning[current_module] = \"\"\n",
    "        elif current_module and line_stripped != \"\":\n",
    "            reasoning[current_module] += line_stripped + \" \"\n",
    "\n",
    "    # Clean extra spaces\n",
    "    for key in reasoning:\n",
    "        reasoning[key] = reasoning[key].strip()\n",
    "\n",
    "    return reasoning"
   ]
  },
  {
   "cell_type": "code",
   "execution_count": 23,
   "id": "3822882b-f8b9-4fad-9225-fe94f7c44ab1",
   "metadata": {},
   "outputs": [
    {
     "name": "stdout",
     "output_type": "stream",
     "text": [
      "\n",
      "=== Structured Meta-Reasoning Output ===\n",
      "\n",
      "**SMART Goals Module**:\n",
      "• Key Themes/Areas: Focus on stability and improvement across work-life balance, physical health management, and social engagement. In addition, consider financial security, particularly in relation to potential disability benefits and housing support. • Characteristics and Considerations: SMART goals should be tailored to measurable outcomes that consider her physical limitations, part-time employment framework, and the necessity for consistent well-being. Goals should be realistic, time-bound, and flexible enough to adjust to her ongoing physical and situational challenges. They must integrate metrics that monitor progress in health, employment, and social recovery while being achievable within her current support system.\n",
      "\n",
      "**Resources Module**:\n",
      "• Types/Categories of Resources: Identify resources focused on physical rehabilitation or adaptive services for disabilities, employment support services, local community services for housing subsidies, and mental health support networks. Also consider legal or advocacy support linked to immigration documentation issues. • Criteria/Conditions for Searching Resources: Resources should be located within or near Paterson, NJ, and tailored to individuals with partial disabilities. They must be accessible to someone balancing part-time work commitments, with clear eligibility requirements related to income, disability status, and immigration documentation. Emphasize up-to-date information on eligibility, community partnerships, and comprehensive support services.\n",
      "\n",
      "**Follow-up Questions Module**:\n",
      "• Insightful Follow-up Topics: Questions should explore the specifics of her daily challenges—both in managing physical wellness and work demands—as well as her current coping mechanisms and support networks. Additional insights into her long-term aspirations for stable employment and financial independence, as well as her social support system, would open avenues for further guidance. • Themes/Areas for Clarification: Clarify the nuances of her disability and how it affects her work, inquire about her current level of social engagement and mental health status, and delve into her past experiences with housing or disability support. Also, investigate how her immigration status might intersect with available benefits, which will allow for a clearer picture of her eligibility and resource needs.\n",
      "\n",
      "**Benefits Eligibility Module**:\n",
      "• Types of Benefits/Eligibility Considerations: Conceptually review potential disability benefits, housing subsidies, and other public assistance or social support programs that accommodate individuals with physical disabilities working part-time. Recognize that benefits might span from healthcare services to vocational rehabilitation programs. • Contextual Clues/Criterial Guidance: Look for evidence of how her disability impacts her ability to work full-time, her income level relative to local cost-of-living metrics, and her current status within temporary housing. Her documented immigration status is also crucial, as many benefits programs have citizenship or residency conditions. Ensure that the criteria used reflect both her physical limitations and her financial or housing instability over time, thereby establishing a clear link between need and eligibility. This conceptual guidance should enable each module to structure its reasoning in a way that addresses the multiple layers of the user’s situation, ensuring a holistic and sensitive approach to her challenges.\n",
      "\n"
     ]
    }
   ],
   "source": [
    "meta_reasoning_result = get_meta_reasoning(situation)\n",
    "print(\"\\n=== Structured Meta-Reasoning Output ===\\n\")\n",
    "for module, guidance in meta_reasoning_result.items():\n",
    "    print(f\"**{module}**:\\n{guidance}\\n\")"
   ]
  },
  {
   "cell_type": "code",
   "execution_count": 24,
   "id": "dd632cd6-5c36-4109-a1c0-36d43ea665b9",
   "metadata": {},
   "outputs": [],
   "source": [
    "smart_goal_reasoning = meta_reasoning_result['SMART Goals Module']\n",
    "resource_reasoning = meta_reasoning_result['Resources Module']\n",
    "question_reasoning = meta_reasoning_result['Follow-up Questions Module']\n",
    "benefit_reasonsing = meta_reasoning_result['Benefits Eligibility Module']"
   ]
  },
  {
   "cell_type": "code",
   "execution_count": 40,
   "id": "81cfca5c-de34-437a-a0a9-640032cd7388",
   "metadata": {},
   "outputs": [],
   "source": [
    "mental_health_prompt = open(\"mental_health/prompts/mental_health_prompt.txt\").read()\n",
    "question_prompt = open(\"mental_health/prompts/question_prompts.txt\").read()\n",
    "benefit_prompt = open(\"benefits/prompts/uncertain_prompt_wellness.txt\").read()\n",
    "resource_prompt = open(\"mental_health/prompts/resource_prompt.txt\").read()"
   ]
  },
  {
   "cell_type": "markdown",
   "id": "baab43f6-72e3-4a0a-929f-1087e00fa43a",
   "metadata": {},
   "source": [
    "# Note\n",
    "- The “goal” here refers to the specific item the user clicked the “More Information” button on. We are addressing this particular aspect of the vanilla response that the user wants more details about.\n",
    "\n",
    "- smart_meta_reasoning and followup_meta_reasoning are used as contextual inputs.\n",
    "\n",
    "- RAG will continue to be used for retrieving relevant resources.\n"
   ]
  },
  {
   "cell_type": "code",
   "execution_count": 41,
   "id": "eda9d0ba-e2bd-48c5-b333-0834b48f66df",
   "metadata": {},
   "outputs": [],
   "source": [
    "def generate_goal_specific_details(goal, user_situation, smart_meta_reasoning, followup_meta_reasoning, system_prompt, question_prompt, mental_health_prompt):\n",
    "    messages = [\n",
    "        {\n",
    "            \"role\": \"system\",\n",
    "            \"content\": system_prompt\n",
    "        },\n",
    "        {\n",
    "            \"role\": \"user\",\n",
    "            \"content\": f\"\"\"\\\n",
    "You are given the following:\n",
    "\n",
    "1. **User Situation**: \n",
    "{user_situation}\n",
    "\n",
    "2. **Goal of Interest**:\n",
    "{goal}\n",
    "\n",
    "3. **SMART Goals Module Meta Reasoning**:\n",
    "{smart_meta_reasoning}\n",
    "\n",
    "4. **Follow-up Questions Module Meta Reasoning**:\n",
    "{followup_meta_reasoning}\n",
    "\n",
    "Based on the above, do the following:\n",
    "- {mental_health_prompt}\n",
    "\n",
    "- {question_prompt}\n",
    "\n",
    "Please output using the following format:\n",
    "\n",
    "[SMART Goals]\n",
    "1. ...\n",
    "2. ...\n",
    "...\n",
    "[/SMART Goals]\n",
    "\n",
    "[Follow-up Questions]\n",
    "1. ...\n",
    "2. ...\n",
    "...\n",
    "[/Follow-up Questions]\n",
    "\"\"\"\n",
    "        }\n",
    "    ]\n",
    "    \n",
    "    response = openai.chat.completions.create(\n",
    "        model=\"gpt-4.1-mini\",\n",
    "        messages=messages\n",
    "    )\n",
    "    return response.choices[0].message.content\n"
   ]
  },
  {
   "cell_type": "code",
   "execution_count": 42,
   "id": "59a4845e-3f07-4d7f-91b6-2572768e0109",
   "metadata": {},
   "outputs": [
    {
     "name": "stdout",
     "output_type": "stream",
     "text": [
      "[SMART Goals]  \n",
      "1. Research and enroll in at least one community health or wellness program adapted for individuals with physical disabilities within the next 30 days in Paterson, NJ. Measure progress by obtaining enrollment confirmation and attending the first session.  \n",
      "2. Attend at least two sessions per month of the chosen wellness program over the next three months to improve physical health and social engagement. Track attendance and note any improvements in energy levels or social interactions.  \n",
      "3. Identify and meet with a benefits counselor or social worker within the next 45 days to discuss eligibility and application steps for disability benefits and housing subsidies. Document the meeting outcomes and next steps.  \n",
      "4. Develop a weekly self-care routine that includes physical wellness activities (e.g., adapted exercises or physical therapy) and social interaction opportunities, dedicating at least 3 hours per week over the next two months. Keep a weekly log to monitor consistency and well-being impact.  \n",
      "5. Create a simple time-management plan within the next two weeks that balances part-time work, wellness activities, and social engagement to reduce stress and improve overall wellness. Review and adjust this plan monthly based on physical capacity and work demands.  \n",
      "[/SMART Goals]  \n",
      "\n",
      "[Follow-up Questions]  \n",
      "1. (Physical Wellness) Can you tell me more about the specific challenges your physical disability presents during your daily activities and work? This will help us identify the most suitable wellness programs and accommodations.  \n",
      "2. (Occupational Wellness) How does your part-time job schedule currently affect your ability to attend health or social programs? Understanding this can guide us in finding programs that fit your availability.  \n",
      "3. (Financial Wellness) Have you started exploring disability benefits or housing subsidies on your own, or would you like assistance in connecting with a counselor who can guide you through the application process?  \n",
      "4. (Social Wellness) What kinds of social activities or community connections do you currently have, and are there particular interests or hobbies you’d like to pursue in adapted settings?  \n",
      "5. (Emotional Wellness) How are you feeling emotionally about balancing work, your physical health, and social life? Identifying emotional stressors can help us provide appropriate support.  \n",
      "6. (Environmental Wellness) Could you describe your current temporary housing situation—does it support your physical needs and wellness activities, or are there any barriers we should know about?  \n",
      "7. (Intellectual/Spiritual Wellness) Are there any interests or practices you engage in that help you find meaning, relaxation, or personal growth that we could consider when planning your wellness activities?  \n",
      "[/Follow-up Questions]\n"
     ]
    }
   ],
   "source": [
    "goal = \"Suggest enrollment in community health or wellness programs adapted for people with physical disabilitiess\"\n",
    "\n",
    "system_prompt = (\n",
    "    \"You are a helpful assistant trained to guide peer specialists in supporting individuals' wellness through structured planning. \"\n",
    "    \"You provide SMART goals and thoughtful follow-up questions based on the user’s situation and a specific goal of interest. \"\n",
    "    \"You do not invent information; you reason clearly and draw only from the provided context. Make goals measurable, achievable, and personalized.\"\n",
    ")\n",
    "\n",
    "# Call the function\n",
    "output = generate_goal_specific_details(goal, situation, smart_goal_reasoning, question_reasoning, system_prompt, question_prompt, mental_health_prompt)\n",
    "print(output)\n"
   ]
  },
  {
   "cell_type": "code",
   "execution_count": 43,
   "id": "5f465c36-38ce-406a-ba72-1ae4fbe6abb6",
   "metadata": {},
   "outputs": [
    {
     "name": "stderr",
     "output_type": "stream",
     "text": [
      "/opt/miniconda3/lib/python3.12/site-packages/transformers/models/mpnet/modeling_mpnet.py:1051: UserWarning: cumsum_out_mps supported by MPS on MacOS 13+, please upgrade (Triggered internally at /Users/runner/work/pytorch/pytorch/pytorch/aten/src/ATen/native/mps/operations/UnaryOps.mm:425.)\n",
      "  incremental_indices = torch.cumsum(mask, dim=1).type_as(mask) * mask\n"
     ]
    }
   ],
   "source": [
    "rag_input = f\"\"\"\n",
    "Goal: \n",
    "{goal}\n",
    "\n",
    "User Situation:\n",
    "{situation}\n",
    "\n",
    "Guidance for Relevant Resources:\n",
    "{resource_reasoning}\n",
    "\"\"\"\n",
    "retrieved_resources = analyze_situation_rag(rag_input, k=15)"
   ]
  },
  {
   "cell_type": "code",
   "execution_count": 44,
   "id": "685e3ec1-24e4-45bb-995b-8c66d85a8dae",
   "metadata": {
    "scrolled": true
   },
   "outputs": [
    {
     "data": {
      "text/plain": [
       "\"The Marketplace (CUMAC), URL: https://www.cumac.org/, Phone: 9737425518, Description: The Marketplace (CUMAC) is a holistic resource designed to combat hunger and its underlying causes by offering groceries and essential items to individuals and families in need. Operating Monday to Friday from 9:30 AM to 3:00 PM, it employs a trauma-informed, appointment-based approach, empowering guests to select their own food while fostering community connections. CUMAC emphasizes diversity and community representation, employing local residents and tailoring programs to address the effects of childhood trauma. The initiative aims not only for immediate relief but also for long-term positive changes in knowledge and behavior.\\nCUMAC, URL: https://www.cumac.org/, Phone: 9737425518, Description: CUMAC is dedicated to combating hunger and its underlying causes through a holistic, trauma-informed approach. They provide groceries and basic necessities via an appointment-based Choice Marketplace, empowering individuals and families. CUMAC emphasizes supportive services that address the impacts of childhood trauma, helping guests build community while fostering relationships with volunteers. Their diverse team includes community members, ensuring programs reflect local needs. The organization actively measures its impact on community knowledge, attitudes, and behaviors to promote long-term change. CUMAC's commitment to service spans 40 years, making a significant difference in the lives of those in need.\\nColonial Manor Methodist Church, URL: https://www.umc.org/en/find-a-church/church?id=001Um00000PFD0yIAH, Phone: nan, Description: Colonial Manor United Methodist Church, located in Woodbury, New Jersey, focuses on making disciples of Jesus Christ to transform the world. The church promotes health and wholeness through various ministries, advocates for justice, and addresses social issues. It offers worship and devotion opportunities, as well as resources for spiritual growth. With a commitment to community service, Colonial Manor UMC provides a welcoming space for individuals seeking support, fellowship, and active participation in their faith journey. The church hosts regular services and community events aimed at fostering connection and spiritual development.\\nCVS #8951 - Vineland, URL: https://www.cvs.com/store-locator/vineland-nj-pharmacies/3629-e-landis-ave-vineland-nj-08361/storeid=8951, Phone: 8564555555, Description: Skipped due to timeout, missing website, or no useful content found.\\nRowan College Vaccination Site, URL: https://sites.rowan.edu/universityevents/flu-clinic-forms.html, Phone: nan, Description: The Rowan College Vaccination Site at Rowan University offers COVID vaccines and boosters to both employees and students. Located in the Owls Nest of the Chamberlain Student Center, it administers all three vaccines: Pfizer, Moderna, and Johnson & Johnson. Appointments are required, and individuals are not eligible if they exhibit COVID-related symptoms, have been in close contact with confirmed COVID-19 cases, or are waiting on test results. The clinic supports campus health and safety, promoting community well-being during the pandemic.\\nNational Suicide Hotline, URL: https://chat.988lifeline.org/, Phone: nan, Description: The National Suicide Hotline, accessible via the 988 number, offers immediate, free, and confidential support for individuals in crisis or emotional distress. The service includes a pre-chat survey to assess the caller's situation, connecting them with trained counselors who provide empathetic listening, guidance, and crisis intervention. It emphasizes prevention and offers resources for coping strategies, emotional support, and referrals to additional mental health services. The hotline is available 24/7, ensuring that help is always nearby for those struggling with suicidal thoughts or mental health concerns.\\nRockingham Historic Site, URL: https://www.rockingham.net/, Phone: 6096837132, Description: Rockingham Historic Site served as George Washington's final wartime headquarters during the American Revolution. Visitors can explore the history of the site, learn about the house’s evolution, and view 18th-century furnishings and military reproductions. The site hosts special events throughout the year, including Children's Day and Candlelight Tours. Community engagement opportunities allow individuals to support the site through membership in the Rockingham Association or the Adopt-A-Bed initiative in the colonial garden. It effectively combines historical education with opportunities for active participation in preserving its rich heritage.\\nAffordable Housing Alliance, URL: https://housingall.org/, Phone: 7323892958, Description: The Affordable Housing Alliance (AHA) aims to enhance New Jersey residents' quality of life by developing affordable housing and providing essential support services. Their offerings include housing stability programs, foreclosure counseling, utility assistance, and educational resources related to homeownership. AHA also partners with communities to meet housing obligations and assists individuals facing challenges in obtaining or maintaining housing. They facilitate rehabilitation applications and provide assistance with mortgage and rental arrears, ensuring support for those in need. AHA actively engages in community empowerment through its various initiatives promoting sustainable living and financial stability.\\nCVS #17250 - Millville, URL: https://www.cvs.com/store-locator/millville-nj-pharmacies/2100-n-2nd-st-millville-nj-08332/storeid=17250, Phone: 8564555555, Description: Skipped due to timeout, missing website, or no useful content found.\\nClifton Health Department: Free Eye Exams, URL: https://www.passaicresourcenet.org/search/clifton-health-department-free-eye-exams/, Phone: 9732651533, Description: The Clifton Health Department offers free eye exams on the 2nd Thursday of each month from 9 AM to 12 PM at their Clifton location. This service is available to individuals of all ages, including children, adolescents, adults, and seniors. It aims to support the vision health needs of families in Passaic County, ensuring accessible eye care services without financial barriers. This resource is particularly beneficial for those who may not otherwise have access to eye exams.\\nCVS #5855 - Vineland, URL: https://www.cvs.com/store-locator/vineland-nj-pharmacies/1163-e-chestnut-ave-vineland-nj-08360/storeid=5855, Phone: 8564555555, Description: Skipped due to timeout, missing website, or no useful content found.\\nOutpatient Rehab for Teens in New Jersey, URL: https://988lifeline.org/chat, Phone: 988, Description: Outpatient Rehab for Teens in New Jersey offers tailored programs focusing on mental health and substance use disorders. Services include individual and group therapy, family counseling, and life skills training. The facility emphasizes a supportive environment with evidence-based practices, promoting resilience and coping strategies. Activities often incorporate art and recreational therapy, fostering engagement while addressing emotional and behavioral challenges. The program also provides crisis intervention and educational resources to assist teens in their recovery journey.\\nHealth Fair Online Events, URL: https://www.eventbrite.com/d/nj--jersey-city/health-fair/, Phone: 6464158610, Description: Health Fair Online Events, hosted on Eventbrite, offers a platform for various health-related fairs and activities in Jersey City, NJ. Attendees can participate in wellness fairs, informative workshops, and community health events that address diverse topics, including diabetes management and women's health. These events aim to promote health education, provide resources, and foster community engagement. Many events are free or low-cost, making them accessible to everyone. By connecting local residents with healthcare professionals and organizations, Health Fair Online Events enhances community health awareness and support.\\nCrunch Fitness, URL: https://www.crunch.com/locations/paramus, Phone: 9737943652, Description: Crunch Fitness in Paramus offers a vibrant, inclusive environment for individuals of all fitness levels. Operating hours are Monday to Thursday from 5 AM to 11 PM, Friday 5 AM to 9 PM, and Saturday to Sunday 7 AM to 5 PM. Members benefit from a wide range of cardio and strength equipment, group fitness classes, and personal training. Amenities include clean locker rooms, HydroMassage®, tanning, and a juice bar. The gym hosts specialized HIIT classes and encourages a supportive community atmosphere. Membership options start as low as $9.99 monthly, with promotional offers available. Explore options that suit your wellness journey!\\nClear Conscience Counseling, URL: https://www.clearconsciencenj.com/, Phone: 9734347830, Description: Clear Conscience Counseling, LLC, located in South Plainfield, NJ, offers compassionate, personalized mental health services for individuals and families. Specializing in therapy modalities such as EMDR, couples therapy, and family therapy, they provide both outpatient services and intense in-community support. Their mission focuses on delivering high-quality, evidence-based treatments to the community, prioritizing care for underserved populations. Open Monday through Saturday, they emphasize a flexible, solution-focused approach to empower clients toward lasting healing and growth. Their dedicated team is committed to supporting mental health and behavioral wellness across all ages.\""
      ]
     },
     "execution_count": 44,
     "metadata": {},
     "output_type": "execute_result"
    }
   ],
   "source": [
    "retrieved_resources"
   ]
  },
  {
   "cell_type": "code",
   "execution_count": 59,
   "id": "f75c8de7-6e57-4d5f-b706-f5ba0d2aadfa",
   "metadata": {},
   "outputs": [],
   "source": [
    "def select_relevant_resources(goal, situation, meta_reasoning_guidance, retrieved_resources):\n",
    "    prompt = f\"\"\"\n",
    "You are an expert resource recommendation assistant. Given goal that we are addressing, the user's specific situation, conceptual guidance, and a list of potential resources retrieved from a knowledge base, your task is to carefully select and recommend ONLY the most relevant and helpful resources. \n",
    "\n",
    "Consider the original situation and the conceptual guidance carefully to ensure selected resources specifically match the user's needs and context.\n",
    "\n",
    "Do not make anything up. Only select resources from the list that is given to you.\n",
    "\n",
    "## Goal to be addressed:\n",
    "{goal}\n",
    "\n",
    "## Original User Situation:\n",
    "{situation}\n",
    "\n",
    "## Conceptual Guidance for Selecting Resources:\n",
    "{meta_reasoning_guidance}\n",
    "\n",
    "## Retrieved Resources:\n",
    "{retrieved_resources}\n",
    "\n",
    "## Your task:\n",
    "- Carefully evaluate the retrieved resources in relation to the user's situation and the provided conceptual guidance.\n",
    "- Select and recommend ONLY the resources that BEST match the user's situation.\n",
    "- Clearly present your recommendations in a structured, easy-to-read format.\n",
    "- For each selected resource, briefly explain why it is specifically relevant.\n",
    "\n",
    "## Selected Most Relevant Resources (clearly listed and explained):\n",
    "\"\"\"\n",
    "    messages = [\n",
    "        {\"role\": \"system\", \"content\": \"You are an expert assistant selecting highly relevant resources tailored to the user's situation.\"},\n",
    "        {\"role\": \"user\", \"content\": prompt}\n",
    "    ]\n",
    "\n",
    "    response = openai.chat.completions.create(\n",
    "        model=\"gpt-4.1-mini\",\n",
    "        messages=messages\n",
    "    )\n",
    "    return response.choices[0].message.content"
   ]
  },
  {
   "cell_type": "code",
   "execution_count": 60,
   "id": "749632e9-205e-4dd1-b8ce-4f09ba4baf0f",
   "metadata": {},
   "outputs": [],
   "source": [
    "def format_selected_resources(raw_text):\n",
    "    formatted_text = raw_text.replace(\"\\\\n\", \"\\n\")\n",
    "    formatted_text = re.sub(r'\\*\\*', '', formatted_text)\n",
    "    formatted_text = re.sub(r'###+', '', formatted_text)\n",
    "    formatted_text = re.sub(r'\\s*(\\d+)\\.\\s*(.+?):\\s*\\n', r'\\n\\1. **\\2**\\n', formatted_text)\n",
    "    formatted_text = re.sub(r'–\\s*URL\\s*:', '- **URL:**', formatted_text, flags=re.I)\n",
    "    formatted_text = re.sub(r'–\\s*Phone\\s*:', '- **Phone:**', formatted_text, flags=re.I)\n",
    "    formatted_text = re.sub(r'–\\s*Relevance\\s*:', '- **Relevance:**', formatted_text, flags=re.I)\n",
    "    formatted_text = re.sub(r'\\n+', '\\n', formatted_text).strip()\n",
    "    return formatted_text"
   ]
  },
  {
   "cell_type": "code",
   "execution_count": 61,
   "id": "ddb8dd24-fb69-4e58-ba90-2cacef184488",
   "metadata": {
    "scrolled": true
   },
   "outputs": [
    {
     "name": "stdout",
     "output_type": "stream",
     "text": [
      "## Selected Most Relevant Resources\n",
      "1. Affordable Housing Alliance  \n",
      "   - URL: https://housingall.org/  \n",
      "   - Phone: 7323892958  \n",
      "   - Relevance: This organization specializes in affordable housing and housing stability programs in New Jersey, which is highly relevant given the user’s temporary housing situation. They provide support for rental assistance and other housing subsidies, fitting the user's needs for stable living conditions. Their services are tailored for residents facing financial challenges, complementing the user’s part-time employment and physical disability context.\n",
      "2. Clear Conscience Counseling, LLC  \n",
      "   - URL: https://www.clearconsciencenj.com/  \n",
      "   - Phone: 9734347830  \n",
      "   - Relevance: This mental health counseling service offers flexible, personalized therapy for underserved populations, which fits the user’s need for support balancing work, wellness, and social engagement. Their evidence-based outpatient services and community support can help address emotional stresses related to disability, immigration status, and financial uncertainty.\n",
      "3. CUMAC (The Marketplace)  \n",
      "   - URL: https://www.cumac.org/  \n",
      "   - Phone: 9737425518  \n",
      "   - Relevance: CUMAC provides essential groceries and supportive services in a trauma-informed, community-focused manner in the Paterson, NJ area nearby. The appointment-based model accommodates working individuals, helping ease financial burdens related to basic needs. This complements wellness by addressing nutrition and community connection without requiring extensive time commitment.\n",
      "4. Health Fair Online Events (Jersey City, NJ)  \n",
      "   - URL: https://www.eventbrite.com/d/nj--jersey-city/health-fair/  \n",
      "   - Phone: 6464158610  \n",
      "   - Relevance: These local health fairs and workshops promote wellness and community engagement and may include adaptive health programs suitable for people with physical disabilities. The events are often low-cost and flexible, suitable for a part-time worker seeking opportunities to enhance physical and social wellness.\n",
      "---\n",
      " Resources Not Selected and Why:  \n",
      "- Colonial Manor Methodist Church: Located in Woodbury, NJ, which is not near Paterson, and the focus is on spiritual services rather than adapted wellness programs.  \n",
      "- Crunch Fitness (Paramus): While fitness is relevant, this gym is not in Paterson and does not specify adaptive programs for physical disabilities.  \n",
      "- Clifton Health Department (Free Eye Exams): Useful for vision care but does not address broader wellness or community integration needs.  \n",
      "- Outpatient Rehab for Teens: Focuses on teens and mental health/substance use, less aligned with adult physical disability and part-time employment context.  \n",
      "- Rockingham Historic Site: Relevant for community engagement but does not meet the wellness or disability-focused criteria.  \n",
      "- National Suicide Hotline: Important for crisis support but does not specifically relate to ongoing wellness programs or housing/disability services.  \n",
      "- Rowan College Vaccination Site: A specific health service with limited scope, not addressing comprehensive wellness or disability program needs.  \n",
      "- CVS Locations: Not relevant as no helpful community/adaptive health programs are described.\n",
      "---\n",
      " Summary  \n",
      "The recommended resources provide a combination of housing assistance, mental health support, nutrition aid, and wellness engagement opportunities tailored to a working adult with physical disability living in temporary housing in Paterson, NJ. These specifically address the user’s balance of part-time work, disability considerations, and need for accessible, adaptive community health programs.\n"
     ]
    }
   ],
   "source": [
    "selected_resources = select_relevant_resources(\n",
    "        goal,\n",
    "        situation,\n",
    "        resource_reasoning,\n",
    "        retrieved_resources)\n",
    "resource_output = format_selected_resources(selected_resources)\n",
    "print(resource_output)"
   ]
  },
  {
   "cell_type": "code",
   "execution_count": null,
   "id": "21b0d7cf-6ef2-4819-8aeb-1b457b661f1b",
   "metadata": {},
   "outputs": [],
   "source": []
  }
 ],
 "metadata": {
  "kernelspec": {
   "display_name": "Python 3 (ipykernel)",
   "language": "python",
   "name": "python3"
  },
  "language_info": {
   "codemirror_mode": {
    "name": "ipython",
    "version": 3
   },
   "file_extension": ".py",
   "mimetype": "text/x-python",
   "name": "python",
   "nbconvert_exporter": "python",
   "pygments_lexer": "ipython3",
   "version": "3.12.7"
  }
 },
 "nbformat": 4,
 "nbformat_minor": 5
}
