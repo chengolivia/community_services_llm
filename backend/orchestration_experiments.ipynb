{
 "cells": [
  {
   "cell_type": "code",
   "execution_count": 3,
   "id": "04085946-83dd-4f39-abed-9c57033966ec",
   "metadata": {},
   "outputs": [],
   "source": [
    "import openai \n",
    "from utils import call_chatgpt_api_all_chats, stream_process_chatgpt_response\n",
    "from secret import gao_key as key \n",
    "from resources.generate_response import analyze_situation_rag, analyze_situation_rag_guidance\n",
    "import concurrent.futures\n",
    "import re\n",
    "import time \n",
    "import json \n",
    "from benefits.eligibility_check import eligibility_check\n",
    "\n",
    "openai.api_key = key"
   ]
  },
  {
   "cell_type": "markdown",
   "id": "6e1fa728-59e3-4570-bb11-45274589bfad",
   "metadata": {},
   "source": [
    "# New Orchestartion Approach "
   ]
  },
  {
   "cell_type": "markdown",
   "id": "e04349f3-1529-4cd6-8c75-0dbc16352933",
   "metadata": {},
   "source": [
    "## Step 1: High-Level Reasoning (Meta-Reasoning Step)\n",
    "\n",
    "### Introduce a preliminary reasoning step, asking the LLM to reason broadly about the situation and explicitly articulate what's required or relevant for each subsequent module\n"
   ]
  },
  {
   "cell_type": "code",
   "execution_count": 25,
   "id": "e6779a3f-bd40-4b71-aac6-83f22114aacf",
   "metadata": {},
   "outputs": [],
   "source": [
    "# Define meta-reasoning prompt \n",
    "def generate_meta_reasoning_prompt(situation: str) -> str:\n",
    "    return f\"\"\"\n",
    "You are an expert mental health support agent tasked with analyzing a user's provided situation to guide subsequent analysis modules. Your goal is NOT to produce concrete SMART goals, resources, or specific questions directly, but rather to reason conceptually and give clear directions on how each specialized module should approach the situation.\n",
    "\n",
    "Given the user's situation below, clearly articulate conceptual guidance and direction ONLY for each of the following modules:\n",
    "\n",
    "1. **SMART Goals Module**: \n",
    "   - What key themes or areas should SMART goals focus on, given this situation?\n",
    "   - Briefly outline what characteristics or considerations the SMART goals should prioritize, without listing actual goals.\n",
    "\n",
    "2. **Resources Module**:\n",
    "   - Identify types or categories of resources that are conceptually relevant or could potentially benefit the user.\n",
    "   - Specify the criteria or conditions to use when searching for relevant resources.\n",
    "\n",
    "3. **Follow-up Questions Module**:\n",
    "   - Conceptually suggest what kinds of insightful follow-up questions would be helpful.\n",
    "   - Highlight themes or areas that need clarification or further exploration.\n",
    "\n",
    "4. **Benefits Eligibility Module**:\n",
    "   - Provide high-level guidance on what types of benefits or eligibility considerations should be examined.\n",
    "   - Mention what contextual clues or criteria would be helpful to determine eligibility.\n",
    "\n",
    "### User Situation:\n",
    "{situation}\n",
    "\n",
    "### Provide structured, conceptual reasoning clearly labeled for each module:\n",
    "\"\"\""
   ]
  },
  {
   "cell_type": "code",
   "execution_count": 64,
   "id": "27033eed-20f4-4c91-ab0c-42365381d9d0",
   "metadata": {},
   "outputs": [],
   "source": [
    "# o3-mini for enhanced reasoning capability\n",
    "# lower price than 4o but more expensive than 4o-mini ($15 / 1M tokens)\n",
    "# o3-mini is only used during the reasoning step\n",
    "\n",
    "def call_llm_reason(messages, model=\"o3-mini\"):\n",
    "    response = openai.chat.completions.create(\n",
    "        model=model,\n",
    "        messages=messages\n",
    "    )\n",
    "    return response.choices[0].message.content\n",
    "\n",
    "# general purpose LLM\n",
    "def call_llm(messages, model=\"gpt-4o-mini\"):\n",
    "    response = openai.chat.completions.create(\n",
    "        model=model,\n",
    "        messages=messages\n",
    "    )\n",
    "    return response.choices[0].message.content\n",
    "\n",
    "def get_meta_reasoning(situation: str):\n",
    "    meta_prompt = generate_meta_reasoning_prompt(situation)\n",
    "\n",
    "    messages = [\n",
    "        {\"role\": \"system\", \"content\": \"You are an expert mental health reasoning assistant providing structured conceptual guidance for mental health support modules.\"},\n",
    "        {\"role\": \"user\", \"content\": meta_prompt}\n",
    "    ]\n",
    "\n",
    "    reasoning_response = call_llm_reason(messages)\n",
    "    structured_reasoning = parse_reasoning(reasoning_response)\n",
    "    \n",
    "    return structured_reasoning"
   ]
  },
  {
   "cell_type": "code",
   "execution_count": 34,
   "id": "405503b7-1e55-4e20-8d62-1d7f7739a463",
   "metadata": {},
   "outputs": [],
   "source": [
    "# Parsing function to neatly structure the response\n",
    "def parse_reasoning(response_text: str):\n",
    "    modules = [\"SMART Goals Module\", \"Resources Module\", \"Follow-up Questions Module\", \"Benefits Eligibility Module\"]\n",
    "    reasoning = {}\n",
    "\n",
    "    current_module = None\n",
    "    for line in response_text.splitlines():\n",
    "        line_stripped = line.strip()\n",
    "        if any(module in line_stripped for module in modules):\n",
    "            current_module = next(module for module in modules if module in line_stripped)\n",
    "            reasoning[current_module] = \"\"\n",
    "        elif current_module and line_stripped != \"\":\n",
    "            reasoning[current_module] += line_stripped + \" \"\n",
    "\n",
    "    # Clean extra spaces\n",
    "    for key in reasoning:\n",
    "        reasoning[key] = reasoning[key].strip()\n",
    "\n",
    "    return reasoning"
   ]
  },
  {
   "cell_type": "code",
   "execution_count": 35,
   "id": "d8f689b0-d911-4aeb-b2fd-3b6f92d7ad78",
   "metadata": {},
   "outputs": [],
   "source": [
    "example_situation = \"A 72-year-old retired man in Morristown, NJ, \\\n",
    "living in permanent housing and dually enrolled (Medicaid/Medicare), \\\n",
    "seeks support for maintaining his physical wellness through better diet and exercise. \\\n",
    "He is a non-drug user with ID and no incarceration history but struggles with isolation, \\\n",
    "spending most of his days alone in his room, and wants to build social connections.\""
   ]
  },
  {
   "cell_type": "code",
   "execution_count": 38,
   "id": "07f83373-d66a-4e4c-ac62-f084b414a6be",
   "metadata": {},
   "outputs": [
    {
     "name": "stdout",
     "output_type": "stream",
     "text": [
      "\n",
      "=== Structured Meta-Reasoning Output ===\n",
      "\n",
      "**SMART Goals Module**:\n",
      "• Conceptual Themes: – Physical health improvements: Create focus on how diet and exercise can be tailored to his age-related needs. – Social connection development: Address the goal of breaking isolation by integrating social activities. – Holistic wellness: Consider mental and emotional well-being given the impact of isolation on overall health. • Considerations for Characteristics: – Specificity relative to measurable physical activities and nutritional changes suitable for a 72-year-old. – Attainable milestones given his current lifestyle and potential hesitations due to isolation and change. – Realistic steps that interweave physical and social goals in practical, locally available activities. – Temporally defined checkpoints that align with his pace of adaptation and sustainable change. – Relevance to his dual health enrollment, ensuring any health-related goals are in line with his benefits and local services. ────────────────────────────\n",
      "\n",
      "**Resources Module**:\n",
      "• Potential Resource Categories: – Community-based programs: Senior centers, local exercise groups, and local nutrition workshops. – Social engagement networks: Groups or clubs tailored for retirees to meet new people, potentially bridging both health and social needs. – Healthcare support services: Nutritional counseling and physical therapy, especially programs specializing in elder wellness. – Mental health and wellness organizations: Resources that may offer counseling or community support to address isolation. – Local initiatives: Programs in Morristown or surrounding areas that emphasize healthy aging and community engagement. • Criteria/Conditions for Resource Selection: – Locality and accessibility: Resources should be easily reachable in Morristown. – Appropriateness for age and health profile: Programs must cater to older adults with tailored physical activity and dietary advice. – Affordability and compatibility with dual enrollment benefits (Medicaid/Medicare): Ensuring cost, coverage, or subsidized options. – Trustworthiness and evidence-based practices: Reputable providers with a track record in elder wellness or social connection programs. – Social integration opportunities: Services that combine physical wellness with community and social engagement aspects. ────────────────────────────\n",
      "\n",
      "**Follow-up Questions Module**:\n",
      "• Types of Insightful Questions: – Clarification around his current routines and challenges: What barriers does he face in initiating exercise or diet changes? – Probing into his social connections: How does he envision building meaningful interactions, and what has he tried before? – Exploring motivational factors: What are his main motivators for enhancing wellness, and what support systems does he feel he lacks? – Understanding local context: Has he engaged with any community events or programs previously in his area? – Identifying emotional aspects: How does his isolation affect his overall well-being, and what factors might encourage him to step out of his room? • Themes Needing Further Exploration: – Daily habits and preferred activities. – Social history and willingness to participate in community-based programs. – Any physical limitations or previous experiences influencing dietary or exercise habits. – Readiness to change and openness to structured support, potentially informed by local benefits or community programs. ────────────────────────────\n",
      "\n",
      "**Benefits Eligibility Module**:\n",
      "• High-Level Considerations: – Local senior citizen support benefits: Assess programs or benefits tailored for older adults in Morristown (e.g., transportation or community engagement benefits). – Health-related benefits: Review aspects of his dual enrollment (Medicaid/Medicare) to see if additional preventive or wellness services are available. – Social services: Look into eligibility for programs that promote social participation and mental health, like community centers or social clubs for seniors. – Nutritional and physical wellness assistance: Identify whether any dietary or exercise program benefits are offered as part of his health plans. • Contextual Clues and Criteria: – Age and retirement status as key qualifiers for senior-specific programs. – Location: Resources available locally in or around Morristown. – Health coverage: The fact that he is dually enrolled signals potential eligibility for preventive and wellness-related programs. – Lifestyle details: His isolation may indicate the need for services that specifically target social engagement and mental health support. – Financial and social support structures: Look for programs that consider economic limitations and aim to enhance community connection while addressing physical wellness. ──────────────────────────── This conceptual reasoning should guide each specialized module to develop an integrative, client-centered plan that respects the user's individual circumstances, local context, and desired outcomes.\n",
      "\n"
     ]
    }
   ],
   "source": [
    "meta_reasoning_result = get_meta_reasoning(example_situation)\n",
    "print(\"\\n=== Structured Meta-Reasoning Output ===\\n\")\n",
    "for module, guidance in meta_reasoning_result.items():\n",
    "    print(f\"**{module}**:\\n{guidance}\\n\")\n"
   ]
  },
  {
   "cell_type": "code",
   "execution_count": 41,
   "id": "b15756f0-6091-48e2-a4a7-3b05ed9fa36e",
   "metadata": {},
   "outputs": [
    {
     "data": {
      "text/plain": [
       "dict_keys(['SMART Goals Module', 'Resources Module', 'Follow-up Questions Module', 'Benefits Eligibility Module'])"
      ]
     },
     "execution_count": 41,
     "metadata": {},
     "output_type": "execute_result"
    }
   ],
   "source": [
    "meta_reasoning_result.keys()"
   ]
  },
  {
   "cell_type": "markdown",
   "id": "483e6517-81a2-439a-923d-fed67cc5c60f",
   "metadata": {},
   "source": [
    "# Step 2: Module-specific LLM Calls with Reasoning Context\n",
    "\n",
    "##### Feed the initial meta-reasoning output, original module prompts and the user situation to each module "
   ]
  },
  {
   "cell_type": "markdown",
   "id": "250205af-e77c-4fcb-8c0c-bcaf6666b0f1",
   "metadata": {},
   "source": [
    "## SMART Goals"
   ]
  },
  {
   "cell_type": "code",
   "execution_count": 42,
   "id": "24856fa5-4fe8-4a7d-bfde-91dc05873569",
   "metadata": {},
   "outputs": [],
   "source": [
    "smart_goal_reasoning = meta_reasoning_result['SMART Goals Module']\n",
    "resource_reasoning = meta_reasoning_result['Resources Module']\n",
    "question_reasoning = meta_reasoning_result['Follow-up Questions Module']\n",
    "benefit_reasonsing = meta_reasoning_result['Benefits Eligibility Module']"
   ]
  },
  {
   "cell_type": "code",
   "execution_count": 43,
   "id": "9a5b7f30-a0bd-4884-9fe3-e6b29bf075ef",
   "metadata": {},
   "outputs": [],
   "source": [
    "mental_health_system_prompt = open(\"mental_health/prompts/mental_health_prompt.txt\").read()\n",
    "question_prompt = open(\"mental_health/prompts/question_prompts.txt\").read()\n",
    "benefit_prompt = open(\"benefits/prompts/uncertain_prompt_wellness.txt\").read()\n",
    "resource_prompt = open(\"mental_health/prompts/resource_prompt.txt\").read()"
   ]
  },
  {
   "cell_type": "code",
   "execution_count": 48,
   "id": "f754784e-2df5-4086-b638-2c96ea957148",
   "metadata": {},
   "outputs": [],
   "source": [
    "def format_smart_goals(raw_text):\n",
    "    formatted_text = raw_text.replace(\"\\u2002\", \" \").replace(\"\\\\n\", \"\\n\")\n",
    "    formatted_text = re.sub(r'_{2,}', '\\n' + '-'*50 + '\\n', formatted_text)\n",
    "    formatted_text = re.sub(r'(Specific:|Measurable:|Achievable:|Realistic:|Timely:)', r'\\n  \\1', formatted_text)\n",
    "    formatted_text = re.sub(r'\\n+', '\\n', formatted_text).strip()\n",
    "    return formatted_text\n",
    "    \n",
    "def get_smart_goals(reasoning_guidance, situation):\n",
    "    \n",
    "    messages = [\n",
    "        {'role': 'system', 'content': mental_health_system_prompt},\n",
    "        {'role': 'assistant', 'content': reasoning_guidance},\n",
    "        {'role': 'user', 'content': situation}\n",
    "    ]\n",
    "    \n",
    "    return call_llm(messages)"
   ]
  },
  {
   "cell_type": "code",
   "execution_count": 49,
   "id": "ae997bd3-59f9-4066-9fb3-587efdd7d91c",
   "metadata": {},
   "outputs": [
    {
     "name": "stdout",
     "output_type": "stream",
     "text": [
      "Below are some SMART (Specific, Measurable, Achievable, Realistic, and Timely) goals that address both your desire to maintain physical wellness through a better diet and exercise routine, along with building social connections to reduce isolation.\n",
      "──────────────────────────────\n",
      "1. Physical Exercise Goal\n",
      "• \n",
      "  Specific: Aim to get 30 minutes of moderate physical activity daily, such as walking around your neighborhood or using a community park in Morristown, NJ.  \n",
      "• \n",
      "  Measurable: Track your walks by noting start and end times or using a simple step counter app.  \n",
      "• \n",
      "  Achievable: Start with a pace that's comfortable for you, gradually increasing your activity as your stamina improves.  \n",
      "• \n",
      "  Realistic: Given your current living situation and being retired, a daily walk is a manageable activity that won’t require a major lifestyle change.  \n",
      "• \n",
      "  Timely: Begin immediately and commit to this routine for the next 4 weeks as a starting point. Reassess at the end of the month to consider increasing time or intensity.\n",
      "──────────────────────────────\n",
      "2. Nutrition and Diet Improvement Goal\n",
      "• \n",
      "  Specific: Improve your diet by incorporating at least 2 servings of fresh fruits or vegetables into your daily meals, and planning a weekly menu that emphasizes whole foods over processed options.  \n",
      "• \n",
      "  Measurable: Use a food diary or a simple calendar to mark off days when you meet your serving goal.  \n",
      "• \n",
      "  Achievable: Shopping at a local farmer’s market or community-supported agriculture program in Morristown can help you access fresh produce easily.  \n",
      "• \n",
      "  Realistic: Gradually adjusting your diet by adding small servings will allow you to comfortably transition without making drastic changes.  \n",
      "• \n",
      "  Timely: Set a goal to steadily implement your new diet over the next 6 weeks, with a weekly review of your food diary to measure progress and make needed adjustments.\n",
      "──────────────────────────────\n",
      "3. Social Connection Goal\n",
      "• \n",
      "  Specific: Build social connections by attending a community event, senior center activity, or exercise group at least once a week. Consider activities like group walks, local art classes, or social clubs available for seniors in Morristown.  \n",
      "• \n",
      "  Measurable: Keep a weekly log of events attended and note one new person you connect with at each event (or even just exchange contact info).  \n",
      "• \n",
      "  Achievable: Many community centers and local parks host regular events—calling ahead or visiting their websites can help you plan your participation.  \n",
      "• \n",
      "  Realistic: Allocating one afternoon or morning each week for a social activity is manageable and can be rewarding without overwhelming your schedule.  \n",
      "• \n",
      "  Timely: Commit to this routine for the next 3 months. After this period, reflect on how these new connections have impacted your daily mood and overall well-being, then decide whether to increase frequency or explore additional types of activities.\n",
      "──────────────────────────────\n",
      "Additional Tips:\n",
      "• Consider partnering with a local community resource or a wellness counselor who might help tailor these activities to your preferences and needs.  \n",
      "• If starting a new exercise routine feels challenging, consult a doctor or a physical therapist to ensure your plan suits your health status.  \n",
      "• Use a simple journal or an app to monitor both your physical and social activities to reinforce your progress and celebrate small wins.\n",
      "By following these goals, you’ll be taking balanced steps toward improved physical health and enhanced social connectivity—both key ingredients for overall well-being. Please feel free to ask for further guidance or adjustments along the way.\n"
     ]
    }
   ],
   "source": [
    "results = get_smart_goals(smart_goal_reasoning, example_situation)\n",
    "results = format_smart_goals(results)\n",
    "print(results)"
   ]
  },
  {
   "cell_type": "markdown",
   "id": "b2130c5a-a0fa-4865-9696-06599f170a5b",
   "metadata": {},
   "source": [
    "## Resource Recommendation (Agentic RAG)"
   ]
  },
  {
   "cell_type": "code",
   "execution_count": 74,
   "id": "cd664138-d373-4126-a17f-e93ad7d71fd5",
   "metadata": {},
   "outputs": [],
   "source": [
    "rag_input = f\"\"\"\n",
    "User Situation:\n",
    "{example_situation}\n",
    "Current SMART goals: \n",
    "{results}\n",
    "Guidance for Relevant Resources:\n",
    "{resource_reasoning}\n",
    "\"\"\"\n",
    "retrieved_resources = analyze_situation_rag(rag_input, k=15)"
   ]
  },
  {
   "cell_type": "code",
   "execution_count": 75,
   "id": "27d51082-2bc3-4afe-ba59-a1a8f0d74e29",
   "metadata": {
    "scrolled": true
   },
   "outputs": [
    {
     "data": {
      "text/plain": [
       "\"our Lady of Mount Carmel, URL: https://www.olmcridgewood.com/, Phone: 2014442000, Description: Our Lady of Mount Carmel is a vibrant parish community offering a wide range of spiritual, educational, and social services. Key offerings include worship services with a diverse Mass schedule, adult and youth faith formation, and various ministries like music and outreach. Special programs such as the Difficult Conversations Series and CYO sports foster community engagement. The parish also hosts the Academy of Our Lady, providing education for children. Perpetual Eucharistic Adoration allows for continuous prayer, promoting mental and spiritual well-being. Additionally, resources for sacramental preparations and support for families are readily available, ensuring comprehensive care for all parishioners.\\nNJ Reentry Corporation, URL: https://njreentry.org/, Phone: nan, Description: The New Jersey Reentry Corporation (NJRC) is a non-profit organization dedicated to helping individuals reintegrate into society after incarceration or addiction treatment. NJRC provides comprehensive services, including addiction and mental health treatment, medical care, job training, legal assistance, and veteran-specific support. Core programs like the Governor's Reentry Training and Employment Center prepare individuals for sustained employment through accredited training. Additional resources include the Francine A. LeFrak Wellness Center and community outreach initiatives, all aimed at dismantling barriers to successful reentry and fostering personal empowerment. NJRC operates multiple locations throughout New Jersey.\\nReachNJ, URL: https://988lifeline.org/chat, Phone: nan, Description: ReachNJ provides a 988 Lifeline Pre-Chat Survey designed to connect individuals in crisis with appropriate mental health support. This resource facilitates immediate access to trained counselors by initiating a confidential chat, allowing users to express their concerns and receive tailored assistance. The Pre-Chat Survey helps assess the individual's needs, ensuring they are directed to the right support services, whether for mental health, substance use, or emotional crises. By prioritizing user safety and privacy, ReachNJ aims to provide timely interventions and ongoing support for individuals seeking help.\\nReach Out Addiction and Recovery, URL: https://988lifeline.org/chat, Phone: nan, Description: Reach Out Addiction and Recovery offers a comprehensive online pre-chat survey to facilitate access to the 988 Lifeline, ensuring individuals seeking help can articulate their needs effectively. This resource provides essential support services, including emotional assistance for addiction recovery, access to trained counselors, and guidance tailored to personal circumstances. The platform fosters a supportive environment that empowers users to connect with resources, navigate their recovery journey, and explore various coping strategies, promoting long-term well-being and resilience in overcoming addiction challenges.\\nFriends of Fairview Give Back, URL: https://www.facebook.com/p/Friends-of-Fairview-Give-Back-100070266467554/, Phone: nan, Description: Friends of Fairview Give Back is a community-driven initiative that focuses on enhancing the mental health and well-being of individuals in need. It provides supportive services such as stress management workshops, peer support groups, and mental health awareness campaigns. The program fosters a nurturing environment through community events and fundraising efforts aimed at improving access to mental health resources. By promoting collaboration among local organizations, Friends of Fairview Give Back empowers individuals to seek help, share experiences, and build supportive networks for better mental health outcomes.\\nReach NJ (24/7), URL: https://988lifeline.org/chat, Phone: nan, Description: Reach NJ is a 24/7 resource offering support for individuals in crisis or seeking help for mental health and substance use issues. It provides access to trained counselors through the 988 Lifeline, facilitating immediate support via a pre-chat survey that helps tailor assistance to individual needs. The service addresses various concerns, including emotional distress, suicidal thoughts, and substance abuse, ensuring a comprehensive approach to mental wellness. Through confidential, compassionate guidance, Reach NJ aims to connect users with appropriate services and resources.\\nFriendship House, URL: https://njfriendshiphouse.org/, Phone: 2014882121, Description: North Jersey Friendship House is a nonprofit organization dedicated to empowering individuals with varying abilities. Located in Oradell, NJ, it offers personalized services and programs for adolescents and adults, focusing on social, emotional, and vocational goals. With over 100 staff members and 45,000 square feet of programming space, they serve over 400 individuals annually. Key offerings include vocational training, volunteer opportunities, FH Catering Services, and annual fundraising events like the Friendship House Gala. The organization actively encourages community engagement through donations, volunteering, and internships.\\nHolistic Counseling Service, URL: https://aholisticlife.org/, Phone: 8563181581, Description: Holistic Counseling Service, located in Marlton, NJ, offers compassionate therapeutic support through an integrated Christian-psychotherapy approach. Specializing in individual, couples, family, and group counseling, they provide services for anxiety, trauma, depression, and more. Their offerings include Cognitive Behavioral Therapy, Mindfulness-Based Therapy, and Telehealth services. Committed to fostering spiritual and emotional wholeness, their experienced staff prioritizes client well-being and confidentiality. With a focus on renewing relationships and restoring hope, Holistic Counseling Service aims to guide clients on their journey toward healing and growth. Appointments can be easily requested via email.\\nNJ Coronavirus Call Center #1, URL: https://www.nj.gov/health/news/2024/approved/20240321a.shtml, Phone: nan, Description: The NJ Coronavirus Call Center, operational until March 28, 2024, facilitated COVID-19 vaccination efforts, scheduling over 170,000 appointments and conducting nearly 40.9 million outreach calls. It provided multilingual support and targeted outreach, including to vulnerable populations like seniors and homebound individuals. Following its closure, inquiries are directed to the national COVID-19 Vaccine Hotline, while information on vaccinations remains accessible through various state and national resources. The center played a crucial role in disseminating vaccine eligibility information and ensuring public access to vaccinations throughout New Jersey during the pandemic.\\nRite Aid #00116 - Millville, URL: https://www.riteaid.com/locations/nj/millville/907-north-high-street.html, Phone: 8568257742, Description: Rite Aid #00116 in Millville, NJ, offers comprehensive pharmacy services, including prescription refills, consultations, and immunizations for various vaccines. The store features a Wellness Clinic and COVID-19 testing site, ensuring community health needs are met. Customers can utilize in-store shopping, easy pick-up, and same-day delivery options, while also benefiting from Rite Aid Rewards programs. The pharmacy operates convenient hours, catering to those seeking accessible health and wellness products, making it a valuable resource for individual health management in the community.\\nSoshimsa Zen Center, URL: https://www.soshimsa.org/, Phone: 9083779803, Description: Soshimsa Zen Center in New Jersey is a nurturing space dedicated to holistic well-being through Buddhist teachings, meditation, and health exercises. The center promotes personal growth and harmony using an inclusive approach that blends traditional prayer with secular activities. Led by experienced monks, including licensed psychologist Venerable Mooh-Sang Sunim, they offer various programs, including corporate CALM initiatives, meditation classes, and community outreach. The center fosters a supportive community where individuals can explore their spiritual journey and cultivate kindness, wisdom, and compassion for a brighter and more harmonious existence.\\nComplete Care NJ, URL: https://completecarenj.org/, Phone: 6094650258, Description: Complete Care NJ is a robust Federally Qualified Health Center in New Jersey, dedicated to providing diverse and comprehensive healthcare services. Their offerings include primary medical care, mental health services such as therapy and psychiatry, dental care, addiction support, and specialized care across various fields. Complete Care also emphasizes patient-centered care for all ages, offering pediatric, adult, and senior services, along with women's and men's health. With 19 locations and a mission focused on accessibility regardless of income or insurance status, they strive to improve lives through high-quality healthcare.\\nCatholic Charities of Cumberland, URL: https://catholiccharitiessouthjersey.org/, Phone: 6099891120, Description: Catholic Charities of Cumberland offers a comprehensive range of supportive services, including addiction healing, domestic violence assistance, housing stabilization, and mental health resources. Serving all South Jersey residents, the agency focuses on basic needs, immigration support, and veteran services, ensuring access regardless of background. They also provide vital resources such as adoption services, prison ministry, and welfare-to-work programs, promoting holistic community support and well-being. Their mission, rooted in compassion since 1936, emphasizes hope and empowerment for individuals and families in need.\\nNorth Jersey Recovery Center, URL: https://northjerseyrecovery.com/, Phone: 8776325541, Description: North Jersey Recovery Center is a top-rated addiction treatment facility in New Jersey, offering comprehensive services for substance abuse, including alcohol, opioids, cocaine, and prescription drugs. Their programs encompass individual and group therapy, medication-assisted treatment, and specialized tracks such as dual diagnosis and relapse prevention. Flexible treatment options include outpatient programs and intensive outpatient care, designed to accommodate clients' personal and professional commitments. With a focus on holistic healing, they strive to equip individuals with the necessary tools for long-term sobriety and overall well-being. Locations are available in Fair Lawn and Cliffside Park.\\nAmos E Katz, MD, URL: https://www.centrastate.com/find-a-physician/amos-katz-md-multiple-sclerosis/, Phone: 7324312000, Description: Dr. Amos E. Katz specializes in neurology, focusing on multiple sclerosis (MS) at CentraState Healthcare System. He is dedicated to diagnosing MS and its mimics, providing early aggressive treatments to prevent disease progression, and managing relapses and symptoms associated with MS. Dr. Katz is involved in research on progressive forms of MS and offers comprehensive care at The Linda Cardinale MS Center in Freehold, NJ. He is fluent in English and Hebrew, enhancing communication with diverse patients. His expertise supports individuals in navigating their MS journey effectively.\""
      ]
     },
     "execution_count": 75,
     "metadata": {},
     "output_type": "execute_result"
    }
   ],
   "source": [
    "retrieved_resources"
   ]
  },
  {
   "cell_type": "code",
   "execution_count": 76,
   "id": "db242966-9ab2-47f0-990d-061f751e807e",
   "metadata": {},
   "outputs": [],
   "source": [
    "def resource_selection_prompt(situation, meta_reasoning, retrieved_resources):\n",
    "    return f\"\"\"\n",
    "You are an expert resource recommendation assistant. Given the user's specific situation, conceptual guidance, and a list of potential resources retrieved from a knowledge base, your task is to carefully select and recommend ONLY the most relevant and helpful resources. \n",
    "\n",
    "Consider the original situation and the conceptual guidance carefully to ensure selected resources specifically match the user's needs and context.\n",
    "\n",
    "Do not make anything up. Only select resources from the list that is given to you.\n",
    "\n",
    "## Original User Situation:\n",
    "{situation}\n",
    "\n",
    "## Conceptual Guidance for Selecting Resources:\n",
    "{meta_reasoning}\n",
    "\n",
    "## Retrieved Resources:\n",
    "{retrieved_resources}\n",
    "\n",
    "## Your task:\n",
    "- Carefully evaluate the retrieved resources in relation to the user's situation and the provided conceptual guidance.\n",
    "- Select and recommend ONLY the resources that BEST match the user's situation.\n",
    "- Clearly present your recommendations in a structured, easy-to-read format.\n",
    "- For each selected resource, briefly explain why it is specifically relevant.\n",
    "\n",
    "## Selected Most Relevant Resources (clearly listed and explained):\n",
    "\"\"\"\n",
    "\n",
    "def select_relevant_resources(situation, meta_reasoning_guidance, retrieved_resources):\n",
    "    prompt = resource_selection_prompt(situation, meta_reasoning_guidance, retrieved_resources)\n",
    "    messages = [\n",
    "        {\"role\": \"system\", \"content\": \"You are an expert assistant selecting highly relevant resources tailored to the user's situation.\"},\n",
    "        {\"role\": \"user\", \"content\": prompt}\n",
    "    ]\n",
    "\n",
    "    selected_resources_response = call_llm(messages)\n",
    "    \n",
    "    return selected_resources_response"
   ]
  },
  {
   "cell_type": "code",
   "execution_count": 85,
   "id": "21bb4b61-073b-4615-b373-eacd58d513ea",
   "metadata": {},
   "outputs": [],
   "source": [
    "def format_selected_resources(raw_text):\n",
    "    formatted_text = raw_text.replace(\"\\\\n\", \"\\n\")\n",
    "    formatted_text = re.sub(r'\\*\\*', '', formatted_text)\n",
    "    formatted_text = re.sub(r'###+', '', formatted_text)\n",
    "    formatted_text = re.sub(r'\\s*(\\d+)\\.\\s*(.+?):\\s*\\n', r'\\n\\1. **\\2**\\n', formatted_text)\n",
    "    formatted_text = re.sub(r'–\\s*URL\\s*:', '- **URL:**', formatted_text, flags=re.I)\n",
    "    formatted_text = re.sub(r'–\\s*Phone\\s*:', '- **Phone:**', formatted_text, flags=re.I)\n",
    "    formatted_text = re.sub(r'–\\s*Relevance\\s*:', '- **Relevance:**', formatted_text, flags=re.I)\n",
    "    formatted_text = re.sub(r'\\n+', '\\n', formatted_text).strip()\n",
    "    return formatted_text"
   ]
  },
  {
   "cell_type": "code",
   "execution_count": 83,
   "id": "f3eaa295-5d4d-4aed-b92b-f5d11300d854",
   "metadata": {},
   "outputs": [
    {
     "name": "stdout",
     "output_type": "stream",
     "text": [
      "## Selected Most Relevant Resources\n",
      "1. Complete Care NJ  \n",
      "   URL: [Complete Care NJ](https://completecarenj.org/)  \n",
      "   Phone: 6094650258  \n",
      "   Relevance: Complete Care NJ is a Federally Qualified Health Center that offers comprehensive healthcare services, including primary medical care, mental health services, and specialized care for seniors. Their focus on accessibility regardless of income or insurance status makes it a suitable option for someone dually enrolled in Medicaid/Medicare. This resource could support the user's physical wellness needs through dietary advice and health management, while also facilitating social engagement opportunities through community programs.\n",
      "2. North Jersey Friendship House  \n",
      "   URL: [North Jersey Friendship House](https://njfriendshiphouse.org/)  \n",
      "   Phone: 2014882121  \n",
      "   Relevance: The North Jersey Friendship House provides personalized services and programs aimed at social, emotional, and vocational goals. Given the user's struggle with isolation, this organization could help him connect with others and participate in community activities, combining his health and social needs effectively.\n",
      "3. Soshimsa Zen Center  \n",
      "   URL: [Soshimsa Zen Center](https://www.soshimsa.org/)  \n",
      "   Phone: 9083779803  \n",
      "   Relevance: Soshimsa Zen Center offers holistic well-being programs, including meditation and community outreach. This resource promotes personal growth and social connection, addressing the user's emotional and spiritual health while providing opportunities for involvement with a nurturing community.\n",
      "4. Friends of Fairview Give Back  \n",
      "   URL: [Friends of Fairview Give Back](https://www.facebook.com/p/Friends-of-Fairview-Give-Back-100070266467554/)  \n",
      "   Phone: nan  \n",
      "   Relevance: This community-driven initiative focuses on improving mental health and well-being through supportive services and community events. The programs offered can enhance social connections and provide a platform for the user to engage with peers, fostering a sense of belonging and reducing feelings of isolation.\n",
      "These selected resources not only aim to address the user's need for better diet and exercise but also provide social engagement opportunities, enhancing overall mental and emotional wellness.\n"
     ]
    }
   ],
   "source": [
    "selected_resources = select_relevant_resources(\n",
    "        example_situation,\n",
    "        resource_reasoning,\n",
    "        retrieved_resources)\n",
    "resource_output = format_selected_resources(selected_resources)\n",
    "print(resource_output)"
   ]
  },
  {
   "cell_type": "markdown",
   "id": "3cafc1c4-f861-43ea-a1e5-16c7884e69f6",
   "metadata": {},
   "source": [
    "# Follow-up Questions"
   ]
  },
  {
   "cell_type": "code",
   "execution_count": 86,
   "id": "388b5458-0ecb-43c8-809c-30912d677b5f",
   "metadata": {},
   "outputs": [],
   "source": [
    "def followup_questions_prompt(situation, smart_goals, selected_resources, meta_reasoning_followup):\n",
    "    return f\"\"\"\n",
    "You are an expert mental health support assistant tasked with formulating insightful follow-up questions. Your objective is to ask clear, targeted, and supportive questions that will help clarify the user's situation and guide next steps.\n",
    "\n",
    "Consider all of the following contextual information carefully to formulate your follow-up questions:\n",
    "\n",
    "### User's Initial Situation:\n",
    "{situation}\n",
    "\n",
    "### SMART Goals Suggested for the User:\n",
    "{smart_goals}\n",
    "\n",
    "### Selected Relevant Resources for the User:\n",
    "{selected_resources}\n",
    "\n",
    "### Conceptual Guidance for Follow-up Questions:\n",
    "{meta_reasoning_followup}\n",
    "\n",
    "---\n",
    "\n",
    "### Your Task:\n",
    "- Formulate clear, insightful follow-up questions that address important gaps, seek clarity, and help in guiding the user's next steps effectively.\n",
    "- Questions should be empathetic, supportive, and directly relevant to the provided context.\n",
    "\n",
    "### Insightful Follow-up Questions:\n",
    "\"\"\""
   ]
  },
  {
   "cell_type": "code",
   "execution_count": 87,
   "id": "7502d137-d19e-42fe-b467-07b5982dd6da",
   "metadata": {},
   "outputs": [],
   "source": [
    "def generate_followup_questions(situation, smart_goals, selected_resources, meta_reasoning_followup):\n",
    "    prompt = followup_questions_prompt(\n",
    "        situation, smart_goals, selected_resources, meta_reasoning_followup\n",
    "    )\n",
    "\n",
    "    messages = [\n",
    "        {\"role\": \"system\", \"content\": \"You are an insightful assistant skilled in asking empathetic, supportive, and targeted follow-up questions for mental health support.\"},\n",
    "        {\"role\": \"user\", \"content\": prompt}\n",
    "    ]\n",
    "\n",
    "    followup_questions_response = call_llm(messages)\n",
    "\n",
    "    return followup_questions_response"
   ]
  },
  {
   "cell_type": "code",
   "execution_count": 90,
   "id": "8b755140-dcb6-432c-9c12-9f1b3f0a3e61",
   "metadata": {},
   "outputs": [
    {
     "name": "stdout",
     "output_type": "stream",
     "text": [
      "1. **Exploring Current Routines**: Can you share what your current daily routines look like regarding diet and exercise? What challenges do you face in initiating changes in those areas?\n",
      "\n",
      "2. **Understanding Motivation**: What motivates you the most to want to improve your physical wellness and build social connections? How do you feel these changes might impact your daily life?\n",
      "\n",
      "3. **Identifying Barriers**: What do you think is preventing you from being more active or trying new social activities? Are there specific fears or concerns that you have?\n",
      "\n",
      "4. **Community Engagement**: Have you participated in any local community activities or events before? If so, what did you enjoy, or what stopped you from continuing?\n",
      "\n",
      "5. **Social Connection Preferences**: What types of social activities do you think would interest you the most? Would you prefer structured activities like classes, or more casual interactions like group walks or coffee meetups?\n",
      "\n",
      "6. **Physical Limitations**: Are there any physical challenges or health conditions that you want to take into account when setting your exercise goals? Have you spoken to a healthcare provider about what types of physical activities would be suitable for you?\n",
      "\n",
      "7. **Support Systems**: Who do you currently rely on for support in your daily life? Are there ways you would like to build or expand that support network, especially for navigating these wellness goals?\n",
      "\n",
      "8. **Tracking Progress**: How comfortable do you feel about keeping a diary or using an app to track your exercise and dietary goals? Would you find that helpful for staying motivated?\n",
      "\n",
      "9. **Emotional Well-being**: How does spending most of your days alone affect your mood and overall well-being? Have you noticed any specific times of day when you feel particularly impacted by isolation?\n",
      "\n",
      "10. **Future Goals Reflection**: After you start these goals, how would you like to assess your progress? What specific outcomes would make you feel successful in your wellness journey?\n",
      "\n",
      "These questions aim to engage the user thoughtfully, allowing them to reflect on their experiences and facilitate a deeper understanding of their needs and desires, paving the way for actionable steps forward.\n"
     ]
    }
   ],
   "source": [
    "followup_questions = generate_followup_questions(\n",
    "        example_situation,\n",
    "        results,\n",
    "        resource_output,\n",
    "        question_reasoning\n",
    "    )\n",
    "\n",
    "print(followup_questions)"
   ]
  },
  {
   "cell_type": "markdown",
   "id": "e3d9330f-2895-46be-900c-e61d1cf7f68c",
   "metadata": {},
   "source": [
    "# Step 3: Aggregate Responses and Draft Holistic Output"
   ]
  },
  {
   "cell_type": "code",
   "execution_count": 94,
   "id": "c4201cd5-517f-4041-a561-4d3d02e9e1c2",
   "metadata": {},
   "outputs": [],
   "source": [
    "def holistic_response_prompt(situation, smart_goals, resources, followup_questions):\n",
    "    return f\"\"\"\n",
    "You are an empathetic and supportive mental health assistant. Your task is to integrate the provided SMART goals, recommended resources, and insightful follow-up questions into a compassionate, cohesive, and clear holistic response to the user's situation. Begin your response with empathy, validating the user's feelings and concerns.\n",
    "\n",
    "### User's Situation:\n",
    "{situation}\n",
    "\n",
    "### Suggested SMART Goals:\n",
    "{smart_goals}\n",
    "\n",
    "### Recommended Resources:\n",
    "{resources}\n",
    "\n",
    "### Insightful Follow-up Questions:\n",
    "{followup_questions}\n",
    "\n",
    "---\n",
    "\n",
    "### Your Task:\n",
    "Craft a holistic response:\n",
    "- Start with empathetic validation and encouragement.\n",
    "- Clearly and supportively summarize recommended SMART goals.\n",
    "- Highlight the relevant resources clearly, explaining briefly how they can help. Make sure to include contact information that has been given to you. \n",
    "- Present insightful follow-up questions, encouraging the user to engage further.\n",
    "- Maintain a supportive and warm tone throughout.\n",
    "\n",
    "### Final Holistic Response:\n",
    "\"\"\"\n",
    "\n",
    "def generate_holistic_response(situation, smart_goals, resources, followup_questions):\n",
    "    prompt = holistic_response_prompt(\n",
    "        situation, smart_goals, resources, followup_questions\n",
    "    )\n",
    "\n",
    "    messages = [\n",
    "        {\"role\": \"system\", \"content\": \"You are a compassionate mental health support assistant, providing empathetic, structured, and actionable guidance.\"},\n",
    "        {\"role\": \"user\", \"content\": prompt}\n",
    "    ]\n",
    "\n",
    "    holistic_response = call_llm(messages)\n",
    "\n",
    "    return holistic_response\n"
   ]
  },
  {
   "cell_type": "code",
   "execution_count": 95,
   "id": "eaaff6a5-19c0-4985-a41f-fa6e1573b59e",
   "metadata": {},
   "outputs": [
    {
     "name": "stdout",
     "output_type": "stream",
     "text": [
      "\n",
      "=== Final Holistic Response ===\n",
      "\n",
      "I want to begin by acknowledging how challenging it can feel to navigate feelings of isolation, especially at this stage in life. It's admirable that you're seeking to focus on your physical wellness and build social connections; those are significant steps toward enhancing your well-being. Your willingness to take action speaks volumes about your strength and resilience.\n",
      "\n",
      "To help you on this journey, I’ve outlined some SMART goals tailored specifically for your aspirations:\n",
      "\n",
      "**1. Physical Exercise Goal:**  \n",
      "Aim to engage in 30 minutes of moderate physical activity every day, such as walking around your neighborhood or utilizing local parks in Morristown. Start at a comfortable pace and gradually increase your activity level. Track your walks in a simple journal or a step counter app. Commit to this for the next 4 weeks, and then reassess.\n",
      "\n",
      "**2. Nutrition and Diet Improvement Goal:**  \n",
      "Incorporate at least 2 servings of fresh fruits or vegetables into your meals daily, while planning a weekly menu that emphasizes whole foods over processed options. You can use a food diary to monitor your progress, aiming for gradual adjustments over the next 6 weeks. Visiting local farmer's markets can make healthy eating more accessible.\n",
      "\n",
      "**3. Social Connection Goal:**  \n",
      "Build connections by attending at least one community event or senior center activity each week for the next 3 months. This could include group walks, art classes, or various social clubs. Keep a log of events attended and new connections made to help you celebrate small wins.\n",
      "\n",
      "Now, let me introduce you to some valuable resources that could support your physical wellness journey and social engagement:\n",
      "\n",
      "- **Complete Care NJ**  \n",
      "  [Website](https://completecarenj.org/) | Phone: 609-465-0258  \n",
      "  They provide comprehensive healthcare services, focusing on accessibility, offering nutritional guidance and community engagement programs tailored for seniors like yourself.\n",
      "\n",
      "- **North Jersey Friendship House**  \n",
      "  [Website](https://njfriendshiphouse.org/) | Phone: 201-488-2121  \n",
      "  This organization specializes in helping individuals connect socially and emotionally, making it a great resource for combating isolation through engaging community activities.\n",
      "\n",
      "- **Soshimsa Zen Center**  \n",
      "  [Website](https://www.soshimsa.org/) | Phone: 908-377-9803  \n",
      "  Offering holistic programs, they promote personal growth and social connections, enabling you to thrive emotionally while meeting others in a supportive environment.\n",
      "\n",
      "- **Friends of Fairview Give Back**  \n",
      "  [Facebook](https://www.facebook.com/p/Friends-of-Fairview-Give-Back-100070266467554/)  \n",
      "  This initiative focuses on mental health and community engagement, presenting opportunities for participation in local events that can enhance your social life and reduce feelings of isolation.\n",
      "\n",
      "As you consider these goals and resources, I encourage you to reflect on the following questions to help clarify your path:\n",
      "\n",
      "1. What does your current daily routine look like regarding diet and exercise, and what challenges do you face in making changes?\n",
      "2. What motivates your desire for better physical wellness and social connections, and how do you envision these changes impacting your life?\n",
      "3. What do you believe prevents you from being more active or engaging in new social activities? Are there any specific fears or concerns?\n",
      "4. Have you previously participated in community events, and if so, what did you enjoy, or what held you back from continuing?\n",
      "5. What types of social activities would be most appealing to you? Would you prefer structured classes or casual interactions?\n",
      "6. Are there any physical limitations you want to consider when designing your exercise plan? Have you discussed these with your healthcare provider?\n",
      "7. Who do you currently rely on for support, and how might you expand this network?\n",
      "8. How do you feel about using a diary or app to track your progress on exercise and dietary goals?\n",
      "9. In what ways does spending time alone affect your mood? Are there particular times of day when this feels more pronounced?\n",
      "10. How would you like to assess your progress after starting these goals? What would indicate success to you?\n",
      "\n",
      "Please feel free to reach out if you want to discuss anything further or need assistance in setting up your goals. Remember, every small step counts, and you’re not alone in this journey. You're taking a courageous step towards better health and connection, and I'm here to support you every step of the way.\n"
     ]
    }
   ],
   "source": [
    "final_response = generate_holistic_response(\n",
    "        example_situation,\n",
    "        results,\n",
    "        resource_output,\n",
    "        followup_questions\n",
    "    )\n",
    "\n",
    "print(\"\\n=== Final Holistic Response ===\\n\")\n",
    "print(final_response)"
   ]
  },
  {
   "cell_type": "markdown",
   "id": "3d05a10e-98b8-456a-9ed0-7738c50dca1f",
   "metadata": {},
   "source": [
    "# Step 4: Responses Update"
   ]
  },
  {
   "cell_type": "code",
   "execution_count": 97,
   "id": "15ec1e80-0615-4d4c-981e-3741010e29aa",
   "metadata": {},
   "outputs": [],
   "source": [
    "def interpret_user_request(user_input):\n",
    "    prompt = f\"\"\"\n",
    "Given the user's input below, determine clearly and explicitly which part(s) of the holistic response needs updating. Your response should only select from the following categories:\n",
    "- SMART Goals\n",
    "- Resources\n",
    "- Follow-up Questions\n",
    "\n",
    "User Input:\n",
    "{user_input}\n",
    "\n",
    "Respond ONLY with the categories that clearly need updating (comma-separated if multiple). If unclear, default to 'Follow-up Questions'.\n",
    "\"\"\"\n",
    "    messages = [\n",
    "        {\"role\": \"system\", \"content\": \"You are an analytical assistant who identifies clearly which parts of the holistic response the user wants updated.\"},\n",
    "        {\"role\": \"user\", \"content\": prompt}\n",
    "    ]\n",
    "\n",
    "    response = call_llm(messages).lower()\n",
    "\n",
    "    # Parse response into a clean list\n",
    "    modules_to_update = []\n",
    "    for module in ['smart goals', 'resources', 'follow-up questions']:\n",
    "        if module in response:\n",
    "            modules_to_update.append(module)\n",
    "\n",
    "    if not modules_to_update:\n",
    "        modules_to_update = ['follow-up questions']\n",
    "\n",
    "    return modules_to_update\n"
   ]
  },
  {
   "cell_type": "code",
   "execution_count": 138,
   "id": "5bd4cf62-0b59-4134-9220-eaf5ec1f8977",
   "metadata": {},
   "outputs": [],
   "source": [
    "def extract_section(response, section_name):\n",
    "    pattern = rf\"{section_name}:(.*?)(\\n\\n|$)\"\n",
    "    match = re.search(pattern, response, re.DOTALL | re.IGNORECASE)\n",
    "    return match.group(1).strip() if match else \"\"\n",
    "    \n",
    "def update_holistic_response(current_response, user_input, initial_situation, meta_reasoning_result):\n",
    "    modules_needed = interpret_user_request(user_input)\n",
    "    print(modules_needed)\n",
    "\n",
    "    updated_smart_goals = None\n",
    "    updated_resources = None\n",
    "    updated_followup_questions = None\n",
    "\n",
    "    # Enhance the situation by explicitly incorporating user feedback\n",
    "    enhanced_situation = f\"{initial_situation}\\n\\nAdditional user feedback/request: {user_input}\"\n",
    "\n",
    "    # SMART Goals update (if needed)\n",
    "    if 'smart goals' in modules_needed:\n",
    "        smart_goal_reasoning = meta_reasoning_result[\"SMART Goals Module\"] + f\"\\n\\nUser Feedback: {user_input}\"\n",
    "        updated_smart_goals = get_smart_goals(smart_goal_reasoning, enhanced_situation)\n",
    "\n",
    "    # Resources update (if needed)\n",
    "    if 'resources' in modules_needed:\n",
    "        resource_reasoning = meta_reasoning_result[\"Resources Module\"] + f\"\\n\\nUser Feedback: {user_input}\"\n",
    "    \n",
    "        # Incorporate current SMART goals for richer context\n",
    "        current_smart_goals = updated_smart_goals or extract_section(current_response, \"SMART Goals\")\n",
    "    \n",
    "        rag_input = f\"\"\"User Situation:{initial_situation}\\n\\n Guidance for Relevant Resources:{resource_reasoning}\\n\\n\\\n",
    "                       Current SMART Goals:{current_smart_goals}\\\n",
    "                      \\n\\nAdditional User Feedback:{user_input}\"\"\"\n",
    "        \n",
    "        retrieved_resources = analyze_situation_rag(rag_input)\n",
    "        print(retrieved_resources)\n",
    "        \n",
    "        updated_resources = select_relevant_resources(enhanced_situation, resource_reasoning, retrieved_resources)\n",
    "\n",
    "\n",
    "    # Follow-up Questions update (if needed)\n",
    "    if 'follow-up questions' in modules_needed:\n",
    "        followup_reasoning = meta_reasoning_result[\"Follow-up Questions Module\"] + f\"\\n\\nUser Feedback: {user_input}\"\n",
    "\n",
    "        # Use updated SMART goals and resources if available, else extract from current_response\n",
    "        smart_goals_for_followup = updated_smart_goals or extract_section(current_response, \"SMART Goals\")\n",
    "        resources_for_followup = updated_resources or extract_section(current_response, \"Recommended Resources\")\n",
    "\n",
    "        updated_followup_questions = generate_followup_questions(\n",
    "            enhanced_situation,\n",
    "            smart_goals_for_followup,\n",
    "            resources_for_followup,\n",
    "            followup_reasoning\n",
    "        )\n",
    "        \n",
    "    if any([updated_smart_goals, updated_resources, updated_followup_questions]):\n",
    "        summary_parts = []\n",
    "        if updated_smart_goals:\n",
    "            summary_parts.append(f\"### Updated SMART Goals:\\n{updated_smart_goals}\")\n",
    "        if updated_resources:\n",
    "            summary_parts.append(f\"### Updated Resources:\\n{updated_resources}\")\n",
    "        if updated_followup_questions:\n",
    "            summary_parts.append(f\"### Updated Follow-up Questions:\\n{updated_followup_questions}\")\n",
    "    \n",
    "        formatted_update_prompt = f\"\"\"You are a helpful assistant. Given the following updated content for the user, rewrite it as a supportive and clearly formatted update message. Present each section in a warm, readable tone that integrates smoothly with the previous holistic response. Do not repeat the entire holistic response — only show the updated content in a well-structured and polished way.You may use bullets and markdown formatting, but avoid using emojis in headers.\n",
    "                                {'\\n\\n'.join(summary_parts)}\n",
    "                                ---\n",
    "                                Return the updated response in a clean and user-friendly format.\n",
    "                                \"\"\"\n",
    "        messages = [\n",
    "            {\"role\": \"system\", \"content\": \"You are an empathetic mental health support assistant.\"},\n",
    "            {\"role\": \"user\", \"content\": formatted_update_prompt}\n",
    "        ]\n",
    "        \n",
    "        formatted_updates = call_llm(messages)\n",
    "        return formatted_updates\n",
    "    else:\n",
    "        return \"There were no updates based on the user's request.\""
   ]
  },
  {
   "cell_type": "code",
   "execution_count": 140,
   "id": "fb72182c-0eee-477d-8d35-3e5677fb42c7",
   "metadata": {},
   "outputs": [
    {
     "name": "stdout",
     "output_type": "stream",
     "text": [
      "['smart goals']\n",
      "\n",
      "=== Updated Holistic Response ===\n",
      "\n",
      "### Updated SMART Goals\n",
      "\n",
      "Here are some revisited SMART goals aimed at enhancing physical wellness through improved diet and exercise, specifically tailored for a 72-year-old retired man:\n",
      "\n",
      "#### Goal 1: Increase Physical Activity\n",
      "- **Specific**: Walk for at least 20 minutes each day, five days a week.\n",
      "- **Measurable**: Use a notebook or smartphone app to track the duration and frequency of walks.\n",
      "- **Achievable**: Begin with shorter walks (10-15 minutes) if necessary, gradually increasing to 20 minutes.\n",
      "- **Realistic**: Choose safe and accessible walking locations, such as local parks or community centers.\n",
      "- **Timely**: Reach the 20 minutes per day target within 4 weeks, with weekly progress assessments.\n",
      "\n",
      "#### Goal 2: Improve Nutritional Intake\n",
      "- **Specific**: Include at least one serving of fruits and/or vegetables in each meal.\n",
      "- **Measurable**: Maintain a meal log to document daily fruit and vegetable consumption.\n",
      "- **Achievable**: Start with one meal a day and gradually incorporate fruits and vegetables into all meals.\n",
      "- **Realistic**: Select seasonal, affordable fruits and vegetables that are easy to prepare.\n",
      "- **Timely**: Consistently include fruits and vegetables in every meal within 6 weeks.\n",
      "\n",
      "#### Goal 3: Join a Local Exercise Class\n",
      "- **Specific**: Enroll in a senior fitness or low-impact exercise class in the Morristown area.\n",
      "- **Measurable**: Attend class at least once a week, noting attendance on a calendar.\n",
      "- **Achievable**: Research local centers or community offerings that are within walking distance or accessible by transportation.\n",
      "- **Realistic**: Opt for classes that cater to his fitness level; many facilities provide beginner options tailored for older adults.\n",
      "- **Timely**: Complete enrollment within the next month and attend classes for a minimum of 8 consecutive weeks.\n",
      "\n",
      "#### Goal 4: Increase Hydration\n",
      "- **Specific**: Aim to drink at least 8 cups (64 ounces) of water each day.\n",
      "- **Measurable**: Use a water tracking app or a marked water bottle to keep tabs on daily intake.\n",
      "- **Achievable**: Start by drinking 4 cups and increase gradually to the full 8 cups over 2 weeks.\n",
      "- **Realistic**: Set reminders on the phone to encourage regular water consumption throughout the day.\n",
      "- **Timely**: Achieve the goal of full hydration within 4 weeks.\n",
      "\n",
      "#### Goal 5: Socialize While Exercising\n",
      "- **Specific**: Participate in a group walking event or fitness class with at least one other person once a week.\n",
      "- **Measurable**: Keep a record of companions during walks or workouts, noting frequency.\n",
      "- **Achievable**: Invite a neighbor or join a local senior group to make exercise a social activity.\n",
      "- **Realistic**: Choose social activities that comfortably fit into his schedule and capabilities.\n",
      "- **Timely**: Establish this routine over the next 3 months, aiming for 12 social exercise sessions by the end of that period.\n",
      "\n",
      "#### Goal 6: Monitor Physical Health\n",
      "- **Specific**: Schedule a physical check-up appointment with a healthcare provider within the next 3 months.\n",
      "- **Measurable**: Record the appointment date and any results from recommended tests.\n",
      "- **Achievable**: Leverage Medicare benefits to reach out to a local healthcare provider.\n",
      "- **Realistic**: Select a provider experienced in working with seniors to ensure comfort during the visit.\n",
      "- **Timely**: Complete the health appointment within the next 3 months.\n",
      "\n",
      "Focusing on these goals can significantly enhance his physical wellness and also help tackle feelings of isolation by encouraging engagement in community activities. Each step taken is a positive movement towards better health and social connection.\n"
     ]
    }
   ],
   "source": [
    "current_holistic_response = final_response\n",
    "user_input = \"give me more smart goals that I can follow to improve my physicall wellness\"\n",
    "initial_situation = example_situation\n",
    "\n",
    "new_response = update_holistic_response(\n",
    "        current_holistic_response,\n",
    "        user_input,\n",
    "        initial_situation,\n",
    "        meta_reasoning_result)\n",
    "print(\"\\n=== Updated Holistic Response ===\\n\")\n",
    "print(new_response)"
   ]
  },
  {
   "cell_type": "code",
   "execution_count": null,
   "id": "c63ef92d-06d5-49c3-a3cb-7a4914913b01",
   "metadata": {},
   "outputs": [],
   "source": []
  },
  {
   "cell_type": "code",
   "execution_count": null,
   "id": "c24eafa9-c915-4973-8664-1e747bbf4111",
   "metadata": {},
   "outputs": [],
   "source": []
  },
  {
   "cell_type": "code",
   "execution_count": null,
   "id": "42701718-6a2f-461b-bf1c-51c3bd1f5cbc",
   "metadata": {},
   "outputs": [],
   "source": []
  },
  {
   "cell_type": "code",
   "execution_count": 122,
   "id": "3726c81a-0377-4a05-bbfc-411b79d19ba1",
   "metadata": {},
   "outputs": [],
   "source": [
    "# new_sit = \"A trans man in Jersey City, NJ, aged 35, \\\n",
    "# recently moved into permanent housing after recovering \\\n",
    "# from substance use and trauma related to domestic violence. \\\n",
    "# He is employed part-time, has ID, and seeks support with maintaining mental \\\n",
    "# health and building community connections. He also wants to pursue a restraining order against his former partner.\"\n",
    "\n",
    "# rag_input = f\"\"\"\n",
    "# User Situation:\n",
    "# {new_sit}\n",
    "# Current SMART goals: \n",
    "# {results}\n",
    "# Guidance for Relevant Resources:\n",
    "# {resource_reasoning}\n",
    "# \"\"\"\n",
    "# retrieved_resources = analyze_situation_rag(rag_input, k=15)"
   ]
  },
  {
   "cell_type": "code",
   "execution_count": 124,
   "id": "af519cc5-2cb5-489b-933b-397bb8c0c405",
   "metadata": {},
   "outputs": [
    {
     "name": "stdout",
     "output_type": "stream",
     "text": [
      "## Selected Most Relevant Resources\n",
      "1. North Jersey Recovery Center  \n",
      "   - URL: [North Jersey Recovery](https://northjerseyrecovery.com/)  \n",
      "   - Phone: 877-632-5541  \n",
      "   - Relevance: This resource is crucial for the user as it specializes in comprehensive services for substance use recovery. Given the user's background of recovering from substance use, the North Jersey Recovery Center offers tailored outpatient programs and counseling that can provide ongoing support as he navigates his mental health and recovery journey. The holistic approach could be beneficial in addressing any related trauma from past experiences.\n",
      "2. NJ Reentry Corporation  \n",
      "   - URL: [NJ Reentry Corporation](https://njreentry.org/)  \n",
      "   - Relevance: This organization is dedicated to reintegrating individuals who have faced issues with addiction treatment and can offer resources that include mental health services, legal assistance, and community support. Given the user's interest in pursuing a restraining order, the legal assistance provided by NJRC can be very helpful. They also focus on empowerment and offer job training, which can aid in building community connections.\n",
      "3. Northern New Jersey Intergroup  \n",
      "   - URL: [Northern New Jersey Intergroup](https://www.nnjaa.org/intergroup/meeting-finder.html)  \n",
      "   - Phone: 1-800-273-8255  \n",
      "   - Relevance: This resource provides access to Alcoholics Anonymous (AA) meetings, including ones tailored for specific communities such as LGBTQ+. Participating in these meetings can help the user connect with others who have shared similar experiences, fostering a sense of community while supporting ongoing sobriety.\n",
      "4. North Bridge Foundation  \n",
      "   - URL: [North Bridge Foundation](https://www.facebook.com/Northbridgefoundationcorp/)  \n",
      "   - Relevance: Located in Morristown, NJ, this foundation focuses on mental health support through counseling services and community workshops. They offer a supportive environment to address mental health challenges, which is essential for the user as he seeks to maintain his mental wellness post-trauma and substance use. The community outreach also promotes connections with others.\n",
      "5. Holistic Counseling Service  \n",
      "   - URL: [Holistic Counseling Service](https://aholisticlife.org/)  \n",
      "   - Phone: 856-318-1581  \n",
      "   - Relevance: This service offers therapeutic support with a focus on trauma and mental health, which aligns directly with the user's needs for managing any psychological impacts from past traumas and substance use. They provide a range of counseling options that can help in building emotional resilience and stability.\n",
      "These resources collectively address the user's needs by focusing on substance recovery, mental health, social support, community integration, and legal assistance, all of which are vital as he progresses in his recovery and seeks to create a stable and supportive community for himself.\n"
     ]
    }
   ],
   "source": [
    "# selected_resources = select_relevant_resources(\n",
    "#         new_sit,\n",
    "#         resource_reasoning,\n",
    "#         retrieved_resources)\n",
    "# resource_output = format_selected_resources(selected_resources)\n",
    "# print(resource_output)"
   ]
  },
  {
   "cell_type": "code",
   "execution_count": null,
   "id": "9d0b8250-443f-4be2-a555-268f82f80bd6",
   "metadata": {},
   "outputs": [],
   "source": []
  }
 ],
 "metadata": {
  "kernelspec": {
   "display_name": "Python 3 (ipykernel)",
   "language": "python",
   "name": "python3"
  },
  "language_info": {
   "codemirror_mode": {
    "name": "ipython",
    "version": 3
   },
   "file_extension": ".py",
   "mimetype": "text/x-python",
   "name": "python",
   "nbconvert_exporter": "python",
   "pygments_lexer": "ipython3",
   "version": "3.12.7"
  }
 },
 "nbformat": 4,
 "nbformat_minor": 5
}
