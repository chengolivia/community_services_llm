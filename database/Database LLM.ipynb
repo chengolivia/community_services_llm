{
 "cells": [
  {
   "cell_type": "code",
   "execution_count": 1,
   "id": "c4cd0307",
   "metadata": {},
   "outputs": [],
   "source": [
    "%load_ext autoreload\n",
    "%autoreload 2"
   ]
  },
  {
   "cell_type": "code",
   "execution_count": 2,
   "id": "3243ccd8",
   "metadata": {},
   "outputs": [],
   "source": [
    "from extract_resources import analyze_situation, analyze_situation_rag\n",
    "import pandas as pd"
   ]
  },
  {
   "cell_type": "markdown",
   "id": "7718c2a2",
   "metadata": {},
   "source": [
    "### Database"
   ]
  },
  {
   "cell_type": "code",
   "execution_count": 31,
   "id": "3365c719",
   "metadata": {},
   "outputs": [
    {
     "data": {
      "text/html": [
       "<div>\n",
       "<style scoped>\n",
       "    .dataframe tbody tr th:only-of-type {\n",
       "        vertical-align: middle;\n",
       "    }\n",
       "\n",
       "    .dataframe tbody tr th {\n",
       "        vertical-align: top;\n",
       "    }\n",
       "\n",
       "    .dataframe thead th {\n",
       "        text-align: right;\n",
       "    }\n",
       "</style>\n",
       "<table border=\"1\" class=\"dataframe\">\n",
       "  <thead>\n",
       "    <tr style=\"text-align: right;\">\n",
       "      <th></th>\n",
       "      <th>Service</th>\n",
       "      <th>Phone Number</th>\n",
       "      <th>Description</th>\n",
       "      <th>Website Link</th>\n",
       "      <th>Responsible Region</th>\n",
       "      <th>Operating Hours</th>\n",
       "      <th>Category</th>\n",
       "    </tr>\n",
       "  </thead>\n",
       "  <tbody>\n",
       "    <tr>\n",
       "      <th>0</th>\n",
       "      <td>Narcotics Anonymous</td>\n",
       "      <td>1-800-992-0401</td>\n",
       "      <td>Support group for individuals recovering from ...</td>\n",
       "      <td>www.na.org</td>\n",
       "      <td>New Jersey</td>\n",
       "      <td>24/7</td>\n",
       "      <td>Emotional</td>\n",
       "    </tr>\n",
       "    <tr>\n",
       "      <th>1</th>\n",
       "      <td>262-HELP (Crisis Response Service)</td>\n",
       "      <td>NaN</td>\n",
       "      <td>Crisis intervention and emotional support hotline</td>\n",
       "      <td>NaN</td>\n",
       "      <td>New Jersey</td>\n",
       "      <td>NaN</td>\n",
       "      <td>NaN</td>\n",
       "    </tr>\n",
       "    <tr>\n",
       "      <th>2</th>\n",
       "      <td>211 Code Blue Alert - NJ Warming Centers</td>\n",
       "      <td>855-463-6328</td>\n",
       "      <td>Provides information about warming centers and...</td>\n",
       "      <td>www.nj211.org</td>\n",
       "      <td>Somerset County</td>\n",
       "      <td>24/7 during winter months</td>\n",
       "      <td>Environmental</td>\n",
       "    </tr>\n",
       "    <tr>\n",
       "      <th>3</th>\n",
       "      <td>Recovery</td>\n",
       "      <td>NaN</td>\n",
       "      <td>Support group for individuals recovering from ...</td>\n",
       "      <td>NaN</td>\n",
       "      <td>New Jersey</td>\n",
       "      <td>NaN</td>\n",
       "      <td>Emotional</td>\n",
       "    </tr>\n",
       "    <tr>\n",
       "      <th>4</th>\n",
       "      <td>Food Pantries/Soup Kitchens</td>\n",
       "      <td>211</td>\n",
       "      <td>Provides information on local food pantries an...</td>\n",
       "      <td>NaN</td>\n",
       "      <td>New Jersey</td>\n",
       "      <td>24/7</td>\n",
       "      <td>Physical</td>\n",
       "    </tr>\n",
       "  </tbody>\n",
       "</table>\n",
       "</div>"
      ],
      "text/plain": [
       "                                    Service    Phone Number  \\\n",
       "0                       Narcotics Anonymous  1-800-992-0401   \n",
       "1        262-HELP (Crisis Response Service)             NaN   \n",
       "2  211 Code Blue Alert - NJ Warming Centers    855-463-6328   \n",
       "3                                  Recovery             NaN   \n",
       "4               Food Pantries/Soup Kitchens             211   \n",
       "\n",
       "                                         Description   Website Link  \\\n",
       "0  Support group for individuals recovering from ...     www.na.org   \n",
       "1  Crisis intervention and emotional support hotline            NaN   \n",
       "2  Provides information about warming centers and...  www.nj211.org   \n",
       "3  Support group for individuals recovering from ...            NaN   \n",
       "4  Provides information on local food pantries an...            NaN   \n",
       "\n",
       "  Responsible Region            Operating Hours       Category  \n",
       "0         New Jersey                       24/7      Emotional  \n",
       "1         New Jersey                        NaN            NaN  \n",
       "2    Somerset County  24/7 during winter months  Environmental  \n",
       "3         New Jersey                        NaN      Emotional  \n",
       "4         New Jersey                       24/7       Physical  "
      ]
     },
     "execution_count": 31,
     "metadata": {},
     "output_type": "execute_result"
    }
   ],
   "source": [
    "hotlines_new = pd.read_csv('data/enhanced_hotlines.csv',on_bad_lines='skip')\n",
    "hotlines_new.head()"
   ]
  },
  {
   "cell_type": "code",
   "execution_count": 39,
   "id": "54b62b49",
   "metadata": {},
   "outputs": [
    {
     "data": {
      "text/plain": [
       "['Narcotics Anonymous',\n",
       " '262-HELP (Crisis Response Service)',\n",
       " '211 Code Blue Alert - NJ Warming Centers',\n",
       " 'Recovery',\n",
       " 'Food Pantries/Soup Kitchens']"
      ]
     },
     "execution_count": 39,
     "metadata": {},
     "output_type": "execute_result"
    }
   ],
   "source": []
  },
  {
   "cell_type": "markdown",
   "id": "92a490c0",
   "metadata": {},
   "source": [
    "### Chatbot Demo"
   ]
  },
  {
   "cell_type": "code",
   "execution_count": 32,
   "id": "52b8b3d8",
   "metadata": {},
   "outputs": [
    {
     "data": {
      "text/plain": [
       "'James is a police officer. He has been feeling anxious due to work-related trauma. He’s experiencing increased alcohol use to cope. He recently had suicidal thoughts'"
      ]
     },
     "execution_count": 32,
     "metadata": {},
     "output_type": "execute_result"
    }
   ],
   "source": [
    "situation = \"James is a police officer. He has been feeling anxious due to work-related trauma. He’s experiencing increased alcohol use to cope. He recently had suicidal thoughts\"\n",
    "situation"
   ]
  },
  {
   "cell_type": "code",
   "execution_count": 33,
   "id": "a7700b0d",
   "metadata": {},
   "outputs": [
    {
     "name": "stdout",
     "output_type": "stream",
     "text": [
      "Response from ChatGPT:\n",
      " \n",
      "Based on James's situation, here are a few appropriate hotline services he could utilize:\n",
      "\n",
      "1. **262-HELP (Crisis Response Service)**\n",
      "   - **Phone Number:** 262-HELP (262-4357) \n",
      "   - **Reason for Choice:** This hotline specializes in crisis intervention and support for individuals experiencing distress, including suicidal thoughts. Given James's increased anxiety and alcohol use stemming from work-related trauma, this hotline can provide immediate support and connect him with professional help.\n",
      "\n",
      "2. **Narcotics Anonymous**\n",
      "   - **Phone Number:** 1-888-912-0401 (if he is looking for additional support for alcohol use)\n",
      "   - **Reason for Choice:** While Narcotics Anonymous primarily focuses on narcotic addiction, they also address issues related to substance abuse and can be a supportive group for someone like James who is experiencing increased alcohol use. They can provide him with resources and a community of individuals who understand addiction issues.\n",
      "\n",
      "3. **211 Code Blue Alert - NJ Warming Centers**\n",
      "   - **Phone Number:** 211\n",
      "   - **Reason for Choice:** Although this hotline primarily deals with homelessness and emergency services, they can provide resources and connect individuals in crisis to various local services, including mental health support and shelters if needed. This could serve as a supplementary resource for James to find additional help tailored to his situation.\n",
      "\n",
      "It’s important for James to reach out to professionals who can provide the necessary support he deserves.\n"
     ]
    }
   ],
   "source": [
    "csv_file_path = \"data/enhanced_hotlines.csv\"\n",
    "result = analyze_situation(situation, csv_file_path)\n",
    "print(\"Response from ChatGPT:\")\n",
    "print(\" \")\n",
    "print(result)"
   ]
  },
  {
   "cell_type": "markdown",
   "id": "db013e1e",
   "metadata": {},
   "source": [
    "### RAG Chatbot"
   ]
  },
  {
   "cell_type": "code",
   "execution_count": 4,
   "id": "8b06a45c",
   "metadata": {},
   "outputs": [
    {
     "data": {
      "text/plain": [
       "'James is a police officer. He has been feeling anxious due to work-related trauma. He’s experiencing increased alcohol use to cope. He recently had suicidal thoughts'"
      ]
     },
     "execution_count": 4,
     "metadata": {},
     "output_type": "execute_result"
    }
   ],
   "source": [
    "situation = \"James is a police officer. He has been feeling anxious due to work-related trauma. He’s experiencing increased alcohol use to cope. He recently had suicidal thoughts\"\n",
    "situation"
   ]
  },
  {
   "cell_type": "code",
   "execution_count": 8,
   "id": "958d44f4",
   "metadata": {},
   "outputs": [
    {
     "name": "stderr",
     "output_type": "stream",
     "text": [
      "The tokenizer class you load from this checkpoint is not the same type as the class this function is called from. It may result in unexpected tokenization. \n",
      "The tokenizer class you load from this checkpoint is 'DPRQuestionEncoderTokenizer'. \n",
      "The class this function is called from is 'DPRContextEncoderTokenizer'.\n",
      "/usr0/home/naveenr/miniconda3/envs/feedback/lib/python3.10/site-packages/transformers/tokenization_utils_base.py:1601: FutureWarning: `clean_up_tokenization_spaces` was not set. It will be set to `True` by default. This behavior will be depracted in transformers v4.45, and will be then set to `False` by default. For more details check this issue: https://github.com/huggingface/transformers/issues/31884\n",
      "  warnings.warn(\n",
      "Some weights of the model checkpoint at facebook/dpr-ctx_encoder-single-nq-base were not used when initializing DPRContextEncoder: ['ctx_encoder.bert_model.pooler.dense.bias', 'ctx_encoder.bert_model.pooler.dense.weight']\n",
      "- This IS expected if you are initializing DPRContextEncoder from the checkpoint of a model trained on another task or with another architecture (e.g. initializing a BertForSequenceClassification model from a BertForPreTraining model).\n",
      "- This IS NOT expected if you are initializing DPRContextEncoder from the checkpoint of a model that you expect to be exactly identical (initializing a BertForSequenceClassification model from a BertForSequenceClassification model).\n",
      "Asking to truncate to max_length but no maximum length is provided and the model has no predefined maximum length. Default to no truncation.\n",
      "Some weights of the model checkpoint at facebook/dpr-question_encoder-single-nq-base were not used when initializing DPRQuestionEncoder: ['question_encoder.bert_model.pooler.dense.bias', 'question_encoder.bert_model.pooler.dense.weight']\n",
      "- This IS expected if you are initializing DPRQuestionEncoder from the checkpoint of a model trained on another task or with another architecture (e.g. initializing a BertForSequenceClassification model from a BertForPreTraining model).\n",
      "- This IS NOT expected if you are initializing DPRQuestionEncoder from the checkpoint of a model that you expect to be exactly identical (initializing a BertForSequenceClassification model from a BertForSequenceClassification model).\n",
      "Asking to truncate to max_length but no maximum length is provided and the model has no predefined maximum length. Default to no truncation.\n"
     ]
    },
    {
     "name": "stdout",
     "output_type": "stream",
     "text": [
      "Response from ChatGPT:\n",
      " \n",
      "Given James' situation, it's crucial to connect him with resources that address both his mental health concerns and his increasing alcohol use as a coping mechanism for work-related trauma, as well as his recent suicidal thoughts.\n",
      "\n",
      "1. **Aaron C Vanhise, DO:** While this hotline connects James with a medical doctor, it may not be the most appropriate first step for addressing his immediate mental health needs. However, if James is experiencing physical symptoms related to stress or trauma, or needs an overall health evaluation, consulting a medical professional can be beneficial.\n",
      "\n",
      "2. **Recovery:** This support group focuses on sobriety and recovery from substance use disorders, which is essential for James since he is using alcohol to cope with his anxiety and trauma. Engaging in this group can provide him with support, strategies, and a community of individuals who understand the challenges of recovery, which could help him curb his alcohol use and address its underlying causes.\n",
      "\n",
      "3. **Narcotics Anonymous:** While typically focused on drug addiction, the principles and support offered by Narcotics Anonymous can also be relevant to those struggling with alcohol use. Involvement in this group can help James find fellowship with others who are also dealing with substance use issues and can provide him with coping strategies to manage his addiction.\n",
      "\n",
      "While James experiences suicidal thoughts, it’s essential to recommend a hotline specifically tailored for crisis situations or mental health support, such as the National Suicide Prevention Lifeline (1-800-273-TALK) or the Crisis Text Line (Text HOME to 741741). These services are crucial in providing immediate help and support for anyone in crisis.\n",
      "\n",
      "In summary, the suggested hotlines can help address James’ alcohol use and recovery needs, but he should also be encouraged to seek immediate mental health support to address suicidal thoughts and his anxiety stemming from work-related trauma.\n"
     ]
    }
   ],
   "source": [
    "csv_file_path = \"data/enhanced_hotlines.csv\"\n",
    "result = analyze_situation_rag(situation, csv_file_path)\n",
    "print(\"Response from ChatGPT:\")\n",
    "print(\" \")\n",
    "print(result)"
   ]
  }
 ],
 "metadata": {
  "kernelspec": {
   "display_name": "Python 3 (ipykernel)",
   "language": "python",
   "name": "python3"
  },
  "language_info": {
   "codemirror_mode": {
    "name": "ipython",
    "version": 3
   },
   "file_extension": ".py",
   "mimetype": "text/x-python",
   "name": "python",
   "nbconvert_exporter": "python",
   "pygments_lexer": "ipython3",
   "version": "3.10.14"
  }
 },
 "nbformat": 4,
 "nbformat_minor": 5
}
