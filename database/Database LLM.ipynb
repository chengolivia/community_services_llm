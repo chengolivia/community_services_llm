{
 "cells": [
  {
   "cell_type": "code",
   "execution_count": 1,
   "id": "c4cd0307",
   "metadata": {},
   "outputs": [],
   "source": [
    "%load_ext autoreload\n",
    "%autoreload 2"
   ]
  },
  {
   "cell_type": "code",
   "execution_count": 2,
   "id": "3243ccd8",
   "metadata": {},
   "outputs": [],
   "source": [
    "from extract_resources import analyze_situation, analyze_situation_rag\n",
    "import pandas as pd"
   ]
  },
  {
   "cell_type": "markdown",
   "id": "7718c2a2",
   "metadata": {},
   "source": [
    "### Database"
   ]
  },
  {
   "cell_type": "code",
   "execution_count": 3,
   "id": "3365c719",
   "metadata": {},
   "outputs": [
    {
     "data": {
      "text/html": [
       "<div>\n",
       "<style scoped>\n",
       "    .dataframe tbody tr th:only-of-type {\n",
       "        vertical-align: middle;\n",
       "    }\n",
       "\n",
       "    .dataframe tbody tr th {\n",
       "        vertical-align: top;\n",
       "    }\n",
       "\n",
       "    .dataframe thead th {\n",
       "        text-align: right;\n",
       "    }\n",
       "</style>\n",
       "<table border=\"1\" class=\"dataframe\">\n",
       "  <thead>\n",
       "    <tr style=\"text-align: right;\">\n",
       "      <th></th>\n",
       "      <th>Service</th>\n",
       "      <th>Phone Number</th>\n",
       "      <th>Description</th>\n",
       "      <th>Website Link</th>\n",
       "      <th>Responsible Region</th>\n",
       "      <th>Operating Hours</th>\n",
       "      <th>Category</th>\n",
       "    </tr>\n",
       "  </thead>\n",
       "  <tbody>\n",
       "    <tr>\n",
       "      <th>0</th>\n",
       "      <td>Morris Family Justice Center</td>\n",
       "      <td>973-285-2900</td>\n",
       "      <td>Provides support and resources for victims of ...</td>\n",
       "      <td>www.morrisfamilyjusticecenter.org</td>\n",
       "      <td>Morris County</td>\n",
       "      <td>Monday to Friday, 9 AM - 5 PM</td>\n",
       "      <td>Emotional</td>\n",
       "    </tr>\n",
       "    <tr>\n",
       "      <th>1</th>\n",
       "      <td>Oaks Integrated Care</td>\n",
       "      <td>1-800-367-6210</td>\n",
       "      <td>Provides mental health services, substance use...</td>\n",
       "      <td>www.oaksintcare.org</td>\n",
       "      <td>Cumberland County</td>\n",
       "      <td>24/7</td>\n",
       "      <td>NaN</td>\n",
       "    </tr>\n",
       "    <tr>\n",
       "      <th>2</th>\n",
       "      <td>Vineland Soup Kitchen</td>\n",
       "      <td>856-696-5664</td>\n",
       "      <td>Provides meals and food services to those in n...</td>\n",
       "      <td>www.vinelandkitchen.org</td>\n",
       "      <td>Cumberland County</td>\n",
       "      <td>Monday to Friday, 9 AM - 1 PM</td>\n",
       "      <td>Physical</td>\n",
       "    </tr>\n",
       "    <tr>\n",
       "      <th>3</th>\n",
       "      <td>Princeton House Behavioral Health</td>\n",
       "      <td>732-967-4700</td>\n",
       "      <td>Provides comprehensive mental health and addic...</td>\n",
       "      <td>https://www.princetonhouse.org/</td>\n",
       "      <td>Middlesex County</td>\n",
       "      <td>24/7</td>\n",
       "      <td>NaN</td>\n",
       "    </tr>\n",
       "    <tr>\n",
       "      <th>4</th>\n",
       "      <td>HunterdonCares.org</td>\n",
       "      <td>908-788-2455</td>\n",
       "      <td>Community resource providing assistance and in...</td>\n",
       "      <td>https://www.hunterdoncares.org</td>\n",
       "      <td>Hunterdon County</td>\n",
       "      <td>Monday to Friday, 8 AM - 4:30 PM</td>\n",
       "      <td>Physical</td>\n",
       "    </tr>\n",
       "  </tbody>\n",
       "</table>\n",
       "</div>"
      ],
      "text/plain": [
       "                             Service    Phone Number  \\\n",
       "0       Morris Family Justice Center    973-285-2900   \n",
       "1               Oaks Integrated Care  1-800-367-6210   \n",
       "2              Vineland Soup Kitchen    856-696-5664   \n",
       "3  Princeton House Behavioral Health    732-967-4700   \n",
       "4                 HunterdonCares.org    908-788-2455   \n",
       "\n",
       "                                         Description  \\\n",
       "0  Provides support and resources for victims of ...   \n",
       "1  Provides mental health services, substance use...   \n",
       "2  Provides meals and food services to those in n...   \n",
       "3  Provides comprehensive mental health and addic...   \n",
       "4  Community resource providing assistance and in...   \n",
       "\n",
       "                        Website Link Responsible Region  \\\n",
       "0  www.morrisfamilyjusticecenter.org      Morris County   \n",
       "1                www.oaksintcare.org  Cumberland County   \n",
       "2            www.vinelandkitchen.org  Cumberland County   \n",
       "3    https://www.princetonhouse.org/   Middlesex County   \n",
       "4     https://www.hunterdoncares.org   Hunterdon County   \n",
       "\n",
       "                    Operating Hours   Category  \n",
       "0     Monday to Friday, 9 AM - 5 PM  Emotional  \n",
       "1                              24/7        NaN  \n",
       "2     Monday to Friday, 9 AM - 1 PM   Physical  \n",
       "3                              24/7        NaN  \n",
       "4  Monday to Friday, 8 AM - 4:30 PM   Physical  "
      ]
     },
     "execution_count": 3,
     "metadata": {},
     "output_type": "execute_result"
    }
   ],
   "source": [
    "hotlines_new = pd.read_csv('data/enhanced_hotlines.csv',on_bad_lines='skip')\n",
    "hotlines_new.head()"
   ]
  },
  {
   "cell_type": "code",
   "execution_count": 4,
   "id": "994e18b2",
   "metadata": {},
   "outputs": [
    {
     "data": {
      "text/plain": [
       "1291"
      ]
     },
     "execution_count": 4,
     "metadata": {},
     "output_type": "execute_result"
    }
   ],
   "source": [
    "len(hotlines_new)"
   ]
  },
  {
   "cell_type": "markdown",
   "id": "92a490c0",
   "metadata": {},
   "source": [
    "### Chatbot Demo"
   ]
  },
  {
   "cell_type": "code",
   "execution_count": 5,
   "id": "52b8b3d8",
   "metadata": {},
   "outputs": [
    {
     "data": {
      "text/plain": [
       "'James is a police officer. He has been feeling anxious due to work-related trauma. He’s experiencing increased alcohol use to cope. He recently had suicidal thoughts'"
      ]
     },
     "execution_count": 5,
     "metadata": {},
     "output_type": "execute_result"
    }
   ],
   "source": [
    "situation = \"James is a police officer. He has been feeling anxious due to work-related trauma. He’s experiencing increased alcohol use to cope. He recently had suicidal thoughts\"\n",
    "situation"
   ]
  },
  {
   "cell_type": "code",
   "execution_count": 33,
   "id": "a7700b0d",
   "metadata": {},
   "outputs": [
    {
     "name": "stdout",
     "output_type": "stream",
     "text": [
      "Response from ChatGPT:\n",
      " \n",
      "Based on James's situation, here are a few appropriate hotline services he could utilize:\n",
      "\n",
      "1. **262-HELP (Crisis Response Service)**\n",
      "   - **Phone Number:** 262-HELP (262-4357) \n",
      "   - **Reason for Choice:** This hotline specializes in crisis intervention and support for individuals experiencing distress, including suicidal thoughts. Given James's increased anxiety and alcohol use stemming from work-related trauma, this hotline can provide immediate support and connect him with professional help.\n",
      "\n",
      "2. **Narcotics Anonymous**\n",
      "   - **Phone Number:** 1-888-912-0401 (if he is looking for additional support for alcohol use)\n",
      "   - **Reason for Choice:** While Narcotics Anonymous primarily focuses on narcotic addiction, they also address issues related to substance abuse and can be a supportive group for someone like James who is experiencing increased alcohol use. They can provide him with resources and a community of individuals who understand addiction issues.\n",
      "\n",
      "3. **211 Code Blue Alert - NJ Warming Centers**\n",
      "   - **Phone Number:** 211\n",
      "   - **Reason for Choice:** Although this hotline primarily deals with homelessness and emergency services, they can provide resources and connect individuals in crisis to various local services, including mental health support and shelters if needed. This could serve as a supplementary resource for James to find additional help tailored to his situation.\n",
      "\n",
      "It’s important for James to reach out to professionals who can provide the necessary support he deserves.\n"
     ]
    }
   ],
   "source": [
    "csv_file_path = \"data/enhanced_hotlines.csv\"\n",
    "result = analyze_situation(situation, csv_file_path)\n",
    "print(\"Response from ChatGPT:\")\n",
    "print(\" \")\n",
    "print(result)"
   ]
  },
  {
   "cell_type": "markdown",
   "id": "db013e1e",
   "metadata": {},
   "source": [
    "### RAG Chatbot"
   ]
  },
  {
   "cell_type": "code",
   "execution_count": 6,
   "id": "8b06a45c",
   "metadata": {},
   "outputs": [
    {
     "data": {
      "text/plain": [
       "'James is a police officer. He has been feeling anxious due to work-related trauma. He’s experiencing increased alcohol use to cope. He recently had suicidal thoughts'"
      ]
     },
     "execution_count": 6,
     "metadata": {},
     "output_type": "execute_result"
    }
   ],
   "source": [
    "situation = \"James is a police officer. He has been feeling anxious due to work-related trauma. He’s experiencing increased alcohol use to cope. He recently had suicidal thoughts\"\n",
    "situation"
   ]
  },
  {
   "cell_type": "code",
   "execution_count": 8,
   "id": "958d44f4",
   "metadata": {},
   "outputs": [
    {
     "name": "stderr",
     "output_type": "stream",
     "text": [
      "The tokenizer class you load from this checkpoint is not the same type as the class this function is called from. It may result in unexpected tokenization. \n",
      "The tokenizer class you load from this checkpoint is 'DPRQuestionEncoderTokenizer'. \n",
      "The class this function is called from is 'DPRContextEncoderTokenizer'.\n",
      "/usr0/home/naveenr/miniconda3/envs/feedback/lib/python3.10/site-packages/transformers/tokenization_utils_base.py:1601: FutureWarning: `clean_up_tokenization_spaces` was not set. It will be set to `True` by default. This behavior will be depracted in transformers v4.45, and will be then set to `False` by default. For more details check this issue: https://github.com/huggingface/transformers/issues/31884\n",
      "  warnings.warn(\n",
      "Some weights of the model checkpoint at facebook/dpr-ctx_encoder-single-nq-base were not used when initializing DPRContextEncoder: ['ctx_encoder.bert_model.pooler.dense.bias', 'ctx_encoder.bert_model.pooler.dense.weight']\n",
      "- This IS expected if you are initializing DPRContextEncoder from the checkpoint of a model trained on another task or with another architecture (e.g. initializing a BertForSequenceClassification model from a BertForPreTraining model).\n",
      "- This IS NOT expected if you are initializing DPRContextEncoder from the checkpoint of a model that you expect to be exactly identical (initializing a BertForSequenceClassification model from a BertForSequenceClassification model).\n",
      "Asking to truncate to max_length but no maximum length is provided and the model has no predefined maximum length. Default to no truncation.\n",
      "Some weights of the model checkpoint at facebook/dpr-question_encoder-single-nq-base were not used when initializing DPRQuestionEncoder: ['question_encoder.bert_model.pooler.dense.bias', 'question_encoder.bert_model.pooler.dense.weight']\n",
      "- This IS expected if you are initializing DPRQuestionEncoder from the checkpoint of a model trained on another task or with another architecture (e.g. initializing a BertForSequenceClassification model from a BertForPreTraining model).\n",
      "- This IS NOT expected if you are initializing DPRQuestionEncoder from the checkpoint of a model that you expect to be exactly identical (initializing a BertForSequenceClassification model from a BertForSequenceClassification model).\n",
      "Asking to truncate to max_length but no maximum length is provided and the model has no predefined maximum length. Default to no truncation.\n"
     ]
    },
    {
     "name": "stdout",
     "output_type": "stream",
     "text": [
      "Init took 51.24277186393738 time\n",
      "Response from ChatGPT:\n",
      " \n",
      "James is experiencing a challenging situation that involves work-related trauma, increased anxiety, coping through alcohol use, and suicidal thoughts. The hotlines listed can provide him with the appropriate support he needs:\n",
      "\n",
      "1. **Douglas J Ratner, MD: Mental health services and consultations** - This hotline can offer James access to mental health services tailored to his specific needs. A professional consultation can help him understand his anxiety and how to cope with the trauma he’s experiencing while addressing his alcohol use. Having a supportive resource is crucial, especially when dealing with feelings of distress and suicidal thoughts.\n",
      "\n",
      "2. **Frank P Coppolino, MD: Mental health services including psychiatric evaluations and treatments** - Given the severity of James’s situation, a psychiatric evaluation might be necessary to assess his mental health comprehensively. This hotline can help him receive treatments that could include therapy or medications to help manage his anxiety and address his thoughts of self-harm. It is critical for James to engage with a professional who can provide him with a safety plan and therapeutic interventions.\n",
      "\n",
      "3. **Richard Hall: Crisis intervention services, counseling, and psychiatric support** - This hotline is particularly suited for immediate support since James has had suicidal thoughts. Crisis intervention services can provide him with urgent assistance, counseling, and the emotional support he needs in a moment of crisis. They also have the resources to help him through this difficult period and connect him to ongoing support and counseling if required.\n",
      "\n",
      "In summary, each hotline is equipped to address James’s mental health needs by providing professional support, therapeutic interventions, and crisis management, which are essential for his recovery and well-being. It is important that James reaches out to these resources promptly.\n"
     ]
    }
   ],
   "source": [
    "csv_file_path = \"data/enhanced_hotlines.csv\"\n",
    "result = analyze_situation_rag(situation, csv_file_path)\n",
    "print(\"Response from ChatGPT:\")\n",
    "print(\" \")\n",
    "print(result)"
   ]
  }
 ],
 "metadata": {
  "kernelspec": {
   "display_name": "Python 3 (ipykernel)",
   "language": "python",
   "name": "python3"
  },
  "language_info": {
   "codemirror_mode": {
    "name": "ipython",
    "version": 3
   },
   "file_extension": ".py",
   "mimetype": "text/x-python",
   "name": "python",
   "nbconvert_exporter": "python",
   "pygments_lexer": "ipython3",
   "version": "3.10.14"
  }
 },
 "nbformat": 4,
 "nbformat_minor": 5
}
