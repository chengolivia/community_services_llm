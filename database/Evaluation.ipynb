{
 "cells": [
  {
   "cell_type": "code",
   "execution_count": 1,
   "id": "c4cd0307",
   "metadata": {},
   "outputs": [],
   "source": [
    "%load_ext autoreload\n",
    "%autoreload 2"
   ]
  },
  {
   "cell_type": "code",
   "execution_count": 2,
   "id": "3243ccd8",
   "metadata": {},
   "outputs": [],
   "source": [
    "from extract_resources import analyze_situation, analyze_situation_rag\n",
    "import pandas as pd\n",
    "import re"
   ]
  },
  {
   "cell_type": "code",
   "execution_count": 3,
   "id": "5867b2a3",
   "metadata": {},
   "outputs": [],
   "source": [
    "from transformers import logging\n",
    "\n",
    "logging.set_verbosity_error()\n"
   ]
  },
  {
   "cell_type": "markdown",
   "id": "7718c2a2",
   "metadata": {},
   "source": [
    "### Database"
   ]
  },
  {
   "cell_type": "code",
   "execution_count": 3,
   "id": "3365c719",
   "metadata": {},
   "outputs": [
    {
     "data": {
      "text/html": [
       "<div>\n",
       "<style scoped>\n",
       "    .dataframe tbody tr th:only-of-type {\n",
       "        vertical-align: middle;\n",
       "    }\n",
       "\n",
       "    .dataframe tbody tr th {\n",
       "        vertical-align: top;\n",
       "    }\n",
       "\n",
       "    .dataframe thead th {\n",
       "        text-align: right;\n",
       "    }\n",
       "</style>\n",
       "<table border=\"1\" class=\"dataframe\">\n",
       "  <thead>\n",
       "    <tr style=\"text-align: right;\">\n",
       "      <th></th>\n",
       "      <th>Service</th>\n",
       "      <th>Phone Number</th>\n",
       "      <th>Description</th>\n",
       "      <th>Website Link</th>\n",
       "      <th>Responsible Region</th>\n",
       "      <th>Operating Hours</th>\n",
       "      <th>Category</th>\n",
       "    </tr>\n",
       "  </thead>\n",
       "  <tbody>\n",
       "    <tr>\n",
       "      <th>0</th>\n",
       "      <td>Morris Family Justice Center</td>\n",
       "      <td>973-285-2900</td>\n",
       "      <td>Provides support and resources for victims of ...</td>\n",
       "      <td>www.morrisfamilyjusticecenter.org</td>\n",
       "      <td>Morris County</td>\n",
       "      <td>Monday to Friday, 9 AM - 5 PM</td>\n",
       "      <td>Emotional</td>\n",
       "    </tr>\n",
       "    <tr>\n",
       "      <th>1</th>\n",
       "      <td>Oaks Integrated Care</td>\n",
       "      <td>1-800-367-6210</td>\n",
       "      <td>Provides mental health services, substance use...</td>\n",
       "      <td>www.oaksintcare.org</td>\n",
       "      <td>Cumberland County</td>\n",
       "      <td>24/7</td>\n",
       "      <td>NaN</td>\n",
       "    </tr>\n",
       "    <tr>\n",
       "      <th>2</th>\n",
       "      <td>Vineland Soup Kitchen</td>\n",
       "      <td>856-696-5664</td>\n",
       "      <td>Provides meals and food services to those in n...</td>\n",
       "      <td>www.vinelandkitchen.org</td>\n",
       "      <td>Cumberland County</td>\n",
       "      <td>Monday to Friday, 9 AM - 1 PM</td>\n",
       "      <td>Physical</td>\n",
       "    </tr>\n",
       "    <tr>\n",
       "      <th>3</th>\n",
       "      <td>Princeton House Behavioral Health</td>\n",
       "      <td>732-967-4700</td>\n",
       "      <td>Provides comprehensive mental health and addic...</td>\n",
       "      <td>https://www.princetonhouse.org/</td>\n",
       "      <td>Middlesex County</td>\n",
       "      <td>24/7</td>\n",
       "      <td>NaN</td>\n",
       "    </tr>\n",
       "    <tr>\n",
       "      <th>4</th>\n",
       "      <td>HunterdonCares.org</td>\n",
       "      <td>908-788-2455</td>\n",
       "      <td>Community resource providing assistance and in...</td>\n",
       "      <td>https://www.hunterdoncares.org</td>\n",
       "      <td>Hunterdon County</td>\n",
       "      <td>Monday to Friday, 8 AM - 4:30 PM</td>\n",
       "      <td>Physical</td>\n",
       "    </tr>\n",
       "  </tbody>\n",
       "</table>\n",
       "</div>"
      ],
      "text/plain": [
       "                             Service    Phone Number  \\\n",
       "0       Morris Family Justice Center    973-285-2900   \n",
       "1               Oaks Integrated Care  1-800-367-6210   \n",
       "2              Vineland Soup Kitchen    856-696-5664   \n",
       "3  Princeton House Behavioral Health    732-967-4700   \n",
       "4                 HunterdonCares.org    908-788-2455   \n",
       "\n",
       "                                         Description  \\\n",
       "0  Provides support and resources for victims of ...   \n",
       "1  Provides mental health services, substance use...   \n",
       "2  Provides meals and food services to those in n...   \n",
       "3  Provides comprehensive mental health and addic...   \n",
       "4  Community resource providing assistance and in...   \n",
       "\n",
       "                        Website Link Responsible Region  \\\n",
       "0  www.morrisfamilyjusticecenter.org      Morris County   \n",
       "1                www.oaksintcare.org  Cumberland County   \n",
       "2            www.vinelandkitchen.org  Cumberland County   \n",
       "3    https://www.princetonhouse.org/   Middlesex County   \n",
       "4     https://www.hunterdoncares.org   Hunterdon County   \n",
       "\n",
       "                    Operating Hours   Category  \n",
       "0     Monday to Friday, 9 AM - 5 PM  Emotional  \n",
       "1                              24/7        NaN  \n",
       "2     Monday to Friday, 9 AM - 1 PM   Physical  \n",
       "3                              24/7        NaN  \n",
       "4  Monday to Friday, 8 AM - 4:30 PM   Physical  "
      ]
     },
     "execution_count": 3,
     "metadata": {},
     "output_type": "execute_result"
    }
   ],
   "source": [
    "hotlines_new = pd.read_csv('data/enhanced_hotlines.csv',on_bad_lines='skip')\n",
    "hotlines_new.head()"
   ]
  },
  {
   "cell_type": "code",
   "execution_count": 4,
   "id": "994e18b2",
   "metadata": {},
   "outputs": [
    {
     "data": {
      "text/plain": [
       "1291"
      ]
     },
     "execution_count": 4,
     "metadata": {},
     "output_type": "execute_result"
    }
   ],
   "source": [
    "len(hotlines_new)"
   ]
  },
  {
   "cell_type": "markdown",
   "id": "db013e1e",
   "metadata": {},
   "source": [
    "### RAG Chatbot"
   ]
  },
  {
   "cell_type": "code",
   "execution_count": 5,
   "id": "958d44f4",
   "metadata": {},
   "outputs": [
    {
     "name": "stderr",
     "output_type": "stream",
     "text": [
      "/usr0/home/naveenr/miniconda3/envs/feedback/lib/python3.10/site-packages/transformers/tokenization_utils_base.py:1601: FutureWarning: `clean_up_tokenization_spaces` was not set. It will be set to `True` by default. This behavior will be depracted in transformers v4.45, and will be then set to `False` by default. For more details check this issue: https://github.com/huggingface/transformers/issues/31884\n",
      "  warnings.warn(\n",
      "Some weights of the model checkpoint at facebook/dpr-question_encoder-single-nq-base were not used when initializing DPRQuestionEncoder: ['question_encoder.bert_model.pooler.dense.bias', 'question_encoder.bert_model.pooler.dense.weight']\n",
      "- This IS expected if you are initializing DPRQuestionEncoder from the checkpoint of a model trained on another task or with another architecture (e.g. initializing a BertForSequenceClassification model from a BertForPreTraining model).\n",
      "- This IS NOT expected if you are initializing DPRQuestionEncoder from the checkpoint of a model that you expect to be exactly identical (initializing a BertForSequenceClassification model from a BertForSequenceClassification model).\n",
      "Asking to truncate to max_length but no maximum length is provided and the model has no predefined maximum length. Default to no truncation.\n"
     ]
    },
    {
     "name": "stdout",
     "output_type": "stream",
     "text": [
      "k is 3\n",
      "Retrieved hotlines 3\n",
      "While the suggested hotlines may not directly address all of Sandra's immediate concerns, they can still provide valuable support in different ways:\n",
      "\n",
      "1. **Mother Child**: While primarily focused on mothers and their families, this hotline may offer resources related to financial aid, community support, or counseling services that can help Sandra navigate her current situation. They may have connections to local food banks, housing assistance, or mental health resources that could alleviate some of her financial stress and help her manage her anxiety.\n",
      "\n",
      "2. **Audrey Hepburn Children’s House**: Although this service is directed towards children and families, it may offer mental health support that can help Sandra cope with her anxiety, especially given her history as a cancer survivor. They could provide access to support groups or counseling sessions that would assist her in dealing with the emotional toll of job loss and financial instability.\n",
      "\n",
      "3. **Dr. Sandra Connolly**: As a primary care physician, she can be an essential resource for Sandra's physical health, particularly regarding her anxiety and any health-related concerns stemming from her cancer history. Dr. Connolly may also assist in connecting Sandra with mental health professionals or community resources that can help her manage her overall health during such a stressful time.\n",
      "\n",
      "In summary, while these hotlines may not completely resolve Sandra's housing and financial issues, they can provide essential emotional support and connections to resources that will help her cope in her current situation.\n"
     ]
    },
    {
     "name": "stderr",
     "output_type": "stream",
     "text": [
      "/usr0/home/naveenr/miniconda3/envs/feedback/lib/python3.10/site-packages/transformers/tokenization_utils_base.py:1601: FutureWarning: `clean_up_tokenization_spaces` was not set. It will be set to `True` by default. This behavior will be depracted in transformers v4.45, and will be then set to `False` by default. For more details check this issue: https://github.com/huggingface/transformers/issues/31884\n",
      "  warnings.warn(\n",
      "Some weights of the model checkpoint at facebook/dpr-question_encoder-single-nq-base were not used when initializing DPRQuestionEncoder: ['question_encoder.bert_model.pooler.dense.bias', 'question_encoder.bert_model.pooler.dense.weight']\n",
      "- This IS expected if you are initializing DPRQuestionEncoder from the checkpoint of a model trained on another task or with another architecture (e.g. initializing a BertForSequenceClassification model from a BertForPreTraining model).\n",
      "- This IS NOT expected if you are initializing DPRQuestionEncoder from the checkpoint of a model that you expect to be exactly identical (initializing a BertForSequenceClassification model from a BertForSequenceClassification model).\n",
      "Asking to truncate to max_length but no maximum length is provided and the model has no predefined maximum length. Default to no truncation.\n"
     ]
    },
    {
     "name": "stdout",
     "output_type": "stream",
     "text": [
      "k is 3\n",
      "Retrieved hotlines 3\n",
      "While the suggested hotlines may not directly align with Carlos's specific needs, I can provide some context for how they might be beneficial or suggest their relevance:\n",
      "\n",
      "1. **Mother Child**: Although this hotline primarily focuses on mothers and their children, it could provide support for Carlos's parents as they navigate the challenges of raising a child with autism. They might find valuable resources or guidance on fostering a supportive environment at home, which can ultimately benefit Carlos in his social interactions and emotional well-being.\n",
      "\n",
      "2. **America’s Keswick**: This hotline is geared towards individuals struggling with addiction, which might not be Carlos’s primary issue. However, if he faces any underlying stress or other challenges that lead him to substance use, this would be a supportive resource for him. Additionally, his parents could benefit from understanding the intersections of mental health and dependence, which may sometimes affect individuals with autism.\n",
      "\n",
      "3. **Frank P Coppolino, MD**: This hotline provides mental health services, which might be most directly applicable in Carlos's situation. Professional psychiatric evaluations and treatments could help address the social anxieties he's facing and provide therapeutic support. This may facilitate his ability to connect with peers and find suitable work environments that accommodate his needs for independence.\n",
      "\n",
      "Overall, while these hotlines serve diverse populations, the **Frank P Coppolino, MD** hotline would be particularly relevant for addressing Carlos's mental health and social interaction struggles. The **Mother Child** hotline could offer support to his parents, and **America’s Keswick** may provide insight into broader challenges that could intersect with Carlos’s situation.\n"
     ]
    },
    {
     "name": "stderr",
     "output_type": "stream",
     "text": [
      "/usr0/home/naveenr/miniconda3/envs/feedback/lib/python3.10/site-packages/transformers/tokenization_utils_base.py:1601: FutureWarning: `clean_up_tokenization_spaces` was not set. It will be set to `True` by default. This behavior will be depracted in transformers v4.45, and will be then set to `False` by default. For more details check this issue: https://github.com/huggingface/transformers/issues/31884\n",
      "  warnings.warn(\n",
      "Some weights of the model checkpoint at facebook/dpr-question_encoder-single-nq-base were not used when initializing DPRQuestionEncoder: ['question_encoder.bert_model.pooler.dense.bias', 'question_encoder.bert_model.pooler.dense.weight']\n",
      "- This IS expected if you are initializing DPRQuestionEncoder from the checkpoint of a model trained on another task or with another architecture (e.g. initializing a BertForSequenceClassification model from a BertForPreTraining model).\n",
      "- This IS NOT expected if you are initializing DPRQuestionEncoder from the checkpoint of a model that you expect to be exactly identical (initializing a BertForSequenceClassification model from a BertForSequenceClassification model).\n",
      "Asking to truncate to max_length but no maximum length is provided and the model has no predefined maximum length. Default to no truncation.\n"
     ]
    },
    {
     "name": "stdout",
     "output_type": "stream",
     "text": [
      "k is 3\n",
      "Retrieved hotlines 3\n",
      "For Aisha, who is navigating the challenges of leaving an abusive relationship with her children, these hotline services can offer vital support:\n",
      "\n",
      "1. **Mother Child**: This hotline is particularly relevant as it focuses on supporting mothers and their children, providing services aimed at fostering a nurturing and safe environment. Aisha may find resources here that can help her address her immediate needs for shelter and stability while also beginning to tackle the emotional and psychological impacts of her experiences.\n",
      "\n",
      "2. **Children’s Aid and Family Services**: This organization provides comprehensive services designed to support families, including assistance with finding shelters and childcare services. They can help Aisha access the resources needed to care for her children while she works on her own well-being, providing a pathway to rebuilding their lives after trauma.\n",
      "\n",
      "3. **Hyacinth Aids Foundation**: Although focused on individuals affected by HIV/AIDS, this organization also offers crucial support services that may be beneficial for individuals dealing with trauma and mental health concerns. Aisha may find support here that addresses her struggles with depression, which can be exacerbated by her past experiences and current situation.\n",
      "\n",
      "Overall, these hotlines can provide Aisha with a range of resources to aid in her recovery process, support her children, and help her rebuild her life in a safe environment.\n"
     ]
    },
    {
     "name": "stderr",
     "output_type": "stream",
     "text": [
      "/usr0/home/naveenr/miniconda3/envs/feedback/lib/python3.10/site-packages/transformers/tokenization_utils_base.py:1601: FutureWarning: `clean_up_tokenization_spaces` was not set. It will be set to `True` by default. This behavior will be depracted in transformers v4.45, and will be then set to `False` by default. For more details check this issue: https://github.com/huggingface/transformers/issues/31884\n",
      "  warnings.warn(\n",
      "Some weights of the model checkpoint at facebook/dpr-question_encoder-single-nq-base were not used when initializing DPRQuestionEncoder: ['question_encoder.bert_model.pooler.dense.bias', 'question_encoder.bert_model.pooler.dense.weight']\n",
      "- This IS expected if you are initializing DPRQuestionEncoder from the checkpoint of a model trained on another task or with another architecture (e.g. initializing a BertForSequenceClassification model from a BertForPreTraining model).\n",
      "- This IS NOT expected if you are initializing DPRQuestionEncoder from the checkpoint of a model that you expect to be exactly identical (initializing a BertForSequenceClassification model from a BertForSequenceClassification model).\n",
      "Asking to truncate to max_length but no maximum length is provided and the model has no predefined maximum length. Default to no truncation.\n"
     ]
    },
    {
     "name": "stdout",
     "output_type": "stream",
     "text": [
      "k is 3\n",
      "Retrieved hotlines 3\n",
      "Given Kevin's situation, the following hotlines would be appropriate for his needs:\n",
      "\n",
      "1. **Frank P Coppolino, MD**: Since Kevin is experiencing feelings of hopelessness and anger because of his recent layoff and injury, mental health services can be crucial. This hotline can provide him with psychiatric evaluations and treatments that can help him cope with his emotions during this challenging time.\n",
      "\n",
      "2. **Section 8 Housing Choice Vouchers**: Although Kevin's primary concerns are related to disability benefits and retraining programs, securing stable housing can alleviate some of the stress and uncertainty he may be feeling. This hotline assists low-income families in obtaining affordable housing, which can be vital for Kevin as he navigates this transition in his life.\n",
      "\n",
      "3. **OFFICE ON AGING AND DISABILITY SERVICES**: This hotline is particularly relevant for Kevin as it provides support and services specifically for individuals with disabilities. They can assist him in applying for disability benefits and may also offer resources for job retraining programs tailored to those with limited mobility. Accessing these services can empower Kevin and help him regain a sense of control over his circumstances.\n",
      "\n",
      "These hotlines collectively offer mental health support, housing assistance, and guidance through disability services, all of which are essential for Kevin as he faces these challenges.\n"
     ]
    },
    {
     "name": "stderr",
     "output_type": "stream",
     "text": [
      "/usr0/home/naveenr/miniconda3/envs/feedback/lib/python3.10/site-packages/transformers/tokenization_utils_base.py:1601: FutureWarning: `clean_up_tokenization_spaces` was not set. It will be set to `True` by default. This behavior will be depracted in transformers v4.45, and will be then set to `False` by default. For more details check this issue: https://github.com/huggingface/transformers/issues/31884\n",
      "  warnings.warn(\n",
      "Some weights of the model checkpoint at facebook/dpr-question_encoder-single-nq-base were not used when initializing DPRQuestionEncoder: ['question_encoder.bert_model.pooler.dense.bias', 'question_encoder.bert_model.pooler.dense.weight']\n",
      "- This IS expected if you are initializing DPRQuestionEncoder from the checkpoint of a model trained on another task or with another architecture (e.g. initializing a BertForSequenceClassification model from a BertForPreTraining model).\n",
      "- This IS NOT expected if you are initializing DPRQuestionEncoder from the checkpoint of a model that you expect to be exactly identical (initializing a BertForSequenceClassification model from a BertForSequenceClassification model).\n",
      "Asking to truncate to max_length but no maximum length is provided and the model has no predefined maximum length. Default to no truncation.\n"
     ]
    },
    {
     "name": "stdout",
     "output_type": "stream",
     "text": [
      "k is 3\n",
      "Retrieved hotlines 3\n",
      "In Maria's situation, it is crucial to find support that addresses her feelings of being overwhelmed and isolated, as well as her financial challenges as she cares for her elderly mother. Here’s how the suggested hotlines can provide assistance:\n",
      "\n",
      "1. **Mother Child**: This service focuses on supporting mothers and their children, which can be beneficial for Maria as she navigates her new role as a full-time caregiver. While her mother may not be a child in a traditional sense, Maria may benefit from resources related to nurturing and caring dynamics that can help ease her burden and enhance the environment at home.\n",
      "\n",
      "2. **Alternatives**: This hotline offers mental health support and resources for individuals in crisis and their families. Given that Maria is feeling overwhelmed and isolated, accessing emotional support through **Alternatives** can help her cope with the stress of caregiving. They can provide counseling, coping strategies, and a listening ear, which can significantly alleviate feelings of isolation.\n",
      "\n",
      "3. **Mother Child Residential Services**: While primarily focused on housing and stability for mothers and their children, this service might provide Maria with information about community resources or assistance programs that can help her navigate her financial struggles. Even if she doesn't need residential support directly, they may guide her to other avenues for support like financial aid or respite care options to take a break from her caregiving duties.\n",
      "\n",
      "Overall, these hotlines can provide a combination of emotional, practical, and resource-based support, which is essential for Maria as she manages her responsibilities and seeks to improve her situation.\n"
     ]
    },
    {
     "name": "stderr",
     "output_type": "stream",
     "text": [
      "/usr0/home/naveenr/miniconda3/envs/feedback/lib/python3.10/site-packages/transformers/tokenization_utils_base.py:1601: FutureWarning: `clean_up_tokenization_spaces` was not set. It will be set to `True` by default. This behavior will be depracted in transformers v4.45, and will be then set to `False` by default. For more details check this issue: https://github.com/huggingface/transformers/issues/31884\n",
      "  warnings.warn(\n",
      "Some weights of the model checkpoint at facebook/dpr-question_encoder-single-nq-base were not used when initializing DPRQuestionEncoder: ['question_encoder.bert_model.pooler.dense.bias', 'question_encoder.bert_model.pooler.dense.weight']\n",
      "- This IS expected if you are initializing DPRQuestionEncoder from the checkpoint of a model trained on another task or with another architecture (e.g. initializing a BertForSequenceClassification model from a BertForPreTraining model).\n",
      "- This IS NOT expected if you are initializing DPRQuestionEncoder from the checkpoint of a model that you expect to be exactly identical (initializing a BertForSequenceClassification model from a BertForSequenceClassification model).\n",
      "Asking to truncate to max_length but no maximum length is provided and the model has no predefined maximum length. Default to no truncation.\n"
     ]
    },
    {
     "name": "stdout",
     "output_type": "stream",
     "text": [
      "k is 3\n",
      "Retrieved hotlines 3\n",
      "Here are the hotlines that would be appropriate for John's situation, along with explanations for each:\n",
      "\n",
      "1. **America’s Keswick**: This hotline offers a Christian-based residential recovery program that includes counseling and support services for individuals. While John's primary concern may not be addiction, the supportive community and mental health resources available at **America’s Keswick** could provide him with a safe environment and the guidance he needs as he navigates his housing uncertainty and mental health challenges.\n",
      "\n",
      "2. **Frank P Coppolino, MD**: This hotline provides mental health services, including psychiatric evaluations and treatments. Given John's history of depression and his challenges with mental health, reaching out to **Frank P Coppolino, MD** can help him access professional support that addresses his emotional well-being and assists him in developing coping strategies for his situation.\n",
      "\n",
      "3. **Men's Residential Treatment (S&N)**: This service focuses on residential treatment and support for men, which can be beneficial for John as he seeks stable housing and recovery options. While it may target those with addiction issues, having stability in a residential setting can be crucial for someone like John, who has recently aged out of the foster system and needs a structured environment to rebuild his life.\n",
      "\n",
      "These resources can provide John with essential support, whether it's through housing assistance, mental health treatment, or a structured community to help him regain his footing.\n"
     ]
    },
    {
     "name": "stderr",
     "output_type": "stream",
     "text": [
      "/usr0/home/naveenr/miniconda3/envs/feedback/lib/python3.10/site-packages/transformers/tokenization_utils_base.py:1601: FutureWarning: `clean_up_tokenization_spaces` was not set. It will be set to `True` by default. This behavior will be depracted in transformers v4.45, and will be then set to `False` by default. For more details check this issue: https://github.com/huggingface/transformers/issues/31884\n",
      "  warnings.warn(\n",
      "Some weights of the model checkpoint at facebook/dpr-question_encoder-single-nq-base were not used when initializing DPRQuestionEncoder: ['question_encoder.bert_model.pooler.dense.bias', 'question_encoder.bert_model.pooler.dense.weight']\n",
      "- This IS expected if you are initializing DPRQuestionEncoder from the checkpoint of a model trained on another task or with another architecture (e.g. initializing a BertForSequenceClassification model from a BertForPreTraining model).\n",
      "- This IS NOT expected if you are initializing DPRQuestionEncoder from the checkpoint of a model that you expect to be exactly identical (initializing a BertForSequenceClassification model from a BertForSequenceClassification model).\n",
      "Asking to truncate to max_length but no maximum length is provided and the model has no predefined maximum length. Default to no truncation.\n"
     ]
    },
    {
     "name": "stdout",
     "output_type": "stream",
     "text": [
      "k is 3\n",
      "Retrieved hotlines 3\n",
      "The situation Tanya is facing is incredibly challenging, and the suggested hotlines are appropriate for her circumstances for the following reasons:\n",
      "\n",
      "1. **Mother Child Residential Services**: This hotline is particularly relevant as it provides housing and support specifically for mothers and their children. Since Tanya is a single mother of three who has lost her housing due to a fire, this service can offer her not only shelter but also the necessary support to help her regain her stability and self-sufficiency.\n",
      "\n",
      "2. **Mother Child**: This hotline offers support services aimed at mothers and children, which can be beneficial for Tanya. Given her current stress and exhaustion, she may find emotional and practical assistance through this organization, helping her to navigate the challenges of raising her children while ensuring their well-being in this difficult time.\n",
      "\n",
      "3. **Legal Aid Service**: As Tanya is low-income and may face particular legal challenges related to her housing situation (such as tenancy rights, insurance claims, or assistance with housing applications), this hotline can provide her with essential legal assistance. Accessing legal aid can help her understand her rights and explore options for obtaining more stable housing.\n",
      "\n",
      "By reaching out to these hotlines, Tanya can find immediate support and resources tailored to her needs as a single mother looking to regain her footing after a devastating event.\n"
     ]
    },
    {
     "name": "stderr",
     "output_type": "stream",
     "text": [
      "/usr0/home/naveenr/miniconda3/envs/feedback/lib/python3.10/site-packages/transformers/tokenization_utils_base.py:1601: FutureWarning: `clean_up_tokenization_spaces` was not set. It will be set to `True` by default. This behavior will be depracted in transformers v4.45, and will be then set to `False` by default. For more details check this issue: https://github.com/huggingface/transformers/issues/31884\n",
      "  warnings.warn(\n",
      "Some weights of the model checkpoint at facebook/dpr-question_encoder-single-nq-base were not used when initializing DPRQuestionEncoder: ['question_encoder.bert_model.pooler.dense.bias', 'question_encoder.bert_model.pooler.dense.weight']\n",
      "- This IS expected if you are initializing DPRQuestionEncoder from the checkpoint of a model trained on another task or with another architecture (e.g. initializing a BertForSequenceClassification model from a BertForPreTraining model).\n",
      "- This IS NOT expected if you are initializing DPRQuestionEncoder from the checkpoint of a model that you expect to be exactly identical (initializing a BertForSequenceClassification model from a BertForSequenceClassification model).\n",
      "Asking to truncate to max_length but no maximum length is provided and the model has no predefined maximum length. Default to no truncation.\n"
     ]
    },
    {
     "name": "stdout",
     "output_type": "stream",
     "text": [
      "k is 3\n",
      "Retrieved hotlines 3\n",
      "Ming is in a challenging situation that requires both mental health support and assistance with housing. Here’s how the suggested hotlines can help:\n",
      "\n",
      "1. **Frank P Coppolino, MD**: This hotline provides mental health services, including psychiatric evaluations and treatments, which are crucial for Ming as he is dealing with untreated schizophrenia. Connecting with a professional can help him receive the necessary support and medication management he needs to stabilize his mental health.\n",
      "\n",
      "2. **HCV Section 8 Waiting List**: This resource is important for Ming as it offers assistance in finding stable housing through the Housing Choice Voucher program. Given that he is currently homeless and has faced evictions, this program can help him secure a more permanent living situation, which is essential for his overall well-being and mental health.\n",
      "\n",
      "3. **Bodhi Monastery**: While primarily focused on spiritual growth and wellness, Bodhi Monastery can provide a supportive community and resources that may aid Ming in coping with his mental health challenges. Engaging in spiritual and wellness activities might offer him additional emotional support during this difficult time.\n",
      "\n",
      "These hotlines collectively address both Ming's mental health needs and his urgent requirement for housing assistance, making them appropriate for his situation.\n"
     ]
    },
    {
     "name": "stderr",
     "output_type": "stream",
     "text": [
      "/usr0/home/naveenr/miniconda3/envs/feedback/lib/python3.10/site-packages/transformers/tokenization_utils_base.py:1601: FutureWarning: `clean_up_tokenization_spaces` was not set. It will be set to `True` by default. This behavior will be depracted in transformers v4.45, and will be then set to `False` by default. For more details check this issue: https://github.com/huggingface/transformers/issues/31884\n",
      "  warnings.warn(\n",
      "Some weights of the model checkpoint at facebook/dpr-question_encoder-single-nq-base were not used when initializing DPRQuestionEncoder: ['question_encoder.bert_model.pooler.dense.bias', 'question_encoder.bert_model.pooler.dense.weight']\n",
      "- This IS expected if you are initializing DPRQuestionEncoder from the checkpoint of a model trained on another task or with another architecture (e.g. initializing a BertForSequenceClassification model from a BertForPreTraining model).\n",
      "- This IS NOT expected if you are initializing DPRQuestionEncoder from the checkpoint of a model that you expect to be exactly identical (initializing a BertForSequenceClassification model from a BertForSequenceClassification model).\n",
      "Asking to truncate to max_length but no maximum length is provided and the model has no predefined maximum length. Default to no truncation.\n"
     ]
    },
    {
     "name": "stdout",
     "output_type": "stream",
     "text": [
      "k is 3\n",
      "Retrieved hotlines 3\n",
      "Here’s an explanation of why the suggested hotlines are appropriate for Raj’s situation:\n",
      "\n",
      "1. **Housing Opportunities for Persons with AIDS (HOPWA)**: Although this program primarily serves individuals with HIV/AIDS, they may also have resources and guidance on housing assistance programs that could help Raj navigate his current housing crisis. It's worth reaching out to them for information about available housing support in his area.\n",
      "\n",
      "2. **Legal Aid Service**: Raj may need legal assistance regarding his housing situation, such as understanding tenant rights or navigating eviction processes. The **Legal Aid Service** provides crucial support for low-income individuals and families, helping them with civil matters that could include issues related to housing security and affordability.\n",
      "\n",
      "3. **Program of All-Inclusive Care for the Elderly (PACE)**: While this program is designed for older adults, if Raj is supporting elderly family members or if he himself is facing aging-related concerns, PACE could provide relevant medical and social services. Even though it may not directly address his immediate financial and housing needs, they can offer guidance and support for related issues.\n",
      "\n",
      "In summary, each of these hotlines offers potential pathways for Raj to find assistance, whether it's housing help, legal support, or information on comprehensive care services.\n"
     ]
    },
    {
     "name": "stderr",
     "output_type": "stream",
     "text": [
      "/usr0/home/naveenr/miniconda3/envs/feedback/lib/python3.10/site-packages/transformers/tokenization_utils_base.py:1601: FutureWarning: `clean_up_tokenization_spaces` was not set. It will be set to `True` by default. This behavior will be depracted in transformers v4.45, and will be then set to `False` by default. For more details check this issue: https://github.com/huggingface/transformers/issues/31884\n",
      "  warnings.warn(\n",
      "Some weights of the model checkpoint at facebook/dpr-question_encoder-single-nq-base were not used when initializing DPRQuestionEncoder: ['question_encoder.bert_model.pooler.dense.bias', 'question_encoder.bert_model.pooler.dense.weight']\n",
      "- This IS expected if you are initializing DPRQuestionEncoder from the checkpoint of a model trained on another task or with another architecture (e.g. initializing a BertForSequenceClassification model from a BertForPreTraining model).\n",
      "- This IS NOT expected if you are initializing DPRQuestionEncoder from the checkpoint of a model that you expect to be exactly identical (initializing a BertForSequenceClassification model from a BertForSequenceClassification model).\n",
      "Asking to truncate to max_length but no maximum length is provided and the model has no predefined maximum length. Default to no truncation.\n"
     ]
    },
    {
     "name": "stdout",
     "output_type": "stream",
     "text": [
      "k is 3\n",
      "Retrieved hotlines 3\n",
      "The suggested hotlines are particularly appropriate for Denise's situation as they address her immediate needs for support in recovery, stable housing, and mental health assistance.\n",
      "\n",
      "1. **America’s Keswick**: This organization offers a Christian-based residential recovery program that provides not only a safe place to stay but also counseling and support specifically tailored for individuals struggling with addiction. Since Denise is in recovery from opioid addiction, their programs can help her maintain her sobriety and provide her with a stable environment conducive to healing.\n",
      "\n",
      "2. **Section 8 Housing Choice Vouchers**: Securing stable housing is critical for Denise as she navigates her recovery. The Section 8 program assists low-income families in finding affordable housing options through rental assistance. By connecting with this service, Denise can work towards obtaining a secure living situation, reducing the temptation to relapse that often accompanies unstable housing.\n",
      "\n",
      "3. **Alternatives**: This hotline specializes in providing mental health support and crisis resources to individuals and their families. Given that Denise is feeling tempted to relapse, reaching out to a mental health service can offer her the emotional support and coping strategies she needs to stay on track during this vulnerable time. They can guide her through her feelings and help her develop a plan to maintain her sobriety.\n",
      "\n",
      "Each of these resources addresses a fundamental aspect of Denise's challenges—her recovery journey, need for stable housing, and mental health support—making them highly suitable for her current situation.\n"
     ]
    }
   ],
   "source": [
    "k=3\n",
    "matches = []\n",
    "situation_list = open(\"data/example_scenarios.txt\").read().split(\"\\n\")\n",
    "for i in range(len(situation_list)):\n",
    "    csv_file_path = \"data/enhanced_hotlines.csv\"\n",
    "    result = analyze_situation_rag(situation_list[i], csv_file_path,k=k)\n",
    "    print(result)\n",
    "    result = result.replace(\"**Appropriateness**\",\"\")\n",
    "    matches.append(re.findall(r'\\*\\*(.*?)\\*\\*', result))\n",
    "\n",
    "csv_data = []\n",
    "csv_data.append(\"situation,recommendation,relevant,real\")\n",
    "for i in range(len(situation_list)):\n",
    "    for j in range(len(matches[i][:k])):\n",
    "        csv_data.append(\"\\\"{}\\\",\\\"{}\\\",?,?\".format(situation_list[i],matches[i][j]))\n",
    "w = open(\"data/k_{}_evaluation.csv\".format(k),\"w\")\n",
    "w.write(\"\\n\".join(csv_data))\n",
    "w.close()"
   ]
  },
  {
   "cell_type": "code",
   "execution_count": 10,
   "id": "cc77ce0b",
   "metadata": {},
   "outputs": [
    {
     "data": {
      "text/plain": [
       "(0.3, 1.0)"
      ]
     },
     "execution_count": 10,
     "metadata": {},
     "output_type": "execute_result"
    }
   ],
   "source": [
    "k = 1\n",
    "results = pd.read_csv(open(\"data/k_{}_evaluation.csv\".format(k)))\n",
    "list(results['relevant']).count('y')/len(results), list(results['real']).count('y')/len(results)"
   ]
  },
  {
   "cell_type": "code",
   "execution_count": 9,
   "id": "fc09e21f",
   "metadata": {},
   "outputs": [
    {
     "data": {
      "text/plain": [
       "(0.43333333333333335, 1.0)"
      ]
     },
     "execution_count": 9,
     "metadata": {},
     "output_type": "execute_result"
    }
   ],
   "source": [
    "k = 3\n",
    "results = pd.read_csv(open(\"data/k_{}_evaluation.csv\".format(k)))\n",
    "list(results['relevant']).count('y')/len(results), list(results['real']).count('y')/len(results)"
   ]
  }
 ],
 "metadata": {
  "kernelspec": {
   "display_name": "Python 3 (ipykernel)",
   "language": "python",
   "name": "python3"
  },
  "language_info": {
   "codemirror_mode": {
    "name": "ipython",
    "version": 3
   },
   "file_extension": ".py",
   "mimetype": "text/x-python",
   "name": "python",
   "nbconvert_exporter": "python",
   "pygments_lexer": "ipython3",
   "version": "3.10.14"
  }
 },
 "nbformat": 4,
 "nbformat_minor": 5
}
