{
 "cells": [
  {
   "cell_type": "code",
   "execution_count": 2,
   "metadata": {},
   "outputs": [],
   "source": [
    "%load_ext autoreload\n",
    "%autoreload 2"
   ]
  },
  {
   "cell_type": "code",
   "execution_count": 62,
   "metadata": {},
   "outputs": [],
   "source": [
    "import pandas as pd\n",
    "from extract_information import extract_information\n",
    "import numpy as np"
   ]
  },
  {
   "cell_type": "markdown",
   "metadata": {},
   "source": [
    "## Evaluating from CSV"
   ]
  },
  {
   "cell_type": "code",
   "execution_count": 57,
   "metadata": {},
   "outputs": [
    {
     "data": {
      "text/html": [
       "<div>\n",
       "<style scoped>\n",
       "    .dataframe tbody tr th:only-of-type {\n",
       "        vertical-align: middle;\n",
       "    }\n",
       "\n",
       "    .dataframe tbody tr th {\n",
       "        vertical-align: top;\n",
       "    }\n",
       "\n",
       "    .dataframe thead th {\n",
       "        text-align: right;\n",
       "    }\n",
       "</style>\n",
       "<table border=\"1\" class=\"dataframe\">\n",
       "  <thead>\n",
       "    <tr style=\"text-align: right;\">\n",
       "      <th></th>\n",
       "      <th>situation</th>\n",
       "      <th>age</th>\n",
       "      <th>income_from_work</th>\n",
       "      <th>non-work_income</th>\n",
       "      <th>marital_status</th>\n",
       "      <th>resources</th>\n",
       "      <th>disability_status</th>\n",
       "      <th>years_worked</th>\n",
       "      <th>lifetime_earnings</th>\n",
       "      <th>railroad_retirement_benefits</th>\n",
       "      <th>medicare_tax</th>\n",
       "      <th>ssdi_covered</th>\n",
       "      <th>sga_ability</th>\n",
       "      <th>adjustment_to_other_work</th>\n",
       "      <th>condition_lasting_over_12_months</th>\n",
       "    </tr>\n",
       "  </thead>\n",
       "  <tbody>\n",
       "    <tr>\n",
       "      <th>0</th>\n",
       "      <td>\\nPeer Specialist: \"Good afternoon! How can I ...</td>\n",
       "      <td>40</td>\n",
       "      <td>2500.0</td>\n",
       "      <td>NaN</td>\n",
       "      <td>Married</td>\n",
       "      <td>300</td>\n",
       "      <td>unclear</td>\n",
       "      <td>NaN</td>\n",
       "      <td>NaN</td>\n",
       "      <td>NaN</td>\n",
       "      <td>NaN</td>\n",
       "      <td>NaN</td>\n",
       "      <td>unclear</td>\n",
       "      <td>NaN</td>\n",
       "      <td>NaN</td>\n",
       "    </tr>\n",
       "    <tr>\n",
       "      <th>1</th>\n",
       "      <td>\\nPeer Specialist: \"Hello! I’m glad you reache...</td>\n",
       "      <td>50</td>\n",
       "      <td>1500.0</td>\n",
       "      <td>NaN</td>\n",
       "      <td>Married</td>\n",
       "      <td>700</td>\n",
       "      <td>yes</td>\n",
       "      <td>NaN</td>\n",
       "      <td>NaN</td>\n",
       "      <td>NaN</td>\n",
       "      <td>NaN</td>\n",
       "      <td>NaN</td>\n",
       "      <td>no</td>\n",
       "      <td>NaN</td>\n",
       "      <td>yes</td>\n",
       "    </tr>\n",
       "    <tr>\n",
       "      <th>2</th>\n",
       "      <td>\\nPeer Specialist: \"Hi! It’s great to meet you...</td>\n",
       "      <td>45</td>\n",
       "      <td>1200.0</td>\n",
       "      <td>NaN</td>\n",
       "      <td>Living with partner</td>\n",
       "      <td>600</td>\n",
       "      <td>yes</td>\n",
       "      <td>NaN</td>\n",
       "      <td>NaN</td>\n",
       "      <td>NaN</td>\n",
       "      <td>NaN</td>\n",
       "      <td>NaN</td>\n",
       "      <td>no</td>\n",
       "      <td>NaN</td>\n",
       "      <td>yes</td>\n",
       "    </tr>\n",
       "    <tr>\n",
       "      <th>3</th>\n",
       "      <td>\\nPeer Specialist: \"Good afternoon! How can I ...</td>\n",
       "      <td>62</td>\n",
       "      <td>NaN</td>\n",
       "      <td>1500.0</td>\n",
       "      <td>Married</td>\n",
       "      <td>1000</td>\n",
       "      <td>unclear</td>\n",
       "      <td>40.0</td>\n",
       "      <td>NaN</td>\n",
       "      <td>NaN</td>\n",
       "      <td>NaN</td>\n",
       "      <td>NaN</td>\n",
       "      <td>unclear</td>\n",
       "      <td>NaN</td>\n",
       "      <td>NaN</td>\n",
       "    </tr>\n",
       "    <tr>\n",
       "      <th>4</th>\n",
       "      <td>\\nPeer Specialist: \"Hello! How can I assist yo...</td>\n",
       "      <td>55</td>\n",
       "      <td>1000.0</td>\n",
       "      <td>NaN</td>\n",
       "      <td>Widowed</td>\n",
       "      <td>800</td>\n",
       "      <td>yes</td>\n",
       "      <td>NaN</td>\n",
       "      <td>NaN</td>\n",
       "      <td>NaN</td>\n",
       "      <td>NaN</td>\n",
       "      <td>NaN</td>\n",
       "      <td>yes</td>\n",
       "      <td>NaN</td>\n",
       "      <td>NaN</td>\n",
       "    </tr>\n",
       "    <tr>\n",
       "      <th>5</th>\n",
       "      <td>I'm 48 years old and have been running my own ...</td>\n",
       "      <td>48</td>\n",
       "      <td>3000.0</td>\n",
       "      <td>NaN</td>\n",
       "      <td>Married</td>\n",
       "      <td>1200</td>\n",
       "      <td>unclear</td>\n",
       "      <td>NaN</td>\n",
       "      <td>NaN</td>\n",
       "      <td>NaN</td>\n",
       "      <td>NaN</td>\n",
       "      <td>NaN</td>\n",
       "      <td>unclear</td>\n",
       "      <td>NaN</td>\n",
       "      <td>NaN</td>\n",
       "    </tr>\n",
       "    <tr>\n",
       "      <th>6</th>\n",
       "      <td>I’m 58 years old and currently working part-ti...</td>\n",
       "      <td>58</td>\n",
       "      <td>2800.0</td>\n",
       "      <td>NaN</td>\n",
       "      <td>NaN</td>\n",
       "      <td>500</td>\n",
       "      <td>yes</td>\n",
       "      <td>NaN</td>\n",
       "      <td>NaN</td>\n",
       "      <td>NaN</td>\n",
       "      <td>NaN</td>\n",
       "      <td>NaN</td>\n",
       "      <td>no</td>\n",
       "      <td>NaN</td>\n",
       "      <td>NaN</td>\n",
       "    </tr>\n",
       "    <tr>\n",
       "      <th>7</th>\n",
       "      <td>I’m a 67-year-old retired teacher. I spent ove...</td>\n",
       "      <td>67</td>\n",
       "      <td>NaN</td>\n",
       "      <td>2300.0</td>\n",
       "      <td>Widowed</td>\n",
       "      <td>1500</td>\n",
       "      <td>NaN</td>\n",
       "      <td>NaN</td>\n",
       "      <td>NaN</td>\n",
       "      <td>NaN</td>\n",
       "      <td>NaN</td>\n",
       "      <td>NaN</td>\n",
       "      <td>NaN</td>\n",
       "      <td>NaN</td>\n",
       "      <td>NaN</td>\n",
       "    </tr>\n",
       "    <tr>\n",
       "      <th>8</th>\n",
       "      <td>I am a 35-year-old single parent with two chil...</td>\n",
       "      <td>35</td>\n",
       "      <td>3500.0</td>\n",
       "      <td>NaN</td>\n",
       "      <td>NaN</td>\n",
       "      <td>800</td>\n",
       "      <td>no</td>\n",
       "      <td>NaN</td>\n",
       "      <td>NaN</td>\n",
       "      <td>NaN</td>\n",
       "      <td>NaN</td>\n",
       "      <td>NaN</td>\n",
       "      <td>NaN</td>\n",
       "      <td>NaN</td>\n",
       "      <td>NaN</td>\n",
       "    </tr>\n",
       "    <tr>\n",
       "      <th>9</th>\n",
       "      <td>I am a 60-year-old individual, currently worki...</td>\n",
       "      <td>60</td>\n",
       "      <td>1200.0</td>\n",
       "      <td>NaN</td>\n",
       "      <td>NaN</td>\n",
       "      <td>1500</td>\n",
       "      <td>no</td>\n",
       "      <td>20.0</td>\n",
       "      <td>NaN</td>\n",
       "      <td>NaN</td>\n",
       "      <td>NaN</td>\n",
       "      <td>NaN</td>\n",
       "      <td>yes</td>\n",
       "      <td>NaN</td>\n",
       "      <td>NaN</td>\n",
       "    </tr>\n",
       "  </tbody>\n",
       "</table>\n",
       "</div>"
      ],
      "text/plain": [
       "                                           situation  age  income_from_work  \\\n",
       "0  \\nPeer Specialist: \"Good afternoon! How can I ...   40            2500.0   \n",
       "1  \\nPeer Specialist: \"Hello! I’m glad you reache...   50            1500.0   \n",
       "2  \\nPeer Specialist: \"Hi! It’s great to meet you...   45            1200.0   \n",
       "3  \\nPeer Specialist: \"Good afternoon! How can I ...   62               NaN   \n",
       "4  \\nPeer Specialist: \"Hello! How can I assist yo...   55            1000.0   \n",
       "5  I'm 48 years old and have been running my own ...   48            3000.0   \n",
       "6  I’m 58 years old and currently working part-ti...   58            2800.0   \n",
       "7  I’m a 67-year-old retired teacher. I spent ove...   67               NaN   \n",
       "8  I am a 35-year-old single parent with two chil...   35            3500.0   \n",
       "9  I am a 60-year-old individual, currently worki...   60            1200.0   \n",
       "\n",
       "   non-work_income       marital_status  resources disability_status  \\\n",
       "0              NaN              Married        300           unclear   \n",
       "1              NaN              Married        700               yes   \n",
       "2              NaN  Living with partner        600               yes   \n",
       "3           1500.0              Married       1000           unclear   \n",
       "4              NaN              Widowed        800               yes   \n",
       "5              NaN              Married       1200           unclear   \n",
       "6              NaN                  NaN        500               yes   \n",
       "7           2300.0              Widowed       1500               NaN   \n",
       "8              NaN                  NaN        800                no   \n",
       "9              NaN                  NaN       1500                no   \n",
       "\n",
       "   years_worked  lifetime_earnings  railroad_retirement_benefits  \\\n",
       "0           NaN                NaN                           NaN   \n",
       "1           NaN                NaN                           NaN   \n",
       "2           NaN                NaN                           NaN   \n",
       "3          40.0                NaN                           NaN   \n",
       "4           NaN                NaN                           NaN   \n",
       "5           NaN                NaN                           NaN   \n",
       "6           NaN                NaN                           NaN   \n",
       "7           NaN                NaN                           NaN   \n",
       "8           NaN                NaN                           NaN   \n",
       "9          20.0                NaN                           NaN   \n",
       "\n",
       "   medicare_tax  ssdi_covered sga_ability  adjustment_to_other_work  \\\n",
       "0           NaN           NaN     unclear                       NaN   \n",
       "1           NaN           NaN          no                       NaN   \n",
       "2           NaN           NaN          no                       NaN   \n",
       "3           NaN           NaN     unclear                       NaN   \n",
       "4           NaN           NaN         yes                       NaN   \n",
       "5           NaN           NaN     unclear                       NaN   \n",
       "6           NaN           NaN          no                       NaN   \n",
       "7           NaN           NaN         NaN                       NaN   \n",
       "8           NaN           NaN         NaN                       NaN   \n",
       "9           NaN           NaN         yes                       NaN   \n",
       "\n",
       "  condition_lasting_over_12_months  \n",
       "0                              NaN  \n",
       "1                              yes  \n",
       "2                              yes  \n",
       "3                              NaN  \n",
       "4                              NaN  \n",
       "5                              NaN  \n",
       "6                              NaN  \n",
       "7                              NaN  \n",
       "8                              NaN  \n",
       "9                              NaN  "
      ]
     },
     "execution_count": 57,
     "metadata": {},
     "output_type": "execute_result"
    }
   ],
   "source": [
    "data = pd.read_csv('data/labeled_eligibility.csv')\n",
    "data"
   ]
  },
  {
   "cell_type": "code",
   "execution_count": 58,
   "metadata": {},
   "outputs": [],
   "source": [
    "with open('data/labeled_eligibility.csv', 'r') as file:\n",
    "    reader = csv.DictReader(file)\n",
    "    data = [row for row in reader]"
   ]
  },
  {
   "cell_type": "code",
   "execution_count": 48,
   "metadata": {},
   "outputs": [
    {
     "name": "stdout",
     "output_type": "stream",
     "text": [
      "{'age': '40', 'income_from_work': '2500', 'non-work_income': 'empty', 'marital_status': 'Married', 'resources': '300', 'disability_status': 'No', 'years_worked': 'Several (exact number not provided)', 'lifetime_earnings': 'empty', 'railroad_retirement_benefits': 'No', 'medicare_tax': 'No', 'ssdi_covered': 'No', 'sga_ability': 'Yes', 'adjustment_to_other_work': 'Yes', 'condition_lasting_over_12_months': 'No'}\n",
      "{'age': '50', 'income_from_work': '1500', 'non-work_income': '', 'marital_status': 'Married', 'resources': '700', 'disability_status': 'Yes', 'years_worked': '', 'lifetime_earnings': '', 'railroad_retirement_benefits': '', 'medicare_tax': '', 'ssdi_covered': '', 'sga_ability': '', 'adjustment_to_other_work': '', 'condition_lasting_over_12_months': 'Yes'}\n",
      "{'age': '45', 'income_from_work': '1200', 'non-work_income': '', 'marital_status': 'Living with partner', 'resources': '600', 'disability_status': 'Yes', 'years_worked': '5', 'lifetime_earnings': '', 'railroad_retirement_benefits': 'No', 'medicare_tax': '', 'ssdi_covered': 'No', 'sga_ability': 'No', 'adjustment_to_other_work': 'No', 'condition_lasting_over_12_months': 'Yes'}\n",
      "{'age': '62', 'income_from_work': '', 'non-work_income': '1500', 'marital_status': 'Married', 'resources': '1000', 'disability_status': 'Yes', 'years_worked': '40', 'lifetime_earnings': '', 'railroad_retirement_benefits': 'No', 'medicare_tax': 'No', 'ssdi_covered': 'No', 'sga_ability': 'No', 'adjustment_to_other_work': 'No', 'condition_lasting_over_12_months': 'Yes'}\n",
      "{'age': '55', 'income_from_work': '1000', 'non-work_income': '', 'marital_status': 'Widowed', 'resources': '800', 'disability_status': 'Yes', 'years_worked': '', 'lifetime_earnings': '', 'railroad_retirement_benefits': '', 'medicare_tax': '', 'ssdi_covered': '', 'sga_ability': 'Yes', 'adjustment_to_other_work': 'Yes', 'condition_lasting_over_12_months': 'Yes'}\n",
      "{'age': '48', 'income_from_work': '3000', 'non-work_income': '', 'marital_status': 'Married', 'resources': '1200', 'disability_status': 'Yes', 'years_worked': '10', 'lifetime_earnings': '', 'railroad_retirement_benefits': 'No', 'medicare_tax': 'No', 'ssdi_covered': 'No', 'sga_ability': 'No', 'adjustment_to_other_work': 'No', 'condition_lasting_over_12_months': 'Yes'}\n",
      "{'age': '58', 'income_from_work': '2800', 'non-work_income': '', 'marital_status': '', 'resources': '500', 'disability_status': 'Yes', 'years_worked': '', 'lifetime_earnings': '', 'railroad_retirement_benefits': 'No', 'medicare_tax': '', 'ssdi_covered': 'No', 'sga_ability': 'No', 'adjustment_to_other_work': 'No', 'condition_lasting_over_12_months': 'Yes'}\n",
      "{'age': '67', 'income_from_work': '', 'non-work_income': '2300', 'marital_status': 'Widowed', 'resources': '1500', 'disability_status': 'Yes', 'years_worked': '30', 'lifetime_earnings': '', 'railroad_retirement_benefits': 'No', 'medicare_tax': 'No', 'ssdi_covered': 'No', 'sga_ability': 'No', 'adjustment_to_other_work': 'No', 'condition_lasting_over_12_months': 'Yes'}\n",
      "{'age': '35', 'income_from_work': '3500', 'non-work_income': '', 'marital_status': 'Single', 'resources': '800', 'disability_status': 'No', 'years_worked': '7', 'lifetime_earnings': '', 'railroad_retirement_benefits': 'No', 'medicare_tax': 'No', 'ssdi_covered': 'No', 'sga_ability': 'No', 'adjustment_to_other_work': 'No', 'condition_lasting_over_12_months': 'No'}\n",
      "{'age': '60', 'income_from_work': '1200', 'non-work_income': '', 'marital_status': 'Single', 'resources': '1500', 'disability_status': 'No', 'years_worked': '20', 'lifetime_earnings': '', 'railroad_retirement_benefits': 'No', 'medicare_tax': '', 'ssdi_covered': 'No', 'sga_ability': 'Yes', 'adjustment_to_other_work': 'Yes', 'condition_lasting_over_12_months': 'Yes'}\n"
     ]
    }
   ],
   "source": [
    "predicted_situations = []\n",
    "for row in data:\n",
    "    situation = row['situation']\n",
    "    info = extract_information(situation)\n",
    "    predicted_situations.append(info)"
   ]
  },
  {
   "cell_type": "code",
   "execution_count": 60,
   "metadata": {},
   "outputs": [],
   "source": [
    "for i in predicted_situations:\n",
    "    for j in i:\n",
    "        if i[j] == 'empty':\n",
    "            i[j] = ''"
   ]
  },
  {
   "cell_type": "code",
   "execution_count": 75,
   "metadata": {},
   "outputs": [],
   "source": [
    "num_equal = 0\n",
    "num_answered = np.zeros((2,2))\n",
    "unclear_answered = 0\n",
    "\n",
    "for i,d in enumerate(data):\n",
    "    for key in d:\n",
    "        if key != 'situation':\n",
    "            if d[key] == predicted_situations[i][key]:\n",
    "                num_equal += 1\n",
    "            if d[key] == '' or d[key] == 'unclear':\n",
    "                row = 0\n",
    "            else:\n",
    "                row = 1\n",
    "            \n",
    "            if predicted_situations[i][key] == '':\n",
    "                column = 0\n",
    "            else:\n",
    "                column = 1\n",
    "\n",
    "            if column == 1 and d[key] == 'unclear':\n",
    "                unclear_answered += 1\n",
    "\n",
    "            num_answered[row,column] += 1"
   ]
  },
  {
   "cell_type": "code",
   "execution_count": 76,
   "metadata": {},
   "outputs": [
    {
     "data": {
      "text/plain": [
       "0.5214285714285715"
      ]
     },
     "execution_count": 76,
     "metadata": {},
     "output_type": "execute_result"
    }
   ],
   "source": [
    "# How often do LLM, ground truth agree?\n",
    "num_equal/np.sum(num_answered)"
   ]
  },
  {
   "cell_type": "code",
   "execution_count": 80,
   "metadata": {},
   "outputs": [
    {
     "data": {
      "text/plain": [
       "0.8588235294117647"
      ]
     },
     "execution_count": 80,
     "metadata": {},
     "output_type": "execute_result"
    }
   ],
   "source": [
    "# When both ground-truth, LLM answer, how accurate is it? \n",
    "num_equal/(num_answered[0,0]+num_answered[1,1])"
   ]
  },
  {
   "cell_type": "code",
   "execution_count": 77,
   "metadata": {},
   "outputs": [
    {
     "data": {
      "text/plain": [
       "0.38571428571428573"
      ]
     },
     "execution_count": 77,
     "metadata": {},
     "output_type": "execute_result"
    }
   ],
   "source": [
    "# How often does LLM answer when ground truth isn't sure? \n",
    "num_answered[0,1]/np.sum(num_answered)"
   ]
  },
  {
   "cell_type": "code",
   "execution_count": 78,
   "metadata": {},
   "outputs": [
    {
     "data": {
      "text/plain": [
       "0.04285714285714286"
      ]
     },
     "execution_count": 78,
     "metadata": {},
     "output_type": "execute_result"
    }
   ],
   "source": [
    "# How often is the answer unclear? \n",
    "unclear_answered/np.sum(num_answered)"
   ]
  }
 ],
 "metadata": {
  "kernelspec": {
   "display_name": "feedback",
   "language": "python",
   "name": "python3"
  },
  "language_info": {
   "codemirror_mode": {
    "name": "ipython",
    "version": 3
   },
   "file_extension": ".py",
   "mimetype": "text/x-python",
   "name": "python",
   "nbconvert_exporter": "python",
   "pygments_lexer": "ipython3",
   "version": "3.10.14"
  }
 },
 "nbformat": 4,
 "nbformat_minor": 2
}
