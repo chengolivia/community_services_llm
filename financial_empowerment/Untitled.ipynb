{
 "cells": [
  {
   "cell_type": "code",
   "execution_count": 9,
   "id": "92e715cf",
   "metadata": {},
   "outputs": [
    {
     "data": {
      "text/plain": [
       "'Extract the relevant personal information from the following user input and present it in a structured dictionary format.This extracted information will be used to determine eligibility for government benefits. Here is the user input: a. Use the structure below, filling in values or indicating None if unclear. Present the final result as a Python dictionary.\\n\\nExpected Python Dictionary Structure:\\n\\n    \"age\": [extracted value or None if unclear],\\n    \"marital_status\": [e.g., \"single_adult\", \"married_couple\", or None if unclear],\\n    \"family_status\": [e.g., \"single_adult\", \"individual_parent_disabled_child\", \"married_couple\", or None if unclear],\\n    \"income\": [Monthly Income from Work, before taxes, or None if unclear],\\n    \"non_work_income\": [Monthly Income from Non-Work Sources (e.g., pensions, unemployment), or None if unclear],\\n    \"resources\": [Total Resources/Assets (e.g., savings, property value), or None if unclear],\\n    \"disability\": [True if disabled, False if not, or None if unclear],\\n    \"condition\": [e.g., specific conditions like \"terminal_illness\", \"kidney_failure\", or None if unclear],\\n    \"work_credits\": [Total lifetime work credits, or None if unclear],\\n    \"sga\": [True if engaged in substantial gainful activity, False if not, or None if unclear],\\n    \"social_security_eligibility\": [True if eligible, False if not, or None if unclear]\\n\\n\\n\\n'"
      ]
     },
     "execution_count": 9,
     "metadata": {},
     "output_type": "execute_result"
    }
   ],
   "source": []
  },
  {
   "cell_type": "code",
   "execution_count": null,
   "id": "884976ba",
   "metadata": {},
   "outputs": [],
   "source": []
  }
 ],
 "metadata": {
  "kernelspec": {
   "display_name": "Python 3 (ipykernel)",
   "language": "python",
   "name": "python3"
  },
  "language_info": {
   "codemirror_mode": {
    "name": "ipython",
    "version": 3
   },
   "file_extension": ".py",
   "mimetype": "text/x-python",
   "name": "python",
   "nbconvert_exporter": "python",
   "pygments_lexer": "ipython3",
   "version": "3.9.13"
  }
 },
 "nbformat": 4,
 "nbformat_minor": 5
}
