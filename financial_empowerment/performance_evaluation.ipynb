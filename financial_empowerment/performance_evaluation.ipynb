{
 "cells": [
  {
   "cell_type": "code",
   "execution_count": 1,
   "id": "89c1983f",
   "metadata": {},
   "outputs": [
    {
     "name": "stderr",
     "output_type": "stream",
     "text": [
      "/Users/gaomo/opt/anaconda3/lib/python3.9/site-packages/pandas/core/computation/expressions.py:21: UserWarning: Pandas requires version '2.8.4' or newer of 'numexpr' (version '2.8.3' currently installed).\n",
      "  from pandas.core.computation.check import NUMEXPR_INSTALLED\n",
      "/Users/gaomo/opt/anaconda3/lib/python3.9/site-packages/pandas/core/arrays/masked.py:60: UserWarning: Pandas requires version '1.3.6' or newer of 'bottleneck' (version '1.3.5' currently installed).\n",
      "  from pandas.core import (\n"
     ]
    }
   ],
   "source": [
    "import pandas as pd"
   ]
  },
  {
   "cell_type": "code",
   "execution_count": 2,
   "id": "83f3ace5",
   "metadata": {},
   "outputs": [
    {
     "data": {
      "text/html": [
       "<div>\n",
       "<style scoped>\n",
       "    .dataframe tbody tr th:only-of-type {\n",
       "        vertical-align: middle;\n",
       "    }\n",
       "\n",
       "    .dataframe tbody tr th {\n",
       "        vertical-align: top;\n",
       "    }\n",
       "\n",
       "    .dataframe thead th {\n",
       "        text-align: right;\n",
       "    }\n",
       "</style>\n",
       "<table border=\"1\" class=\"dataframe\">\n",
       "  <thead>\n",
       "    <tr style=\"text-align: right;\">\n",
       "      <th></th>\n",
       "      <th>input_text</th>\n",
       "      <th>100_eligible</th>\n",
       "      <th>likely_eligible</th>\n",
       "      <th>maybe_eligible</th>\n",
       "      <th>not_eligible</th>\n",
       "    </tr>\n",
       "  </thead>\n",
       "  <tbody>\n",
       "    <tr>\n",
       "      <th>0</th>\n",
       "      <td>\\nPeer Specialist: \"Good afternoon! How can I ...</td>\n",
       "      <td>NaN</td>\n",
       "      <td>Supplemental Security Income (SSI)</td>\n",
       "      <td>Social Security Disability Insurance (SSDI),Me...</td>\n",
       "      <td>Social Security Retirement Benefits (SSA)</td>\n",
       "    </tr>\n",
       "    <tr>\n",
       "      <th>1</th>\n",
       "      <td>\\nPeer Specialist: \"Hello! I’m glad you reache...</td>\n",
       "      <td>Supplemental Security Income (SSI)</td>\n",
       "      <td>Social Security Disability Insurance (SSDI), S...</td>\n",
       "      <td>Medicare (Parts A and B)</td>\n",
       "      <td>NaN</td>\n",
       "    </tr>\n",
       "    <tr>\n",
       "      <th>2</th>\n",
       "      <td>\\nPeer Specialist: \"Hi! It’s great to meet you...</td>\n",
       "      <td>Medicare (Parts A and B)</td>\n",
       "      <td>Supplemental Security Income (SSI)</td>\n",
       "      <td>Social Security Disability Insurance (SSDI)</td>\n",
       "      <td>Social Security Retirement Benefits (SSA)</td>\n",
       "    </tr>\n",
       "    <tr>\n",
       "      <th>3</th>\n",
       "      <td>\\nPeer Specialist: \"Good afternoon! How can I ...</td>\n",
       "      <td>Social Security Retirement Benefits (SSA)</td>\n",
       "      <td>Supplemental Security Income (SSI)</td>\n",
       "      <td>Social Security Disability Insurance (SSDI)</td>\n",
       "      <td>Medicare (Parts A and B)</td>\n",
       "    </tr>\n",
       "    <tr>\n",
       "      <th>4</th>\n",
       "      <td>\\nPeer Specialist: \"Hello! How can I assist yo...</td>\n",
       "      <td>Social Security Survivor Benefits (SSA)</td>\n",
       "      <td>Supplemental Security Income (SSI)</td>\n",
       "      <td>Social Security Disability Insurance (SSDI)</td>\n",
       "      <td>Medicare (Parts A and B)</td>\n",
       "    </tr>\n",
       "    <tr>\n",
       "      <th>5</th>\n",
       "      <td>I'm 48 years old and have been running my own ...</td>\n",
       "      <td>NaN</td>\n",
       "      <td>Social Security Disability Insurance (SSDI)</td>\n",
       "      <td>Supplemental Security Income (SSI), Medicare (...</td>\n",
       "      <td>Social Security Retirement Benefits (SSA))</td>\n",
       "    </tr>\n",
       "    <tr>\n",
       "      <th>6</th>\n",
       "      <td>I’m 58 years old and currently working part-ti...</td>\n",
       "      <td>NaN</td>\n",
       "      <td>Supplemental Security Income (SSI)</td>\n",
       "      <td>Social Security Disability Insurance (SSDI), S...</td>\n",
       "      <td>Medicare (Parts A and B)</td>\n",
       "    </tr>\n",
       "    <tr>\n",
       "      <th>7</th>\n",
       "      <td>I’m a 67-year-old retired teacher. I spent ove...</td>\n",
       "      <td>Social Security Retirement Benefits (SSA), Med...</td>\n",
       "      <td>Supplemental Security Income (SSI)</td>\n",
       "      <td>Social Security Disability Insurance (SSDI)</td>\n",
       "      <td>NaN</td>\n",
       "    </tr>\n",
       "    <tr>\n",
       "      <th>8</th>\n",
       "      <td>I am a 35-year-old single parent with two chil...</td>\n",
       "      <td>Social Security Disability Insurance (SSDI)</td>\n",
       "      <td>Supplemental Security Income (SSI)</td>\n",
       "      <td>Social Security Retirement Benefits (SSA)</td>\n",
       "      <td>Medicare (Parts A and B)</td>\n",
       "    </tr>\n",
       "    <tr>\n",
       "      <th>9</th>\n",
       "      <td>I am a 60-year-old individual, currently worki...</td>\n",
       "      <td>Supplemental Security Income (SSI)</td>\n",
       "      <td>Social Security Retirement Benefits (SSA)</td>\n",
       "      <td>Social Security Disability Insurance (SSDI)</td>\n",
       "      <td>Medicare (Parts A and B)</td>\n",
       "    </tr>\n",
       "  </tbody>\n",
       "</table>\n",
       "</div>"
      ],
      "text/plain": [
       "                                          input_text  \\\n",
       "0  \\nPeer Specialist: \"Good afternoon! How can I ...   \n",
       "1  \\nPeer Specialist: \"Hello! I’m glad you reache...   \n",
       "2  \\nPeer Specialist: \"Hi! It’s great to meet you...   \n",
       "3  \\nPeer Specialist: \"Good afternoon! How can I ...   \n",
       "4  \\nPeer Specialist: \"Hello! How can I assist yo...   \n",
       "5  I'm 48 years old and have been running my own ...   \n",
       "6  I’m 58 years old and currently working part-ti...   \n",
       "7  I’m a 67-year-old retired teacher. I spent ove...   \n",
       "8  I am a 35-year-old single parent with two chil...   \n",
       "9  I am a 60-year-old individual, currently worki...   \n",
       "\n",
       "                                        100_eligible  \\\n",
       "0                                                NaN   \n",
       "1                 Supplemental Security Income (SSI)   \n",
       "2                           Medicare (Parts A and B)   \n",
       "3          Social Security Retirement Benefits (SSA)   \n",
       "4            Social Security Survivor Benefits (SSA)   \n",
       "5                                                NaN   \n",
       "6                                                NaN   \n",
       "7  Social Security Retirement Benefits (SSA), Med...   \n",
       "8        Social Security Disability Insurance (SSDI)   \n",
       "9                 Supplemental Security Income (SSI)   \n",
       "\n",
       "                                     likely_eligible  \\\n",
       "0                 Supplemental Security Income (SSI)   \n",
       "1  Social Security Disability Insurance (SSDI), S...   \n",
       "2                 Supplemental Security Income (SSI)   \n",
       "3                 Supplemental Security Income (SSI)   \n",
       "4                 Supplemental Security Income (SSI)   \n",
       "5        Social Security Disability Insurance (SSDI)   \n",
       "6                 Supplemental Security Income (SSI)   \n",
       "7                 Supplemental Security Income (SSI)   \n",
       "8                 Supplemental Security Income (SSI)   \n",
       "9          Social Security Retirement Benefits (SSA)   \n",
       "\n",
       "                                      maybe_eligible  \\\n",
       "0  Social Security Disability Insurance (SSDI),Me...   \n",
       "1                           Medicare (Parts A and B)   \n",
       "2        Social Security Disability Insurance (SSDI)   \n",
       "3        Social Security Disability Insurance (SSDI)   \n",
       "4        Social Security Disability Insurance (SSDI)   \n",
       "5  Supplemental Security Income (SSI), Medicare (...   \n",
       "6  Social Security Disability Insurance (SSDI), S...   \n",
       "7        Social Security Disability Insurance (SSDI)   \n",
       "8          Social Security Retirement Benefits (SSA)   \n",
       "9        Social Security Disability Insurance (SSDI)   \n",
       "\n",
       "                                 not_eligible  \n",
       "0   Social Security Retirement Benefits (SSA)  \n",
       "1                                         NaN  \n",
       "2   Social Security Retirement Benefits (SSA)  \n",
       "3                    Medicare (Parts A and B)  \n",
       "4                    Medicare (Parts A and B)  \n",
       "5  Social Security Retirement Benefits (SSA))  \n",
       "6                    Medicare (Parts A and B)  \n",
       "7                                         NaN  \n",
       "8                    Medicare (Parts A and B)  \n",
       "9                    Medicare (Parts A and B)  "
      ]
     },
     "execution_count": 2,
     "metadata": {},
     "output_type": "execute_result"
    }
   ],
   "source": [
    "df = pd.read_csv('sample_eligibility_dataset.csv')\n",
    "df"
   ]
  },
  {
   "cell_type": "code",
   "execution_count": 16,
   "id": "0e98a995",
   "metadata": {},
   "outputs": [
    {
     "data": {
      "text/plain": [
       "'\\nPeer Specialist: \"Good afternoon! How can I help you today?\"\\n\\nClient: \"I’m 40 years old and have been working as a freelancer for the past few years. My income varies, but it’s usually around $2,500 a month. I don’t have any savings to speak of—maybe $300 in my account. My husband also works, and we manage our expenses together.\"\\n\\nPeer Specialist: \"It sounds like things are tight. Do you have any health issues that affect your ability to work?\"\\n\\nClient: \"Not exactly, but I’ve been dealing with chronic fatigue, and I’ve noticed it’s been harder to keep up with my work. I’ve been to doctors, but I haven’t received a clear diagnosis yet. I’m able to keep working, but it’s starting to wear me down.\"\\n\\nPeer Specialist: \"That must be frustrating. Have you applied for any benefits or thought about applying?\"\\n\\nClient: \"I haven’t. I wasn’t sure if I would even qualify for anything since I’m still working, and my condition isn’t officially diagnosed.\"\\n\\nPeer Specialist: \"That’s understandable. Let\\'s look into your situation and see what might be available.\"\\n'"
      ]
     },
     "execution_count": 16,
     "metadata": {},
     "output_type": "execute_result"
    }
   ],
   "source": [
    "df.input_text.iloc[0]"
   ]
  },
  {
   "cell_type": "code",
   "execution_count": 6,
   "id": "044eada5",
   "metadata": {},
   "outputs": [
    {
     "data": {
      "text/plain": [
       "'I am a 60-year-old individual, currently working part-time. My monthly income is about $1,200, and I have around $1,500 in savings. I am single, and I live alone. I’ve worked for around 20 years in total, but I’ve had to reduce my hours due to some recent health issues that don’t fully prevent me from working. I’m not considered disabled, but I do experience some mobility challenges. I am not currently receiving any benefits and am looking for financial assistance to help cover my living expenses and medical costs'"
      ]
     },
     "execution_count": 6,
     "metadata": {},
     "output_type": "execute_result"
    }
   ],
   "source": [
    "df.input_text.iloc[9]"
   ]
  },
  {
   "cell_type": "markdown",
   "id": "c6e254da",
   "metadata": {},
   "source": [
    "## Results"
   ]
  },
  {
   "cell_type": "markdown",
   "id": "f85fe742",
   "metadata": {},
   "source": [
    "### Information Extraction Results\n",
    "- text 0: All correct\n",
    "- text 1: All correct\n",
    "- text 2: All correct\n",
    "- text 3: All correct\n",
    "- text 4: All correct\n",
    "- text 5: All correct\n",
    "- text 6: All correct\n",
    "- text 7: All correct\n",
    "- text 8: All correct\n",
    "- text 9: All correct\n",
    "\n",
    "### Eligibility Classification Results\n",
    "- text 0: (miss classified Medicare) (LLM: maybe_eligible, Label: not_eligible)\n",
    "- text 1: (miss classified SSI) (LLM: likely_eligible, Label: 100%)\n",
    "- text 2: (miss classified Medicare) (LLM: likely_eligible: Label: 100%)\n",
    "- text 3: (miss classified SSA) (LLM: likely_eligible: Label: 100%)\n",
    "- text 4: (miss classified SSA) (LLM: likely_eligible: Label: 100%)\n",
    "- text 5: All correct\n",
    "- text 6: All correct\n",
    "- text 7: (miss classified SSDI) (LLM: not_eligible: Label: maybe)\n",
    "- text 8: (miss classified SSDI) (LLM: likely_eligible, Label: 100%)\n",
    "- text 9: (miss classified SSI) (LLM:likely_eligible, Label: 100%)"
   ]
  },
  {
   "cell_type": "code",
   "execution_count": null,
   "id": "83c3da9d",
   "metadata": {},
   "outputs": [],
   "source": []
  }
 ],
 "metadata": {
  "kernelspec": {
   "display_name": "Python 3 (ipykernel)",
   "language": "python",
   "name": "python3"
  },
  "language_info": {
   "codemirror_mode": {
    "name": "ipython",
    "version": 3
   },
   "file_extension": ".py",
   "mimetype": "text/x-python",
   "name": "python",
   "nbconvert_exporter": "python",
   "pygments_lexer": "ipython3",
   "version": "3.9.13"
  }
 },
 "nbformat": 4,
 "nbformat_minor": 5
}
